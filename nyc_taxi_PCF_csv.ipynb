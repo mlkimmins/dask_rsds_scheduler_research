{
 "cells": [
  {
   "cell_type": "markdown",
   "id": "949f48cd-3ad1-41a7-8b19-e9f4810274ea",
   "metadata": {},
   "source": [
    "# download, prepopulate all the csv into minio"
   ]
  },
  {
   "cell_type": "code",
   "execution_count": null,
   "id": "63365ffe-dffb-4cbb-9fe0-63919f1d0ea7",
   "metadata": {},
   "outputs": [],
   "source": []
  },
  {
   "cell_type": "code",
   "execution_count": 34,
   "id": "1243cc43-8a77-4413-8e0d-544d4fcff170",
   "metadata": {},
   "outputs": [],
   "source": [
    "import pandas as pd\n",
    "# import pyarrow as pa\n",
    "# import pyarrow.parquet as pq\n",
    "import pandas as pd\n",
    "import dask.dataframe as dd\n",
    "from dask import delayed"
   ]
  },
  {
   "cell_type": "code",
   "execution_count": 2,
   "id": "1bc53c37-a8ab-488a-8b2b-f00c275699e9",
   "metadata": {},
   "outputs": [],
   "source": [
    "import dask.dataframe as dd\n",
    "import pandas as pd\n",
    "import numpy as np\n",
    "from dask.distributed import Client, LocalCluster\n",
    "import dask\n",
    "from dask.distributed import get_task_stream"
   ]
  },
  {
   "cell_type": "code",
   "execution_count": 3,
   "id": "c1b3d181-752d-4491-9800-401f465ea12b",
   "metadata": {},
   "outputs": [],
   "source": [
    "import time"
   ]
  },
  {
   "cell_type": "code",
   "execution_count": 4,
   "id": "73e18a36-926e-4c11-943d-24aa8cccd5f1",
   "metadata": {},
   "outputs": [
    {
     "name": "stdout",
     "output_type": "stream",
     "text": [
      "pandas version: 1.3.5\n",
      "numpy version: 1.22.2\n",
      "dask version: 2021.09.1\n"
     ]
    }
   ],
   "source": [
    "print('pandas version: %s' % pd.__version__)\n",
    "print('numpy version: %s' % np.__version__)\n",
    "print('dask version: %s' % dask.__version__)"
   ]
  },
  {
   "cell_type": "markdown",
   "id": "cff9eedc-d656-4f0b-9ba6-54ee4029e27d",
   "metadata": {},
   "source": [
    "https://docs.databricks.com/_static/notebooks/koalas-benchmark-distributed-execution.html?_ga=2.216403934.95291449.1648935555-599276868.1645477063"
   ]
  },
  {
   "cell_type": "code",
   "execution_count": 5,
   "id": "6805db2b-839c-4ba9-917c-98835feb1dc9",
   "metadata": {},
   "outputs": [],
   "source": [
    "filename = \"taxi_dataset_2009-13.txt\""
   ]
  },
  {
   "cell_type": "code",
   "execution_count": 6,
   "id": "0d1d1452-aeaa-467a-9199-10177ecd2633",
   "metadata": {},
   "outputs": [],
   "source": [
    "with open(filename) as file:\n",
    "    csv_files = [line.rstrip() for line in file]\n",
    "# only choose yellow taxis\n",
    "yellow = list(filter(lambda x: \"yellow\" in x, csv_files))"
   ]
  },
  {
   "cell_type": "code",
   "execution_count": null,
   "id": "25f3a47a-f2e7-4465-ba29-322d67d1c81d",
   "metadata": {},
   "outputs": [],
   "source": []
  },
  {
   "cell_type": "code",
   "execution_count": 7,
   "id": "c1a9594a-11ad-4e1f-8e2b-548c89b277ce",
   "metadata": {
    "scrolled": true
   },
   "outputs": [],
   "source": [
    "# make the list small for now\n",
    "# yellow = ['https://s3.amazonaws.com/nyc-tlc/trip+data/yellow_tripdata_2013-11.csv']"
   ]
  },
  {
   "cell_type": "code",
   "execution_count": 8,
   "id": "ccf2c4b7-69bb-4aa7-8f80-b1089cac5ea9",
   "metadata": {
    "tags": []
   },
   "outputs": [],
   "source": [
    "# yellow"
   ]
  },
  {
   "cell_type": "code",
   "execution_count": null,
   "id": "eb9d0a86-6ec6-44a9-9dfd-573cb991014b",
   "metadata": {
    "tags": []
   },
   "outputs": [],
   "source": []
  },
  {
   "cell_type": "code",
   "execution_count": null,
   "id": "a050e0b9-036e-48d4-9e68-ed65839ba123",
   "metadata": {},
   "outputs": [],
   "source": []
  },
  {
   "cell_type": "markdown",
   "id": "bad4c716-c66f-4ef4-9e52-bbbe9ccb7ff9",
   "metadata": {},
   "source": [
    "# Configure minio"
   ]
  },
  {
   "cell_type": "code",
   "execution_count": 10,
   "id": "d28883b1-34f7-4146-af01-1b50a27916ae",
   "metadata": {},
   "outputs": [],
   "source": [
    "import getpass"
   ]
  },
  {
   "cell_type": "code",
   "execution_count": 11,
   "id": "8c2f3c52-c68f-4e82-bf2f-0d75a974af33",
   "metadata": {},
   "outputs": [
    {
     "name": "stdin",
     "output_type": "stream",
     "text": [
      " ····\n",
      " ···············································\n"
     ]
    }
   ],
   "source": [
    "\n",
    "\n",
    "#tag::minio_storage_options[]\n",
    "# straight from holden's example\n",
    "minio_storage_options = {\n",
    "    \"key\": getpass.getpass(),\n",
    "    \"secret\": getpass.getpass(),\n",
    "    \"client_kwargs\": {\n",
    "        # \"endpoint_url\": \"http://minio-1602984784.minio.svc.cluster.local:9000\",\n",
    "        # \"endpoint_url\": \"http://minio.pigscanfly.ca:9000\",\n",
    "        \"endpoint_url\": \"http://10.43.207.163:9000\",\n",
    "        \"region_name\": 'us-east-1'\n",
    "    },\n",
    "    \"config_kwargs\": {\"s3\": {\"signature_version\": 's3v4'}},\n",
    "}\n",
    "#end::minio_storage_options[]"
   ]
  },
  {
   "cell_type": "code",
   "execution_count": null,
   "id": "02b024cd-2674-4869-8472-87d7714d7bfa",
   "metadata": {},
   "outputs": [],
   "source": []
  },
  {
   "cell_type": "code",
   "execution_count": 8,
   "id": "a0a24e4f-d895-4014-b899-e15ddcf1ec2d",
   "metadata": {},
   "outputs": [
    {
     "name": "stdout",
     "output_type": "stream",
     "text": [
      "Collecting pyarrow\n",
      "  Using cached pyarrow-7.0.0-cp38-cp38-manylinux_2_17_aarch64.manylinux2014_aarch64.whl (24.9 MB)\n",
      "Requirement already satisfied: numpy>=1.16.6 in /opt/conda/lib/python3.8/site-packages (from pyarrow) (1.22.2)\n",
      "Installing collected packages: pyarrow\n",
      "Successfully installed pyarrow-7.0.0\n"
     ]
    }
   ],
   "source": [
    "# !pip install pyarrow"
   ]
  },
  {
   "cell_type": "code",
   "execution_count": 12,
   "id": "12cc6c86-b246-457e-a499-6a34f6dbe2e1",
   "metadata": {},
   "outputs": [],
   "source": [
    "# !conda install -c conda-forge s3fs"
   ]
  },
  {
   "cell_type": "code",
   "execution_count": 25,
   "id": "1289c68d-09aa-4e3b-b872-e06f492131ec",
   "metadata": {
    "collapsed": true,
    "jupyter": {
     "outputs_hidden": true
    },
    "tags": []
   },
   "outputs": [
    {
     "name": "stdout",
     "output_type": "stream",
     "text": [
      "Requirement already satisfied: fsspec[s3] in /opt/conda/lib/python3.8/site-packages (2022.3.0)\n",
      "Requirement already satisfied: aiohttp in /opt/conda/lib/python3.8/site-packages (3.8.1)\n",
      "Requirement already satisfied: s3fs in /opt/conda/lib/python3.8/site-packages (from fsspec[s3]) (2022.3.0)\n",
      "Requirement already satisfied: charset-normalizer<3.0,>=2.0 in /opt/conda/lib/python3.8/site-packages (from aiohttp) (2.0.12)\n",
      "Requirement already satisfied: attrs>=17.3.0 in /opt/conda/lib/python3.8/site-packages (from aiohttp) (21.4.0)\n",
      "Requirement already satisfied: multidict<7.0,>=4.5 in /opt/conda/lib/python3.8/site-packages (from aiohttp) (6.0.2)\n",
      "Requirement already satisfied: frozenlist>=1.1.1 in /opt/conda/lib/python3.8/site-packages (from aiohttp) (1.3.0)\n",
      "Requirement already satisfied: async-timeout<5.0,>=4.0.0a3 in /opt/conda/lib/python3.8/site-packages (from aiohttp) (4.0.2)\n",
      "Requirement already satisfied: yarl<2.0,>=1.0 in /opt/conda/lib/python3.8/site-packages (from aiohttp) (1.7.2)\n",
      "Requirement already satisfied: aiosignal>=1.1.2 in /opt/conda/lib/python3.8/site-packages (from aiohttp) (1.2.0)\n",
      "Requirement already satisfied: idna>=2.0 in /opt/conda/lib/python3.8/site-packages (from yarl<2.0,>=1.0->aiohttp) (3.3)\n",
      "Requirement already satisfied: aiobotocore~=2.2.0 in /opt/conda/lib/python3.8/site-packages (from s3fs->fsspec[s3]) (2.2.0)\n",
      "Requirement already satisfied: aioitertools>=0.5.1 in /opt/conda/lib/python3.8/site-packages (from aiobotocore~=2.2.0->s3fs->fsspec[s3]) (0.10.0)\n",
      "Requirement already satisfied: wrapt>=1.10.10 in /opt/conda/lib/python3.8/site-packages (from aiobotocore~=2.2.0->s3fs->fsspec[s3]) (1.14.1)\n",
      "Requirement already satisfied: botocore<1.24.22,>=1.24.21 in /opt/conda/lib/python3.8/site-packages (from aiobotocore~=2.2.0->s3fs->fsspec[s3]) (1.24.21)\n",
      "Requirement already satisfied: typing_extensions>=4.0 in /opt/conda/lib/python3.8/site-packages (from aioitertools>=0.5.1->aiobotocore~=2.2.0->s3fs->fsspec[s3]) (4.1.1)\n",
      "Requirement already satisfied: urllib3<1.27,>=1.25.4 in /opt/conda/lib/python3.8/site-packages (from botocore<1.24.22,>=1.24.21->aiobotocore~=2.2.0->s3fs->fsspec[s3]) (1.26.8)\n",
      "Requirement already satisfied: jmespath<2.0.0,>=0.7.1 in /opt/conda/lib/python3.8/site-packages (from botocore<1.24.22,>=1.24.21->aiobotocore~=2.2.0->s3fs->fsspec[s3]) (1.0.0)\n",
      "Requirement already satisfied: python-dateutil<3.0.0,>=2.1 in /opt/conda/lib/python3.8/site-packages (from botocore<1.24.22,>=1.24.21->aiobotocore~=2.2.0->s3fs->fsspec[s3]) (2.8.2)\n",
      "Requirement already satisfied: six>=1.5 in /opt/conda/lib/python3.8/site-packages (from python-dateutil<3.0.0,>=2.1->botocore<1.24.22,>=1.24.21->aiobotocore~=2.2.0->s3fs->fsspec[s3]) (1.16.0)\n"
     ]
    }
   ],
   "source": [
    "# !pip install fsspec[s3] aiohttp"
   ]
  },
  {
   "cell_type": "code",
   "execution_count": 12,
   "id": "d44f4d96-4188-460f-9721-69244a0f8e7c",
   "metadata": {},
   "outputs": [],
   "source": [
    "# import pyarrow"
   ]
  },
  {
   "cell_type": "code",
   "execution_count": 29,
   "id": "d4fb04c4-a0aa-4214-9add-499598e831f7",
   "metadata": {
    "collapsed": true,
    "jupyter": {
     "outputs_hidden": true
    },
    "tags": []
   },
   "outputs": [
    {
     "data": {
      "text/plain": [
       "['https://s3.amazonaws.com/nyc-tlc/trip+data/yellow_tripdata_2013-01.csv',\n",
       " 'https://s3.amazonaws.com/nyc-tlc/trip+data/yellow_tripdata_2013-02.csv',\n",
       " 'https://s3.amazonaws.com/nyc-tlc/trip+data/yellow_tripdata_2013-03.csv',\n",
       " 'https://s3.amazonaws.com/nyc-tlc/trip+data/yellow_tripdata_2013-04.csv',\n",
       " 'https://s3.amazonaws.com/nyc-tlc/trip+data/yellow_tripdata_2013-05.csv',\n",
       " 'https://s3.amazonaws.com/nyc-tlc/trip+data/yellow_tripdata_2013-06.csv',\n",
       " 'https://s3.amazonaws.com/nyc-tlc/trip+data/yellow_tripdata_2013-07.csv',\n",
       " 'https://s3.amazonaws.com/nyc-tlc/trip+data/yellow_tripdata_2013-08.csv',\n",
       " 'https://s3.amazonaws.com/nyc-tlc/trip+data/yellow_tripdata_2013-09.csv',\n",
       " 'https://s3.amazonaws.com/nyc-tlc/trip+data/yellow_tripdata_2013-10.csv',\n",
       " 'https://s3.amazonaws.com/nyc-tlc/trip+data/yellow_tripdata_2013-11.csv',\n",
       " 'https://s3.amazonaws.com/nyc-tlc/trip+data/yellow_tripdata_2013-12.csv',\n",
       " 'https://s3.amazonaws.com/nyc-tlc/trip+data/yellow_tripdata_2012-01.csv',\n",
       " 'https://s3.amazonaws.com/nyc-tlc/trip+data/yellow_tripdata_2012-02.csv',\n",
       " 'https://s3.amazonaws.com/nyc-tlc/trip+data/yellow_tripdata_2012-03.csv',\n",
       " 'https://s3.amazonaws.com/nyc-tlc/trip+data/yellow_tripdata_2012-04.csv',\n",
       " 'https://s3.amazonaws.com/nyc-tlc/trip+data/yellow_tripdata_2012-05.csv',\n",
       " 'https://s3.amazonaws.com/nyc-tlc/trip+data/yellow_tripdata_2012-06.csv',\n",
       " 'https://s3.amazonaws.com/nyc-tlc/trip+data/yellow_tripdata_2012-07.csv',\n",
       " 'https://s3.amazonaws.com/nyc-tlc/trip+data/yellow_tripdata_2012-08.csv',\n",
       " 'https://s3.amazonaws.com/nyc-tlc/trip+data/yellow_tripdata_2012-09.csv',\n",
       " 'https://s3.amazonaws.com/nyc-tlc/trip+data/yellow_tripdata_2012-10.csv',\n",
       " 'https://s3.amazonaws.com/nyc-tlc/trip+data/yellow_tripdata_2012-11.csv',\n",
       " 'https://s3.amazonaws.com/nyc-tlc/trip+data/yellow_tripdata_2012-12.csv',\n",
       " 'https://s3.amazonaws.com/nyc-tlc/trip+data/yellow_tripdata_2011-01.csv',\n",
       " 'https://s3.amazonaws.com/nyc-tlc/trip+data/yellow_tripdata_2011-02.csv',\n",
       " 'https://s3.amazonaws.com/nyc-tlc/trip+data/yellow_tripdata_2011-03.csv',\n",
       " 'https://s3.amazonaws.com/nyc-tlc/trip+data/yellow_tripdata_2011-04.csv',\n",
       " 'https://s3.amazonaws.com/nyc-tlc/trip+data/yellow_tripdata_2011-05.csv',\n",
       " 'https://s3.amazonaws.com/nyc-tlc/trip+data/yellow_tripdata_2011-06.csv',\n",
       " 'https://s3.amazonaws.com/nyc-tlc/trip+data/yellow_tripdata_2011-07.csv',\n",
       " 'https://s3.amazonaws.com/nyc-tlc/trip+data/yellow_tripdata_2011-08.csv',\n",
       " 'https://s3.amazonaws.com/nyc-tlc/trip+data/yellow_tripdata_2011-09.csv',\n",
       " 'https://s3.amazonaws.com/nyc-tlc/trip+data/yellow_tripdata_2011-10.csv',\n",
       " 'https://s3.amazonaws.com/nyc-tlc/trip+data/yellow_tripdata_2011-11.csv',\n",
       " 'https://s3.amazonaws.com/nyc-tlc/trip+data/yellow_tripdata_2011-12.csv',\n",
       " 'https://s3.amazonaws.com/nyc-tlc/trip+data/yellow_tripdata_2010-01.csv',\n",
       " 'https://s3.amazonaws.com/nyc-tlc/trip+data/yellow_tripdata_2010-02.csv',\n",
       " 'https://s3.amazonaws.com/nyc-tlc/trip+data/yellow_tripdata_2010-03.csv',\n",
       " 'https://s3.amazonaws.com/nyc-tlc/trip+data/yellow_tripdata_2010-04.csv',\n",
       " 'https://s3.amazonaws.com/nyc-tlc/trip+data/yellow_tripdata_2010-05.csv',\n",
       " 'https://s3.amazonaws.com/nyc-tlc/trip+data/yellow_tripdata_2010-06.csv',\n",
       " 'https://s3.amazonaws.com/nyc-tlc/trip+data/yellow_tripdata_2010-07.csv',\n",
       " 'https://s3.amazonaws.com/nyc-tlc/trip+data/yellow_tripdata_2010-08.csv',\n",
       " 'https://s3.amazonaws.com/nyc-tlc/trip+data/yellow_tripdata_2010-09.csv',\n",
       " 'https://s3.amazonaws.com/nyc-tlc/trip+data/yellow_tripdata_2010-10.csv',\n",
       " 'https://s3.amazonaws.com/nyc-tlc/trip+data/yellow_tripdata_2010-11.csv',\n",
       " 'https://s3.amazonaws.com/nyc-tlc/trip+data/yellow_tripdata_2010-12.csv',\n",
       " 'https://s3.amazonaws.com/nyc-tlc/trip+data/yellow_tripdata_2009-01.csv',\n",
       " 'https://s3.amazonaws.com/nyc-tlc/trip+data/yellow_tripdata_2009-02.csv',\n",
       " 'https://s3.amazonaws.com/nyc-tlc/trip+data/yellow_tripdata_2009-03.csv',\n",
       " 'https://s3.amazonaws.com/nyc-tlc/trip+data/yellow_tripdata_2009-04.csv',\n",
       " 'https://s3.amazonaws.com/nyc-tlc/trip+data/yellow_tripdata_2009-05.csv',\n",
       " 'https://s3.amazonaws.com/nyc-tlc/trip+data/yellow_tripdata_2009-06.csv',\n",
       " 'https://s3.amazonaws.com/nyc-tlc/trip+data/yellow_tripdata_2009-07.csv',\n",
       " 'https://s3.amazonaws.com/nyc-tlc/trip+data/yellow_tripdata_2009-08.csv',\n",
       " 'https://s3.amazonaws.com/nyc-tlc/trip+data/yellow_tripdata_2009-09.csv']"
      ]
     },
     "execution_count": 29,
     "metadata": {},
     "output_type": "execute_result"
    }
   ],
   "source": []
  },
  {
   "cell_type": "code",
   "execution_count": 30,
   "id": "bbc273fa-43b7-4fab-b43e-65b0ce723af7",
   "metadata": {},
   "outputs": [],
   "source": []
  },
  {
   "cell_type": "code",
   "execution_count": 11,
   "id": "712e3300-f424-4045-8943-21383b1f55d9",
   "metadata": {},
   "outputs": [
    {
     "data": {
      "text/plain": [
       "60"
      ]
     },
     "execution_count": 11,
     "metadata": {},
     "output_type": "execute_result"
    }
   ],
   "source": [
    "len(yellow)"
   ]
  },
  {
   "cell_type": "code",
   "execution_count": 12,
   "id": "9375273a-43b4-401b-82d7-8555bd747696",
   "metadata": {},
   "outputs": [],
   "source": [
    "# yellow = yellow[:3]"
   ]
  },
  {
   "cell_type": "code",
   "execution_count": 13,
   "id": "631c49b8-28f6-4820-89e0-1e2dd8b9f09a",
   "metadata": {},
   "outputs": [
    {
     "data": {
      "text/plain": [
       "['https://s3.amazonaws.com/nyc-tlc/trip+data/yellow_tripdata_2013-01.csv',\n",
       " 'https://s3.amazonaws.com/nyc-tlc/trip+data/yellow_tripdata_2013-02.csv',\n",
       " 'https://s3.amazonaws.com/nyc-tlc/trip+data/yellow_tripdata_2013-03.csv']"
      ]
     },
     "execution_count": 13,
     "metadata": {},
     "output_type": "execute_result"
    }
   ],
   "source": [
    "# yellow"
   ]
  },
  {
   "cell_type": "code",
   "execution_count": null,
   "id": "e8bd8b69-8eea-445b-b440-ed07da6633f6",
   "metadata": {},
   "outputs": [],
   "source": []
  },
  {
   "cell_type": "markdown",
   "id": "076a2f71-b579-4975-83e6-9fe323d2bd86",
   "metadata": {},
   "source": [
    "# spin up cluster"
   ]
  },
  {
   "cell_type": "code",
   "execution_count": 39,
   "id": "9830b1c8-a587-4feb-97a4-95db3cd4f163",
   "metadata": {},
   "outputs": [],
   "source": [
    "from dask.distributed import get_task_stream\n",
    "from dask.distributed import Client\n",
    "from dask_kubernetes import KubeCluster"
   ]
  },
  {
   "cell_type": "code",
   "execution_count": 42,
   "id": "44eb1ca4-4eb7-422c-9d3a-082d142add0f",
   "metadata": {
    "tags": []
   },
   "outputs": [],
   "source": [
    "#tag::make_dask_k8s_client[]\n",
    "import dask\n",
    "from dask.distributed import Client\n",
    "\n",
    "from dask_kubernetes import KubeCluster, make_pod_spec\n",
    "worker_template = make_pod_spec(image='holdenk/dask:latest',\n",
    "                         memory_limit='8G', memory_request='8G',\n",
    "                         cpu_limit=1, cpu_request=1, extra_container_config={ \"imagePullPolicy\": \"Always\" })\n",
    "scheduler_template = make_pod_spec(image='holdenk/dask:latest',\n",
    "                         memory_limit='4G', memory_request='4G',\n",
    "                         cpu_limit=1, cpu_request=1, extra_container_config={ \"imagePullPolicy\": \"Always\" })\n"
   ]
  },
  {
   "cell_type": "code",
   "execution_count": 43,
   "id": "971fe6b8-9100-4e1f-9f74-7dc3e6953381",
   "metadata": {},
   "outputs": [
    {
     "name": "stdout",
     "output_type": "stream",
     "text": [
      "Creating scheduler pod on cluster. This may take some time.\n"
     ]
    },
    {
     "name": "stderr",
     "output_type": "stream",
     "text": [
      "distributed.deploy.adaptive - INFO - Adaptive scaling started: minimum=1 maximum=inf\n",
      "/opt/conda/lib/python3.8/site-packages/distributed/client.py:1123: VersionMismatchWarning: Mismatched versions found\n",
      "\n",
      "+-------------+-----------+-----------+---------+\n",
      "| Package     | client    | scheduler | workers |\n",
      "+-------------+-----------+-----------+---------+\n",
      "| dask        | 2021.09.1 | 2022.02.0 | None    |\n",
      "| distributed | 2021.09.1 | 2022.02.0 | None    |\n",
      "+-------------+-----------+-----------+---------+\n",
      "  warnings.warn(version_module.VersionMismatchWarning(msg[0][\"warning\"]))\n"
     ]
    }
   ],
   "source": [
    "cluster = KubeCluster(pod_template = worker_template, scheduler_pod_template = scheduler_template)\n",
    "cluster.adapt(minimum=1)    # or create and destroy workers dynamically based on workload\n",
    "from dask.distributed import Client\n",
    "client = Client(cluster)\n",
    "#end::make_dask_k8s_client[]"
   ]
  },
  {
   "cell_type": "code",
   "execution_count": 44,
   "id": "155e67d0-7eb2-4102-b480-dec2d0d1a0e3",
   "metadata": {},
   "outputs": [
    {
     "data": {
      "text/html": [
       "<div>\n",
       "    <div style=\"width: 24px; height: 24px; background-color: #e1e1e1; border: 3px solid #9D9D9D; border-radius: 5px; position: absolute;\"> </div>\n",
       "    <div style=\"margin-left: 48px;\">\n",
       "        <h3 style=\"margin-bottom: 0px;\">Client</h3>\n",
       "        <p style=\"color: #9D9D9D; margin-bottom: 0px;\">Client-11f9769e-cfbb-11ec-805f-6ec701fe407f</p>\n",
       "        <table style=\"width: 100%; text-align: left;\">\n",
       "\n",
       "        <tr>\n",
       "        \n",
       "            <td style=\"text-align: left;\"><strong>Connection method:</strong> Cluster object</td>\n",
       "            <td style=\"text-align: left;\"><strong>Cluster type:</strong> dask_kubernetes.KubeCluster</td>\n",
       "        \n",
       "        </tr>\n",
       "\n",
       "        \n",
       "            <tr>\n",
       "                <td style=\"text-align: left;\">\n",
       "                    <strong>Dashboard: </strong> <a href=\"http://dask-jovyan-c460a5e1-5.default:8787/status\" target=\"_blank\">http://dask-jovyan-c460a5e1-5.default:8787/status</a>\n",
       "                </td>\n",
       "                <td style=\"text-align: left;\"></td>\n",
       "            </tr>\n",
       "        \n",
       "\n",
       "        </table>\n",
       "\n",
       "        \n",
       "            <details>\n",
       "            <summary style=\"margin-bottom: 20px;\"><h3 style=\"display: inline;\">Cluster Info</h3></summary>\n",
       "            <div class=\"jp-RenderedHTMLCommon jp-RenderedHTML jp-mod-trusted jp-OutputArea-output\">\n",
       "    <div style=\"width: 24px; height: 24px; background-color: #e1e1e1; border: 3px solid #9D9D9D; border-radius: 5px; position: absolute;\">\n",
       "    </div>\n",
       "    <div style=\"margin-left: 48px;\">\n",
       "        <h3 style=\"margin-bottom: 0px; margin-top: 0px;\">KubeCluster</h3>\n",
       "        <p style=\"color: #9D9D9D; margin-bottom: 0px;\">dask-jovyan-c460a5e1-5</p>\n",
       "        <table style=\"width: 100%; text-align: left;\">\n",
       "            <tr>\n",
       "                <td style=\"text-align: left;\">\n",
       "                    <strong>Dashboard:</strong> <a href=\"http://dask-jovyan-c460a5e1-5.default:8787/status\" target=\"_blank\">http://dask-jovyan-c460a5e1-5.default:8787/status</a>\n",
       "                </td>\n",
       "                <td style=\"text-align: left;\">\n",
       "                    <strong>Workers:</strong> 0\n",
       "                </td>\n",
       "            </tr>\n",
       "            <tr>\n",
       "                <td style=\"text-align: left;\">\n",
       "                    <strong>Total threads:</strong> 0\n",
       "                </td>\n",
       "                <td style=\"text-align: left;\">\n",
       "                    <strong>Total memory:</strong> 0 B\n",
       "                </td>\n",
       "            </tr>\n",
       "            \n",
       "        </table>\n",
       "\n",
       "        <details>\n",
       "            <summary style=\"margin-bottom: 20px;\">\n",
       "                <h3 style=\"display: inline;\">Scheduler Info</h3>\n",
       "            </summary>\n",
       "\n",
       "            <div style=\"\">\n",
       "    <div>\n",
       "        <div style=\"width: 24px; height: 24px; background-color: #FFF7E5; border: 3px solid #FF6132; border-radius: 5px; position: absolute;\"> </div>\n",
       "        <div style=\"margin-left: 48px;\">\n",
       "            <h3 style=\"margin-bottom: 0px;\">Scheduler</h3>\n",
       "            <p style=\"color: #9D9D9D; margin-bottom: 0px;\">Scheduler-f4ef3ff7-1ed2-4119-abca-34c54a77270c</p>\n",
       "            <table style=\"width: 100%; text-align: left;\">\n",
       "                <tr>\n",
       "                    <td style=\"text-align: left;\">\n",
       "                        <strong>Comm:</strong> tcp://10.42.4.85:8786\n",
       "                    </td>\n",
       "                    <td style=\"text-align: left;\">\n",
       "                        <strong>Workers:</strong> 0\n",
       "                    </td>\n",
       "                </tr>\n",
       "                <tr>\n",
       "                    <td style=\"text-align: left;\">\n",
       "                        <strong>Dashboard:</strong> <a href=\"http://10.42.4.85:8787/status\" target=\"_blank\">http://10.42.4.85:8787/status</a>\n",
       "                    </td>\n",
       "                    <td style=\"text-align: left;\">\n",
       "                        <strong>Total threads:</strong> 0\n",
       "                    </td>\n",
       "                </tr>\n",
       "                <tr>\n",
       "                    <td style=\"text-align: left;\">\n",
       "                        <strong>Started:</strong> Just now\n",
       "                    </td>\n",
       "                    <td style=\"text-align: left;\">\n",
       "                        <strong>Total memory:</strong> 0 B\n",
       "                    </td>\n",
       "                </tr>\n",
       "            </table>\n",
       "        </div>\n",
       "    </div>\n",
       "\n",
       "    <details style=\"margin-left: 48px;\">\n",
       "        <summary style=\"margin-bottom: 20px;\">\n",
       "            <h3 style=\"display: inline;\">Workers</h3>\n",
       "        </summary>\n",
       "\n",
       "        \n",
       "\n",
       "    </details>\n",
       "</div>\n",
       "\n",
       "        </details>\n",
       "    </div>\n",
       "</div>\n",
       "            </details>\n",
       "        \n",
       "\n",
       "    </div>\n",
       "</div>"
      ],
      "text/plain": [
       "<Client: 'tcp://10.42.4.85:8786' processes=0 threads=0, memory=0 B>"
      ]
     },
     "execution_count": 44,
     "metadata": {},
     "output_type": "execute_result"
    }
   ],
   "source": [
    "client"
   ]
  },
  {
   "cell_type": "code",
   "execution_count": null,
   "id": "e0c5cd58-155d-4ad5-a931-ef612c66a522",
   "metadata": {},
   "outputs": [],
   "source": []
  },
  {
   "cell_type": "code",
   "execution_count": null,
   "id": "c9b35b9d-f7dc-49dd-86df-d1535dc17b96",
   "metadata": {},
   "outputs": [],
   "source": []
  },
  {
   "cell_type": "code",
   "execution_count": null,
   "id": "43de7ea9-0f95-4710-9ceb-6f88c9de6c15",
   "metadata": {},
   "outputs": [],
   "source": []
  },
  {
   "cell_type": "code",
   "execution_count": 26,
   "id": "adb17bab-d2a4-47cd-82d6-5df0d7b0af01",
   "metadata": {
    "tags": []
   },
   "outputs": [],
   "source": [
    "import re\n",
    "pattern = '/[^\\/]*\\.csv$/gm'\n",
    "\n",
    "csv_urls = [re.findall(r\"[^\\/]*\\.csv$\",csv_url)[0] for csv_url in yellow]\n",
    "\n",
    "csv_urls = yellow"
   ]
  },
  {
   "cell_type": "code",
   "execution_count": 77,
   "id": "d7272e22-e17e-49ff-af09-ace8667c51ae",
   "metadata": {
    "tags": []
   },
   "outputs": [],
   "source": [
    "@dask.delayed\n",
    "def read_csv(url):\n",
    "    try:\n",
    "        df = dd.read_csv(url, dtype={'tolls_amount': 'float64',\n",
    "                                     'tip_amount': 'float64',\n",
    "                                     'Tip_Amt': 'float64',\n",
    "                                     'Tolls_Amt': 'float64',\n",
    "                                     'surcharge': 'float64',\n",
    "                                     'store_and_fwd_flag': 'object'})\n",
    "        return df\n",
    "    except Exception as e:\n",
    "        print(f\"failed, {url}\")\n",
    "        print(e)"
   ]
  },
  {
   "cell_type": "code",
   "execution_count": 78,
   "id": "245f74b5-14d4-4428-90c4-c58812284e45",
   "metadata": {},
   "outputs": [
    {
     "data": {
      "text/plain": [
       "['https://s3.amazonaws.com/nyc-tlc/trip+data/yellow_tripdata_2013-01.csv',\n",
       " 'https://s3.amazonaws.com/nyc-tlc/trip+data/yellow_tripdata_2013-02.csv',\n",
       " 'https://s3.amazonaws.com/nyc-tlc/trip+data/yellow_tripdata_2013-03.csv']"
      ]
     },
     "execution_count": 78,
     "metadata": {},
     "output_type": "execute_result"
    }
   ],
   "source": [
    "csv_urls"
   ]
  },
  {
   "cell_type": "code",
   "execution_count": 87,
   "id": "72e2c992-53b9-4ed3-8f88-82e4cec4e845",
   "metadata": {},
   "outputs": [],
   "source": [
    "x1 = read_csv('https://s3.amazonaws.com/nyc-tlc/trip+data/yellow_tripdata_2013-01.csv')"
   ]
  },
  {
   "cell_type": "code",
   "execution_count": 89,
   "id": "aa560cc4-7b6f-458b-9942-684e3f1e0af4",
   "metadata": {
    "collapsed": true,
    "jupyter": {
     "outputs_hidden": true
    },
    "tags": []
   },
   "outputs": [
    {
     "name": "stderr",
     "output_type": "stream",
     "text": [
      "distributed.protocol.pickle - INFO - Failed to deserialize <memory at 0x7ece9fb400>\n",
      "Traceback (most recent call last):\n",
      "  File \"/opt/conda/lib/python3.8/site-packages/distributed/protocol/pickle.py\", line 75, in loads\n",
      "    return pickle.loads(x)\n",
      "AttributeError: Can't get attribute '_unpickle_block' on <module 'pandas._libs.internals' from '/opt/conda/lib/python3.8/site-packages/pandas/_libs/internals.cpython-38-aarch64-linux-gnu.so'>\n",
      "distributed.protocol.core - CRITICAL - Failed to deserialize\n",
      "Traceback (most recent call last):\n",
      "  File \"/opt/conda/lib/python3.8/site-packages/distributed/protocol/core.py\", line 111, in loads\n",
      "    return msgpack.loads(\n",
      "  File \"msgpack/_unpacker.pyx\", line 194, in msgpack._cmsgpack.unpackb\n",
      "  File \"/opt/conda/lib/python3.8/site-packages/distributed/protocol/core.py\", line 103, in _decode_default\n",
      "    return merge_and_deserialize(\n",
      "  File \"/opt/conda/lib/python3.8/site-packages/distributed/protocol/serialize.py\", line 475, in merge_and_deserialize\n",
      "    return deserialize(header, merged_frames, deserializers=deserializers)\n",
      "  File \"/opt/conda/lib/python3.8/site-packages/distributed/protocol/serialize.py\", line 407, in deserialize\n",
      "    return loads(header, frames)\n",
      "  File \"/opt/conda/lib/python3.8/site-packages/distributed/protocol/serialize.py\", line 86, in pickle_loads\n",
      "    return pickle.loads(x, buffers=new)\n",
      "  File \"/opt/conda/lib/python3.8/site-packages/distributed/protocol/pickle.py\", line 75, in loads\n",
      "    return pickle.loads(x)\n",
      "AttributeError: Can't get attribute '_unpickle_block' on <module 'pandas._libs.internals' from '/opt/conda/lib/python3.8/site-packages/pandas/_libs/internals.cpython-38-aarch64-linux-gnu.so'>\n"
     ]
    },
    {
     "ename": "AttributeError",
     "evalue": "Can't get attribute '_unpickle_block' on <module 'pandas._libs.internals' from '/opt/conda/lib/python3.8/site-packages/pandas/_libs/internals.cpython-38-aarch64-linux-gnu.so'>",
     "output_type": "error",
     "traceback": [
      "\u001b[0;31m---------------------------------------------------------------------------\u001b[0m",
      "\u001b[0;31mAttributeError\u001b[0m                            Traceback (most recent call last)",
      "Input \u001b[0;32mIn [89]\u001b[0m, in \u001b[0;36m<module>\u001b[0;34m\u001b[0m\n\u001b[0;32m----> 1\u001b[0m x2 \u001b[38;5;241m=\u001b[39m \u001b[43mx1\u001b[49m\u001b[38;5;241;43m.\u001b[39;49m\u001b[43mcompute\u001b[49m\u001b[43m(\u001b[49m\u001b[43m)\u001b[49m\n",
      "File \u001b[0;32m/opt/conda/lib/python3.8/site-packages/dask/base.py:288\u001b[0m, in \u001b[0;36mDaskMethodsMixin.compute\u001b[0;34m(self, **kwargs)\u001b[0m\n\u001b[1;32m    264\u001b[0m \u001b[38;5;28;01mdef\u001b[39;00m \u001b[38;5;21mcompute\u001b[39m(\u001b[38;5;28mself\u001b[39m, \u001b[38;5;241m*\u001b[39m\u001b[38;5;241m*\u001b[39mkwargs):\n\u001b[1;32m    265\u001b[0m     \u001b[38;5;124;03m\"\"\"Compute this dask collection\u001b[39;00m\n\u001b[1;32m    266\u001b[0m \n\u001b[1;32m    267\u001b[0m \u001b[38;5;124;03m    This turns a lazy Dask collection into its in-memory equivalent.\u001b[39;00m\n\u001b[0;32m   (...)\u001b[0m\n\u001b[1;32m    286\u001b[0m \u001b[38;5;124;03m    dask.base.compute\u001b[39;00m\n\u001b[1;32m    287\u001b[0m \u001b[38;5;124;03m    \"\"\"\u001b[39;00m\n\u001b[0;32m--> 288\u001b[0m     (result,) \u001b[38;5;241m=\u001b[39m \u001b[43mcompute\u001b[49m\u001b[43m(\u001b[49m\u001b[38;5;28;43mself\u001b[39;49m\u001b[43m,\u001b[49m\u001b[43m \u001b[49m\u001b[43mtraverse\u001b[49m\u001b[38;5;241;43m=\u001b[39;49m\u001b[38;5;28;43;01mFalse\u001b[39;49;00m\u001b[43m,\u001b[49m\u001b[43m \u001b[49m\u001b[38;5;241;43m*\u001b[39;49m\u001b[38;5;241;43m*\u001b[39;49m\u001b[43mkwargs\u001b[49m\u001b[43m)\u001b[49m\n\u001b[1;32m    289\u001b[0m     \u001b[38;5;28;01mreturn\u001b[39;00m result\n",
      "File \u001b[0;32m/opt/conda/lib/python3.8/site-packages/dask/base.py:570\u001b[0m, in \u001b[0;36mcompute\u001b[0;34m(*args, **kwargs)\u001b[0m\n\u001b[1;32m    567\u001b[0m     keys\u001b[38;5;241m.\u001b[39mappend(x\u001b[38;5;241m.\u001b[39m__dask_keys__())\n\u001b[1;32m    568\u001b[0m     postcomputes\u001b[38;5;241m.\u001b[39mappend(x\u001b[38;5;241m.\u001b[39m__dask_postcompute__())\n\u001b[0;32m--> 570\u001b[0m results \u001b[38;5;241m=\u001b[39m \u001b[43mschedule\u001b[49m\u001b[43m(\u001b[49m\u001b[43mdsk\u001b[49m\u001b[43m,\u001b[49m\u001b[43m \u001b[49m\u001b[43mkeys\u001b[49m\u001b[43m,\u001b[49m\u001b[43m \u001b[49m\u001b[38;5;241;43m*\u001b[39;49m\u001b[38;5;241;43m*\u001b[39;49m\u001b[43mkwargs\u001b[49m\u001b[43m)\u001b[49m\n\u001b[1;32m    571\u001b[0m \u001b[38;5;28;01mreturn\u001b[39;00m repack([f(r, \u001b[38;5;241m*\u001b[39ma) \u001b[38;5;28;01mfor\u001b[39;00m r, (f, a) \u001b[38;5;129;01min\u001b[39;00m \u001b[38;5;28mzip\u001b[39m(results, postcomputes)])\n",
      "File \u001b[0;32m/opt/conda/lib/python3.8/site-packages/distributed/client.py:2689\u001b[0m, in \u001b[0;36mClient.get\u001b[0;34m(self, dsk, keys, workers, allow_other_workers, resources, sync, asynchronous, direct, retries, priority, fifo_timeout, actors, **kwargs)\u001b[0m\n\u001b[1;32m   2687\u001b[0m         should_rejoin \u001b[38;5;241m=\u001b[39m \u001b[38;5;28;01mFalse\u001b[39;00m\n\u001b[1;32m   2688\u001b[0m \u001b[38;5;28;01mtry\u001b[39;00m:\n\u001b[0;32m-> 2689\u001b[0m     results \u001b[38;5;241m=\u001b[39m \u001b[38;5;28;43mself\u001b[39;49m\u001b[38;5;241;43m.\u001b[39;49m\u001b[43mgather\u001b[49m\u001b[43m(\u001b[49m\u001b[43mpacked\u001b[49m\u001b[43m,\u001b[49m\u001b[43m \u001b[49m\u001b[43masynchronous\u001b[49m\u001b[38;5;241;43m=\u001b[39;49m\u001b[43masynchronous\u001b[49m\u001b[43m,\u001b[49m\u001b[43m \u001b[49m\u001b[43mdirect\u001b[49m\u001b[38;5;241;43m=\u001b[39;49m\u001b[43mdirect\u001b[49m\u001b[43m)\u001b[49m\n\u001b[1;32m   2690\u001b[0m \u001b[38;5;28;01mfinally\u001b[39;00m:\n\u001b[1;32m   2691\u001b[0m     \u001b[38;5;28;01mfor\u001b[39;00m f \u001b[38;5;129;01min\u001b[39;00m futures\u001b[38;5;241m.\u001b[39mvalues():\n",
      "File \u001b[0;32m/opt/conda/lib/python3.8/site-packages/distributed/client.py:1966\u001b[0m, in \u001b[0;36mClient.gather\u001b[0;34m(self, futures, errors, direct, asynchronous)\u001b[0m\n\u001b[1;32m   1964\u001b[0m \u001b[38;5;28;01melse\u001b[39;00m:\n\u001b[1;32m   1965\u001b[0m     local_worker \u001b[38;5;241m=\u001b[39m \u001b[38;5;28;01mNone\u001b[39;00m\n\u001b[0;32m-> 1966\u001b[0m \u001b[38;5;28;01mreturn\u001b[39;00m \u001b[38;5;28;43mself\u001b[39;49m\u001b[38;5;241;43m.\u001b[39;49m\u001b[43msync\u001b[49m\u001b[43m(\u001b[49m\n\u001b[1;32m   1967\u001b[0m \u001b[43m    \u001b[49m\u001b[38;5;28;43mself\u001b[39;49m\u001b[38;5;241;43m.\u001b[39;49m\u001b[43m_gather\u001b[49m\u001b[43m,\u001b[49m\n\u001b[1;32m   1968\u001b[0m \u001b[43m    \u001b[49m\u001b[43mfutures\u001b[49m\u001b[43m,\u001b[49m\n\u001b[1;32m   1969\u001b[0m \u001b[43m    \u001b[49m\u001b[43merrors\u001b[49m\u001b[38;5;241;43m=\u001b[39;49m\u001b[43merrors\u001b[49m\u001b[43m,\u001b[49m\n\u001b[1;32m   1970\u001b[0m \u001b[43m    \u001b[49m\u001b[43mdirect\u001b[49m\u001b[38;5;241;43m=\u001b[39;49m\u001b[43mdirect\u001b[49m\u001b[43m,\u001b[49m\n\u001b[1;32m   1971\u001b[0m \u001b[43m    \u001b[49m\u001b[43mlocal_worker\u001b[49m\u001b[38;5;241;43m=\u001b[39;49m\u001b[43mlocal_worker\u001b[49m\u001b[43m,\u001b[49m\n\u001b[1;32m   1972\u001b[0m \u001b[43m    \u001b[49m\u001b[43masynchronous\u001b[49m\u001b[38;5;241;43m=\u001b[39;49m\u001b[43masynchronous\u001b[49m\u001b[43m,\u001b[49m\n\u001b[1;32m   1973\u001b[0m \u001b[43m\u001b[49m\u001b[43m)\u001b[49m\n",
      "File \u001b[0;32m/opt/conda/lib/python3.8/site-packages/distributed/client.py:860\u001b[0m, in \u001b[0;36mClient.sync\u001b[0;34m(self, func, asynchronous, callback_timeout, *args, **kwargs)\u001b[0m\n\u001b[1;32m    858\u001b[0m     \u001b[38;5;28;01mreturn\u001b[39;00m future\n\u001b[1;32m    859\u001b[0m \u001b[38;5;28;01melse\u001b[39;00m:\n\u001b[0;32m--> 860\u001b[0m     \u001b[38;5;28;01mreturn\u001b[39;00m \u001b[43msync\u001b[49m\u001b[43m(\u001b[49m\n\u001b[1;32m    861\u001b[0m \u001b[43m        \u001b[49m\u001b[38;5;28;43mself\u001b[39;49m\u001b[38;5;241;43m.\u001b[39;49m\u001b[43mloop\u001b[49m\u001b[43m,\u001b[49m\u001b[43m \u001b[49m\u001b[43mfunc\u001b[49m\u001b[43m,\u001b[49m\u001b[43m \u001b[49m\u001b[38;5;241;43m*\u001b[39;49m\u001b[43margs\u001b[49m\u001b[43m,\u001b[49m\u001b[43m \u001b[49m\u001b[43mcallback_timeout\u001b[49m\u001b[38;5;241;43m=\u001b[39;49m\u001b[43mcallback_timeout\u001b[49m\u001b[43m,\u001b[49m\u001b[43m \u001b[49m\u001b[38;5;241;43m*\u001b[39;49m\u001b[38;5;241;43m*\u001b[39;49m\u001b[43mkwargs\u001b[49m\n\u001b[1;32m    862\u001b[0m \u001b[43m    \u001b[49m\u001b[43m)\u001b[49m\n",
      "File \u001b[0;32m/opt/conda/lib/python3.8/site-packages/distributed/utils.py:326\u001b[0m, in \u001b[0;36msync\u001b[0;34m(loop, func, callback_timeout, *args, **kwargs)\u001b[0m\n\u001b[1;32m    324\u001b[0m \u001b[38;5;28;01mif\u001b[39;00m error[\u001b[38;5;241m0\u001b[39m]:\n\u001b[1;32m    325\u001b[0m     typ, exc, tb \u001b[38;5;241m=\u001b[39m error[\u001b[38;5;241m0\u001b[39m]\n\u001b[0;32m--> 326\u001b[0m     \u001b[38;5;28;01mraise\u001b[39;00m exc\u001b[38;5;241m.\u001b[39mwith_traceback(tb)\n\u001b[1;32m    327\u001b[0m \u001b[38;5;28;01melse\u001b[39;00m:\n\u001b[1;32m    328\u001b[0m     \u001b[38;5;28;01mreturn\u001b[39;00m result[\u001b[38;5;241m0\u001b[39m]\n",
      "File \u001b[0;32m/opt/conda/lib/python3.8/site-packages/distributed/utils.py:309\u001b[0m, in \u001b[0;36msync.<locals>.f\u001b[0;34m()\u001b[0m\n\u001b[1;32m    307\u001b[0m     \u001b[38;5;28;01mif\u001b[39;00m callback_timeout \u001b[38;5;129;01mis\u001b[39;00m \u001b[38;5;129;01mnot\u001b[39;00m \u001b[38;5;28;01mNone\u001b[39;00m:\n\u001b[1;32m    308\u001b[0m         future \u001b[38;5;241m=\u001b[39m asyncio\u001b[38;5;241m.\u001b[39mwait_for(future, callback_timeout)\n\u001b[0;32m--> 309\u001b[0m     result[\u001b[38;5;241m0\u001b[39m] \u001b[38;5;241m=\u001b[39m \u001b[38;5;28;01myield\u001b[39;00m future\n\u001b[1;32m    310\u001b[0m \u001b[38;5;28;01mexcept\u001b[39;00m \u001b[38;5;167;01mException\u001b[39;00m:\n\u001b[1;32m    311\u001b[0m     error[\u001b[38;5;241m0\u001b[39m] \u001b[38;5;241m=\u001b[39m sys\u001b[38;5;241m.\u001b[39mexc_info()\n",
      "File \u001b[0;32m/opt/conda/lib/python3.8/site-packages/tornado/gen.py:762\u001b[0m, in \u001b[0;36mRunner.run\u001b[0;34m(self)\u001b[0m\n\u001b[1;32m    759\u001b[0m exc_info \u001b[38;5;241m=\u001b[39m \u001b[38;5;28;01mNone\u001b[39;00m\n\u001b[1;32m    761\u001b[0m \u001b[38;5;28;01mtry\u001b[39;00m:\n\u001b[0;32m--> 762\u001b[0m     value \u001b[38;5;241m=\u001b[39m \u001b[43mfuture\u001b[49m\u001b[38;5;241;43m.\u001b[39;49m\u001b[43mresult\u001b[49m\u001b[43m(\u001b[49m\u001b[43m)\u001b[49m\n\u001b[1;32m    763\u001b[0m \u001b[38;5;28;01mexcept\u001b[39;00m \u001b[38;5;167;01mException\u001b[39;00m:\n\u001b[1;32m    764\u001b[0m     exc_info \u001b[38;5;241m=\u001b[39m sys\u001b[38;5;241m.\u001b[39mexc_info()\n",
      "File \u001b[0;32m/opt/conda/lib/python3.8/site-packages/distributed/client.py:1860\u001b[0m, in \u001b[0;36mClient._gather\u001b[0;34m(self, futures, errors, direct, local_worker)\u001b[0m\n\u001b[1;32m   1858\u001b[0m     \u001b[38;5;28;01melse\u001b[39;00m:\n\u001b[1;32m   1859\u001b[0m         \u001b[38;5;28mself\u001b[39m\u001b[38;5;241m.\u001b[39m_gather_future \u001b[38;5;241m=\u001b[39m future\n\u001b[0;32m-> 1860\u001b[0m     response \u001b[38;5;241m=\u001b[39m \u001b[38;5;28;01mawait\u001b[39;00m future\n\u001b[1;32m   1862\u001b[0m \u001b[38;5;28;01mif\u001b[39;00m response[\u001b[38;5;124m\"\u001b[39m\u001b[38;5;124mstatus\u001b[39m\u001b[38;5;124m\"\u001b[39m] \u001b[38;5;241m==\u001b[39m \u001b[38;5;124m\"\u001b[39m\u001b[38;5;124merror\u001b[39m\u001b[38;5;124m\"\u001b[39m:\n\u001b[1;32m   1863\u001b[0m     log \u001b[38;5;241m=\u001b[39m logger\u001b[38;5;241m.\u001b[39mwarning \u001b[38;5;28;01mif\u001b[39;00m errors \u001b[38;5;241m==\u001b[39m \u001b[38;5;124m\"\u001b[39m\u001b[38;5;124mraise\u001b[39m\u001b[38;5;124m\"\u001b[39m \u001b[38;5;28;01melse\u001b[39;00m logger\u001b[38;5;241m.\u001b[39mdebug\n",
      "File \u001b[0;32m/opt/conda/lib/python3.8/site-packages/distributed/client.py:1911\u001b[0m, in \u001b[0;36mClient._gather_remote\u001b[0;34m(self, direct, local_worker)\u001b[0m\n\u001b[1;32m   1908\u001b[0m                 response[\u001b[38;5;124m\"\u001b[39m\u001b[38;5;124mdata\u001b[39m\u001b[38;5;124m\"\u001b[39m]\u001b[38;5;241m.\u001b[39mupdate(data2)\n\u001b[1;32m   1910\u001b[0m     \u001b[38;5;28;01melse\u001b[39;00m:  \u001b[38;5;66;03m# ask scheduler to gather data for us\u001b[39;00m\n\u001b[0;32m-> 1911\u001b[0m         response \u001b[38;5;241m=\u001b[39m \u001b[38;5;28;01mawait\u001b[39;00m retry_operation(\u001b[38;5;28mself\u001b[39m\u001b[38;5;241m.\u001b[39mscheduler\u001b[38;5;241m.\u001b[39mgather, keys\u001b[38;5;241m=\u001b[39mkeys)\n\u001b[1;32m   1913\u001b[0m \u001b[38;5;28;01mreturn\u001b[39;00m response\n",
      "File \u001b[0;32m/opt/conda/lib/python3.8/site-packages/distributed/utils_comm.py:385\u001b[0m, in \u001b[0;36mretry_operation\u001b[0;34m(coro, operation, *args, **kwargs)\u001b[0m\n\u001b[1;32m    379\u001b[0m retry_delay_min \u001b[38;5;241m=\u001b[39m parse_timedelta(\n\u001b[1;32m    380\u001b[0m     dask\u001b[38;5;241m.\u001b[39mconfig\u001b[38;5;241m.\u001b[39mget(\u001b[38;5;124m\"\u001b[39m\u001b[38;5;124mdistributed.comm.retry.delay.min\u001b[39m\u001b[38;5;124m\"\u001b[39m), default\u001b[38;5;241m=\u001b[39m\u001b[38;5;124m\"\u001b[39m\u001b[38;5;124ms\u001b[39m\u001b[38;5;124m\"\u001b[39m\n\u001b[1;32m    381\u001b[0m )\n\u001b[1;32m    382\u001b[0m retry_delay_max \u001b[38;5;241m=\u001b[39m parse_timedelta(\n\u001b[1;32m    383\u001b[0m     dask\u001b[38;5;241m.\u001b[39mconfig\u001b[38;5;241m.\u001b[39mget(\u001b[38;5;124m\"\u001b[39m\u001b[38;5;124mdistributed.comm.retry.delay.max\u001b[39m\u001b[38;5;124m\"\u001b[39m), default\u001b[38;5;241m=\u001b[39m\u001b[38;5;124m\"\u001b[39m\u001b[38;5;124ms\u001b[39m\u001b[38;5;124m\"\u001b[39m\n\u001b[1;32m    384\u001b[0m )\n\u001b[0;32m--> 385\u001b[0m \u001b[38;5;28;01mreturn\u001b[39;00m \u001b[38;5;28;01mawait\u001b[39;00m retry(\n\u001b[1;32m    386\u001b[0m     partial(coro, \u001b[38;5;241m*\u001b[39margs, \u001b[38;5;241m*\u001b[39m\u001b[38;5;241m*\u001b[39mkwargs),\n\u001b[1;32m    387\u001b[0m     count\u001b[38;5;241m=\u001b[39mretry_count,\n\u001b[1;32m    388\u001b[0m     delay_min\u001b[38;5;241m=\u001b[39mretry_delay_min,\n\u001b[1;32m    389\u001b[0m     delay_max\u001b[38;5;241m=\u001b[39mretry_delay_max,\n\u001b[1;32m    390\u001b[0m     operation\u001b[38;5;241m=\u001b[39moperation,\n\u001b[1;32m    391\u001b[0m )\n",
      "File \u001b[0;32m/opt/conda/lib/python3.8/site-packages/distributed/utils_comm.py:370\u001b[0m, in \u001b[0;36mretry\u001b[0;34m(coro, count, delay_min, delay_max, jitter_fraction, retry_on_exceptions, operation)\u001b[0m\n\u001b[1;32m    368\u001b[0m             delay \u001b[38;5;241m*\u001b[39m\u001b[38;5;241m=\u001b[39m \u001b[38;5;241m1\u001b[39m \u001b[38;5;241m+\u001b[39m random\u001b[38;5;241m.\u001b[39mrandom() \u001b[38;5;241m*\u001b[39m jitter_fraction\n\u001b[1;32m    369\u001b[0m         \u001b[38;5;28;01mawait\u001b[39;00m asyncio\u001b[38;5;241m.\u001b[39msleep(delay)\n\u001b[0;32m--> 370\u001b[0m \u001b[38;5;28;01mreturn\u001b[39;00m \u001b[38;5;28;01mawait\u001b[39;00m coro()\n",
      "File \u001b[0;32m/opt/conda/lib/python3.8/site-packages/distributed/core.py:874\u001b[0m, in \u001b[0;36mPooledRPCCall.__getattr__.<locals>.send_recv_from_rpc\u001b[0;34m(**kwargs)\u001b[0m\n\u001b[1;32m    872\u001b[0m name, comm\u001b[38;5;241m.\u001b[39mname \u001b[38;5;241m=\u001b[39m comm\u001b[38;5;241m.\u001b[39mname, \u001b[38;5;124m\"\u001b[39m\u001b[38;5;124mConnectionPool.\u001b[39m\u001b[38;5;124m\"\u001b[39m \u001b[38;5;241m+\u001b[39m key\n\u001b[1;32m    873\u001b[0m \u001b[38;5;28;01mtry\u001b[39;00m:\n\u001b[0;32m--> 874\u001b[0m     result \u001b[38;5;241m=\u001b[39m \u001b[38;5;28;01mawait\u001b[39;00m send_recv(comm\u001b[38;5;241m=\u001b[39mcomm, op\u001b[38;5;241m=\u001b[39mkey, \u001b[38;5;241m*\u001b[39m\u001b[38;5;241m*\u001b[39mkwargs)\n\u001b[1;32m    875\u001b[0m \u001b[38;5;28;01mfinally\u001b[39;00m:\n\u001b[1;32m    876\u001b[0m     \u001b[38;5;28mself\u001b[39m\u001b[38;5;241m.\u001b[39mpool\u001b[38;5;241m.\u001b[39mreuse(\u001b[38;5;28mself\u001b[39m\u001b[38;5;241m.\u001b[39maddr, comm)\n",
      "File \u001b[0;32m/opt/conda/lib/python3.8/site-packages/distributed/core.py:651\u001b[0m, in \u001b[0;36msend_recv\u001b[0;34m(comm, reply, serializers, deserializers, **kwargs)\u001b[0m\n\u001b[1;32m    649\u001b[0m \u001b[38;5;28;01mawait\u001b[39;00m comm\u001b[38;5;241m.\u001b[39mwrite(msg, serializers\u001b[38;5;241m=\u001b[39mserializers, on_error\u001b[38;5;241m=\u001b[39m\u001b[38;5;124m\"\u001b[39m\u001b[38;5;124mraise\u001b[39m\u001b[38;5;124m\"\u001b[39m)\n\u001b[1;32m    650\u001b[0m \u001b[38;5;28;01mif\u001b[39;00m reply:\n\u001b[0;32m--> 651\u001b[0m     response \u001b[38;5;241m=\u001b[39m \u001b[38;5;28;01mawait\u001b[39;00m comm\u001b[38;5;241m.\u001b[39mread(deserializers\u001b[38;5;241m=\u001b[39mdeserializers)\n\u001b[1;32m    652\u001b[0m \u001b[38;5;28;01melse\u001b[39;00m:\n\u001b[1;32m    653\u001b[0m     response \u001b[38;5;241m=\u001b[39m \u001b[38;5;28;01mNone\u001b[39;00m\n",
      "File \u001b[0;32m/opt/conda/lib/python3.8/site-packages/distributed/comm/tcp.py:226\u001b[0m, in \u001b[0;36mTCP.read\u001b[0;34m(self, deserializers)\u001b[0m\n\u001b[1;32m    223\u001b[0m \u001b[38;5;28;01mtry\u001b[39;00m:\n\u001b[1;32m    224\u001b[0m     frames \u001b[38;5;241m=\u001b[39m unpack_frames(frames)\n\u001b[0;32m--> 226\u001b[0m     msg \u001b[38;5;241m=\u001b[39m \u001b[38;5;28;01mawait\u001b[39;00m from_frames(\n\u001b[1;32m    227\u001b[0m         frames,\n\u001b[1;32m    228\u001b[0m         deserialize\u001b[38;5;241m=\u001b[39m\u001b[38;5;28mself\u001b[39m\u001b[38;5;241m.\u001b[39mdeserialize,\n\u001b[1;32m    229\u001b[0m         deserializers\u001b[38;5;241m=\u001b[39mdeserializers,\n\u001b[1;32m    230\u001b[0m         allow_offload\u001b[38;5;241m=\u001b[39m\u001b[38;5;28mself\u001b[39m\u001b[38;5;241m.\u001b[39mallow_offload,\n\u001b[1;32m    231\u001b[0m     )\n\u001b[1;32m    232\u001b[0m \u001b[38;5;28;01mexcept\u001b[39;00m \u001b[38;5;167;01mEOFError\u001b[39;00m:\n\u001b[1;32m    233\u001b[0m     \u001b[38;5;66;03m# Frames possibly garbled or truncated by communication error\u001b[39;00m\n\u001b[1;32m    234\u001b[0m     \u001b[38;5;28mself\u001b[39m\u001b[38;5;241m.\u001b[39mabort()\n",
      "File \u001b[0;32m/opt/conda/lib/python3.8/site-packages/distributed/comm/utils.py:78\u001b[0m, in \u001b[0;36mfrom_frames\u001b[0;34m(frames, deserialize, deserializers, allow_offload)\u001b[0m\n\u001b[1;32m     76\u001b[0m     res \u001b[38;5;241m=\u001b[39m \u001b[38;5;28;01mawait\u001b[39;00m offload(_from_frames)\n\u001b[1;32m     77\u001b[0m \u001b[38;5;28;01melse\u001b[39;00m:\n\u001b[0;32m---> 78\u001b[0m     res \u001b[38;5;241m=\u001b[39m \u001b[43m_from_frames\u001b[49m\u001b[43m(\u001b[49m\u001b[43m)\u001b[49m\n\u001b[1;32m     80\u001b[0m \u001b[38;5;28;01mreturn\u001b[39;00m res\n",
      "File \u001b[0;32m/opt/conda/lib/python3.8/site-packages/distributed/comm/utils.py:61\u001b[0m, in \u001b[0;36mfrom_frames.<locals>._from_frames\u001b[0;34m()\u001b[0m\n\u001b[1;32m     59\u001b[0m \u001b[38;5;28;01mdef\u001b[39;00m \u001b[38;5;21m_from_frames\u001b[39m():\n\u001b[1;32m     60\u001b[0m     \u001b[38;5;28;01mtry\u001b[39;00m:\n\u001b[0;32m---> 61\u001b[0m         \u001b[38;5;28;01mreturn\u001b[39;00m \u001b[43mprotocol\u001b[49m\u001b[38;5;241;43m.\u001b[39;49m\u001b[43mloads\u001b[49m\u001b[43m(\u001b[49m\n\u001b[1;32m     62\u001b[0m \u001b[43m            \u001b[49m\u001b[43mframes\u001b[49m\u001b[43m,\u001b[49m\u001b[43m \u001b[49m\u001b[43mdeserialize\u001b[49m\u001b[38;5;241;43m=\u001b[39;49m\u001b[43mdeserialize\u001b[49m\u001b[43m,\u001b[49m\u001b[43m \u001b[49m\u001b[43mdeserializers\u001b[49m\u001b[38;5;241;43m=\u001b[39;49m\u001b[43mdeserializers\u001b[49m\n\u001b[1;32m     63\u001b[0m \u001b[43m        \u001b[49m\u001b[43m)\u001b[49m\n\u001b[1;32m     64\u001b[0m     \u001b[38;5;28;01mexcept\u001b[39;00m \u001b[38;5;167;01mEOFError\u001b[39;00m:\n\u001b[1;32m     65\u001b[0m         \u001b[38;5;28;01mif\u001b[39;00m size \u001b[38;5;241m>\u001b[39m \u001b[38;5;241m1000\u001b[39m:\n",
      "File \u001b[0;32m/opt/conda/lib/python3.8/site-packages/distributed/protocol/core.py:111\u001b[0m, in \u001b[0;36mloads\u001b[0;34m(frames, deserialize, deserializers)\u001b[0m\n\u001b[1;32m    108\u001b[0m         \u001b[38;5;28;01melse\u001b[39;00m:\n\u001b[1;32m    109\u001b[0m             \u001b[38;5;28;01mreturn\u001b[39;00m msgpack_decode_default(obj)\n\u001b[0;32m--> 111\u001b[0m     \u001b[38;5;28;01mreturn\u001b[39;00m \u001b[43mmsgpack\u001b[49m\u001b[38;5;241;43m.\u001b[39;49m\u001b[43mloads\u001b[49m\u001b[43m(\u001b[49m\n\u001b[1;32m    112\u001b[0m \u001b[43m        \u001b[49m\u001b[43mframes\u001b[49m\u001b[43m[\u001b[49m\u001b[38;5;241;43m0\u001b[39;49m\u001b[43m]\u001b[49m\u001b[43m,\u001b[49m\u001b[43m \u001b[49m\u001b[43mobject_hook\u001b[49m\u001b[38;5;241;43m=\u001b[39;49m\u001b[43m_decode_default\u001b[49m\u001b[43m,\u001b[49m\u001b[43m \u001b[49m\u001b[43muse_list\u001b[49m\u001b[38;5;241;43m=\u001b[39;49m\u001b[38;5;28;43;01mFalse\u001b[39;49;00m\u001b[43m,\u001b[49m\u001b[43m \u001b[49m\u001b[38;5;241;43m*\u001b[39;49m\u001b[38;5;241;43m*\u001b[39;49m\u001b[43mmsgpack_opts\u001b[49m\n\u001b[1;32m    113\u001b[0m \u001b[43m    \u001b[49m\u001b[43m)\u001b[49m\n\u001b[1;32m    115\u001b[0m \u001b[38;5;28;01mexcept\u001b[39;00m \u001b[38;5;167;01mException\u001b[39;00m:\n\u001b[1;32m    116\u001b[0m     logger\u001b[38;5;241m.\u001b[39mcritical(\u001b[38;5;124m\"\u001b[39m\u001b[38;5;124mFailed to deserialize\u001b[39m\u001b[38;5;124m\"\u001b[39m, exc_info\u001b[38;5;241m=\u001b[39m\u001b[38;5;28;01mTrue\u001b[39;00m)\n",
      "File \u001b[0;32mmsgpack/_unpacker.pyx:194\u001b[0m, in \u001b[0;36mmsgpack._cmsgpack.unpackb\u001b[0;34m()\u001b[0m\n",
      "File \u001b[0;32m/opt/conda/lib/python3.8/site-packages/distributed/protocol/core.py:103\u001b[0m, in \u001b[0;36mloads.<locals>._decode_default\u001b[0;34m(obj)\u001b[0m\n\u001b[1;32m    101\u001b[0m     \u001b[38;5;28;01mif\u001b[39;00m \u001b[38;5;124m\"\u001b[39m\u001b[38;5;124mcompression\u001b[39m\u001b[38;5;124m\"\u001b[39m \u001b[38;5;129;01min\u001b[39;00m sub_header:\n\u001b[1;32m    102\u001b[0m         sub_frames \u001b[38;5;241m=\u001b[39m decompress(sub_header, sub_frames)\n\u001b[0;32m--> 103\u001b[0m     \u001b[38;5;28;01mreturn\u001b[39;00m \u001b[43mmerge_and_deserialize\u001b[49m\u001b[43m(\u001b[49m\n\u001b[1;32m    104\u001b[0m \u001b[43m        \u001b[49m\u001b[43msub_header\u001b[49m\u001b[43m,\u001b[49m\u001b[43m \u001b[49m\u001b[43msub_frames\u001b[49m\u001b[43m,\u001b[49m\u001b[43m \u001b[49m\u001b[43mdeserializers\u001b[49m\u001b[38;5;241;43m=\u001b[39;49m\u001b[43mdeserializers\u001b[49m\n\u001b[1;32m    105\u001b[0m \u001b[43m    \u001b[49m\u001b[43m)\u001b[49m\n\u001b[1;32m    106\u001b[0m \u001b[38;5;28;01melse\u001b[39;00m:\n\u001b[1;32m    107\u001b[0m     \u001b[38;5;28;01mreturn\u001b[39;00m Serialized(sub_header, sub_frames)\n",
      "File \u001b[0;32m/opt/conda/lib/python3.8/site-packages/distributed/protocol/serialize.py:475\u001b[0m, in \u001b[0;36mmerge_and_deserialize\u001b[0;34m(header, frames, deserializers)\u001b[0m\n\u001b[1;32m    472\u001b[0m         \u001b[38;5;28;01melse\u001b[39;00m:\n\u001b[1;32m    473\u001b[0m             merged_frames\u001b[38;5;241m.\u001b[39mappend(\u001b[38;5;28mbytearray\u001b[39m()\u001b[38;5;241m.\u001b[39mjoin(frames[offset : offset \u001b[38;5;241m+\u001b[39m n]))\n\u001b[0;32m--> 475\u001b[0m \u001b[38;5;28;01mreturn\u001b[39;00m \u001b[43mdeserialize\u001b[49m\u001b[43m(\u001b[49m\u001b[43mheader\u001b[49m\u001b[43m,\u001b[49m\u001b[43m \u001b[49m\u001b[43mmerged_frames\u001b[49m\u001b[43m,\u001b[49m\u001b[43m \u001b[49m\u001b[43mdeserializers\u001b[49m\u001b[38;5;241;43m=\u001b[39;49m\u001b[43mdeserializers\u001b[49m\u001b[43m)\u001b[49m\n",
      "File \u001b[0;32m/opt/conda/lib/python3.8/site-packages/distributed/protocol/serialize.py:407\u001b[0m, in \u001b[0;36mdeserialize\u001b[0;34m(header, frames, deserializers)\u001b[0m\n\u001b[1;32m    402\u001b[0m     \u001b[38;5;28;01mraise\u001b[39;00m \u001b[38;5;167;01mTypeError\u001b[39;00m(\n\u001b[1;32m    403\u001b[0m         \u001b[38;5;124m\"\u001b[39m\u001b[38;5;124mData serialized with \u001b[39m\u001b[38;5;132;01m%s\u001b[39;00m\u001b[38;5;124m but only able to deserialize \u001b[39m\u001b[38;5;124m\"\u001b[39m\n\u001b[1;32m    404\u001b[0m         \u001b[38;5;124m\"\u001b[39m\u001b[38;5;124mdata with \u001b[39m\u001b[38;5;132;01m%s\u001b[39;00m\u001b[38;5;124m\"\u001b[39m \u001b[38;5;241m%\u001b[39m (name, \u001b[38;5;28mstr\u001b[39m(\u001b[38;5;28mlist\u001b[39m(deserializers)))\n\u001b[1;32m    405\u001b[0m     )\n\u001b[1;32m    406\u001b[0m dumps, loads, wants_context \u001b[38;5;241m=\u001b[39m families[name]\n\u001b[0;32m--> 407\u001b[0m \u001b[38;5;28;01mreturn\u001b[39;00m \u001b[43mloads\u001b[49m\u001b[43m(\u001b[49m\u001b[43mheader\u001b[49m\u001b[43m,\u001b[49m\u001b[43m \u001b[49m\u001b[43mframes\u001b[49m\u001b[43m)\u001b[49m\n",
      "File \u001b[0;32m/opt/conda/lib/python3.8/site-packages/distributed/protocol/serialize.py:86\u001b[0m, in \u001b[0;36mpickle_loads\u001b[0;34m(header, frames)\u001b[0m\n\u001b[1;32m     83\u001b[0m             mv \u001b[38;5;241m=\u001b[39m mv\u001b[38;5;241m.\u001b[39mcast(mv\u001b[38;5;241m.\u001b[39mformat)\n\u001b[1;32m     84\u001b[0m     new\u001b[38;5;241m.\u001b[39mappend(mv)\n\u001b[0;32m---> 86\u001b[0m \u001b[38;5;28;01mreturn\u001b[39;00m \u001b[43mpickle\u001b[49m\u001b[38;5;241;43m.\u001b[39;49m\u001b[43mloads\u001b[49m\u001b[43m(\u001b[49m\u001b[43mx\u001b[49m\u001b[43m,\u001b[49m\u001b[43m \u001b[49m\u001b[43mbuffers\u001b[49m\u001b[38;5;241;43m=\u001b[39;49m\u001b[43mnew\u001b[49m\u001b[43m)\u001b[49m\n",
      "File \u001b[0;32m/opt/conda/lib/python3.8/site-packages/distributed/protocol/pickle.py:75\u001b[0m, in \u001b[0;36mloads\u001b[0;34m(x, buffers)\u001b[0m\n\u001b[1;32m     73\u001b[0m         \u001b[38;5;28;01mreturn\u001b[39;00m pickle\u001b[38;5;241m.\u001b[39mloads(x, buffers\u001b[38;5;241m=\u001b[39mbuffers)\n\u001b[1;32m     74\u001b[0m     \u001b[38;5;28;01melse\u001b[39;00m:\n\u001b[0;32m---> 75\u001b[0m         \u001b[38;5;28;01mreturn\u001b[39;00m \u001b[43mpickle\u001b[49m\u001b[38;5;241;43m.\u001b[39;49m\u001b[43mloads\u001b[49m\u001b[43m(\u001b[49m\u001b[43mx\u001b[49m\u001b[43m)\u001b[49m\n\u001b[1;32m     76\u001b[0m \u001b[38;5;28;01mexcept\u001b[39;00m \u001b[38;5;167;01mException\u001b[39;00m:\n\u001b[1;32m     77\u001b[0m     logger\u001b[38;5;241m.\u001b[39minfo(\u001b[38;5;124m\"\u001b[39m\u001b[38;5;124mFailed to deserialize \u001b[39m\u001b[38;5;132;01m%s\u001b[39;00m\u001b[38;5;124m\"\u001b[39m, x[:\u001b[38;5;241m10000\u001b[39m], exc_info\u001b[38;5;241m=\u001b[39m\u001b[38;5;28;01mTrue\u001b[39;00m)\n",
      "\u001b[0;31mAttributeError\u001b[0m: Can't get attribute '_unpickle_block' on <module 'pandas._libs.internals' from '/opt/conda/lib/python3.8/site-packages/pandas/_libs/internals.cpython-38-aarch64-linux-gnu.so'>"
     ]
    }
   ],
   "source": [
    "x2 = x1.compute()"
   ]
  },
  {
   "cell_type": "code",
   "execution_count": null,
   "id": "6526fc97-9e35-4229-945a-a74047340030",
   "metadata": {},
   "outputs": [],
   "source": []
  },
  {
   "cell_type": "code",
   "execution_count": 115,
   "id": "be478d6b-7a05-46ae-8371-2cd1da14fbc5",
   "metadata": {},
   "outputs": [],
   "source": [
    "# dfs = [delayed(read_csv)(filename) for filename in csv_urls]\n",
    "# dfs = [read_csv(filename) for filename in csv_urls]\n",
    "# dfs = [delayed(read_csv(filename)) for filename in csv_urls]\n",
    "# dfs = [dd.read_csv(filename, dtype={'tolls_amount': 'float64',\n",
    "#                                      'tip_amount': 'float64',\n",
    "#                                      'Tip_Amt': 'float64',\n",
    "#                                      'Tolls_Amt': 'float64',\n",
    "#                                      'surcharge': 'float64',\n",
    "#                                      'store_and_fwd_flag': 'object'}) for filename in csv_urls]\n",
    "dfs = [delayed(dd.read_csv(filename, dtype={'tolls_amount': 'float64',\n",
    "                                     'tip_amount': 'float64',\n",
    "                                     'Tip_Amt': 'float64',\n",
    "                                     'Tolls_Amt': 'float64',\n",
    "                                     'surcharge': 'float64',\n",
    "                                     'store_and_fwd_flag': 'object'})) for filename in csv_urls]"
   ]
  },
  {
   "cell_type": "code",
   "execution_count": null,
   "id": "4fcf3d16-7920-44f3-8f4d-648d77557d98",
   "metadata": {},
   "outputs": [
    {
     "name": "stderr",
     "output_type": "stream",
     "text": [
      "distributed.deploy.adaptive - INFO - Retiring workers [1]\n"
     ]
    }
   ],
   "source": [
    "ddf = dd.from_delayed(dfs)"
   ]
  },
  {
   "cell_type": "code",
   "execution_count": null,
   "id": "ee45b951-632c-4137-aa2d-f829dd63825a",
   "metadata": {},
   "outputs": [],
   "source": [
    "ddf"
   ]
  },
  {
   "cell_type": "code",
   "execution_count": 92,
   "id": "ea5c9874-9077-4500-86f9-d105c4b83521",
   "metadata": {
    "tags": []
   },
   "outputs": [
    {
     "data": {
      "text/plain": [
       "[Dask DataFrame Structure:\n",
       "                vendor_id pickup_datetime dropoff_datetime passenger_count trip_distance pickup_longitude pickup_latitude rate_code store_and_fwd_flag dropoff_longitude dropoff_latitude payment_type fare_amount surcharge  mta_tax tip_amount tolls_amount total_amount\n",
       " npartitions=39                                                                                                                                                                                                                                                           \n",
       "                   object          object           object           int64       float64          float64         float64     int64             object           float64          float64       object     float64   float64  float64    float64      float64      float64\n",
       "                      ...             ...              ...             ...           ...              ...             ...       ...                ...               ...              ...          ...         ...       ...      ...        ...          ...          ...\n",
       " ...                  ...             ...              ...             ...           ...              ...             ...       ...                ...               ...              ...          ...         ...       ...      ...        ...          ...          ...\n",
       "                      ...             ...              ...             ...           ...              ...             ...       ...                ...               ...              ...          ...         ...       ...      ...        ...          ...          ...\n",
       "                      ...             ...              ...             ...           ...              ...             ...       ...                ...               ...              ...          ...         ...       ...      ...        ...          ...          ...\n",
       " Dask Name: read-csv, 39 tasks,\n",
       " Dask DataFrame Structure:\n",
       "                vendor_id pickup_datetime dropoff_datetime passenger_count trip_distance pickup_longitude pickup_latitude rate_code store_and_fwd_flag dropoff_longitude dropoff_latitude payment_type fare_amount surcharge  mta_tax tip_amount tolls_amount total_amount\n",
       " npartitions=37                                                                                                                                                                                                                                                           \n",
       "                   object          object           object           int64       float64          float64         float64     int64             object           float64          float64       object     float64   float64  float64    float64      float64      float64\n",
       "                      ...             ...              ...             ...           ...              ...             ...       ...                ...               ...              ...          ...         ...       ...      ...        ...          ...          ...\n",
       " ...                  ...             ...              ...             ...           ...              ...             ...       ...                ...               ...              ...          ...         ...       ...      ...        ...          ...          ...\n",
       "                      ...             ...              ...             ...           ...              ...             ...       ...                ...               ...              ...          ...         ...       ...      ...        ...          ...          ...\n",
       "                      ...             ...              ...             ...           ...              ...             ...       ...                ...               ...              ...          ...         ...       ...      ...        ...          ...          ...\n",
       " Dask Name: read-csv, 37 tasks,\n",
       " Dask DataFrame Structure:\n",
       "                vendor_id pickup_datetime dropoff_datetime passenger_count trip_distance pickup_longitude pickup_latitude rate_code store_and_fwd_flag dropoff_longitude dropoff_latitude payment_type fare_amount surcharge  mta_tax tip_amount tolls_amount total_amount\n",
       " npartitions=42                                                                                                                                                                                                                                                           \n",
       "                   object          object           object           int64       float64          float64         float64     int64             object           float64          float64       object     float64   float64  float64    float64      float64      float64\n",
       "                      ...             ...              ...             ...           ...              ...             ...       ...                ...               ...              ...          ...         ...       ...      ...        ...          ...          ...\n",
       " ...                  ...             ...              ...             ...           ...              ...             ...       ...                ...               ...              ...          ...         ...       ...      ...        ...          ...          ...\n",
       "                      ...             ...              ...             ...           ...              ...             ...       ...                ...               ...              ...          ...         ...       ...      ...        ...          ...          ...\n",
       "                      ...             ...              ...             ...           ...              ...             ...       ...                ...               ...              ...          ...         ...       ...      ...        ...          ...          ...\n",
       " Dask Name: read-csv, 42 tasks]"
      ]
     },
     "execution_count": 92,
     "metadata": {},
     "output_type": "execute_result"
    }
   ],
   "source": [
    "dfs"
   ]
  },
  {
   "cell_type": "code",
   "execution_count": 93,
   "id": "2c876362-51d7-4ead-9756-69578bb35514",
   "metadata": {
    "collapsed": true,
    "jupyter": {
     "outputs_hidden": true
    },
    "tags": []
   },
   "outputs": [
    {
     "data": {
      "text/plain": [
       "[Dask DataFrame Structure:\n",
       "                vendor_id pickup_datetime dropoff_datetime passenger_count trip_distance pickup_longitude pickup_latitude rate_code store_and_fwd_flag dropoff_longitude dropoff_latitude payment_type fare_amount surcharge  mta_tax tip_amount tolls_amount total_amount\n",
       " npartitions=39                                                                                                                                                                                                                                                           \n",
       "                   object          object           object           int64       float64          float64         float64     int64             object           float64          float64       object     float64   float64  float64    float64      float64      float64\n",
       "                      ...             ...              ...             ...           ...              ...             ...       ...                ...               ...              ...          ...         ...       ...      ...        ...          ...          ...\n",
       " ...                  ...             ...              ...             ...           ...              ...             ...       ...                ...               ...              ...          ...         ...       ...      ...        ...          ...          ...\n",
       "                      ...             ...              ...             ...           ...              ...             ...       ...                ...               ...              ...          ...         ...       ...      ...        ...          ...          ...\n",
       "                      ...             ...              ...             ...           ...              ...             ...       ...                ...               ...              ...          ...         ...       ...      ...        ...          ...          ...\n",
       " Dask Name: read-csv, 39 tasks,\n",
       " Dask DataFrame Structure:\n",
       "                vendor_id pickup_datetime dropoff_datetime passenger_count trip_distance pickup_longitude pickup_latitude rate_code store_and_fwd_flag dropoff_longitude dropoff_latitude payment_type fare_amount surcharge  mta_tax tip_amount tolls_amount total_amount\n",
       " npartitions=37                                                                                                                                                                                                                                                           \n",
       "                   object          object           object           int64       float64          float64         float64     int64             object           float64          float64       object     float64   float64  float64    float64      float64      float64\n",
       "                      ...             ...              ...             ...           ...              ...             ...       ...                ...               ...              ...          ...         ...       ...      ...        ...          ...          ...\n",
       " ...                  ...             ...              ...             ...           ...              ...             ...       ...                ...               ...              ...          ...         ...       ...      ...        ...          ...          ...\n",
       "                      ...             ...              ...             ...           ...              ...             ...       ...                ...               ...              ...          ...         ...       ...      ...        ...          ...          ...\n",
       "                      ...             ...              ...             ...           ...              ...             ...       ...                ...               ...              ...          ...         ...       ...      ...        ...          ...          ...\n",
       " Dask Name: read-csv, 37 tasks,\n",
       " Dask DataFrame Structure:\n",
       "                vendor_id pickup_datetime dropoff_datetime passenger_count trip_distance pickup_longitude pickup_latitude rate_code store_and_fwd_flag dropoff_longitude dropoff_latitude payment_type fare_amount surcharge  mta_tax tip_amount tolls_amount total_amount\n",
       " npartitions=42                                                                                                                                                                                                                                                           \n",
       "                   object          object           object           int64       float64          float64         float64     int64             object           float64          float64       object     float64   float64  float64    float64      float64      float64\n",
       "                      ...             ...              ...             ...           ...              ...             ...       ...                ...               ...              ...          ...         ...       ...      ...        ...          ...          ...\n",
       " ...                  ...             ...              ...             ...           ...              ...             ...       ...                ...               ...              ...          ...         ...       ...      ...        ...          ...          ...\n",
       "                      ...             ...              ...             ...           ...              ...             ...       ...                ...               ...              ...          ...         ...       ...      ...        ...          ...          ...\n",
       "                      ...             ...              ...             ...           ...              ...             ...       ...                ...               ...              ...          ...         ...       ...      ...        ...          ...          ...\n",
       " Dask Name: read-csv, 42 tasks]"
      ]
     },
     "execution_count": 93,
     "metadata": {},
     "output_type": "execute_result"
    }
   ],
   "source": [
    "dfs"
   ]
  },
  {
   "cell_type": "code",
   "execution_count": 95,
   "id": "a4a3798b-0ac6-4450-a9be-dad781393f6a",
   "metadata": {},
   "outputs": [],
   "source": [
    "# df = dd.from_delayed(dfs)"
   ]
  },
  {
   "cell_type": "markdown",
   "id": "1a533961-722e-4f27-bf82-5b2cf3dbf162",
   "metadata": {},
   "source": [
    "# define benchmarking"
   ]
  },
  {
   "cell_type": "code",
   "execution_count": 99,
   "id": "08697e23-4290-4b10-bc26-40ae26ce2374",
   "metadata": {},
   "outputs": [],
   "source": [
    "import collections\n",
    "dask_benchmarks = collections.defaultdict(dict)\n",
    "# benchmarks = {\"task1\" : {\"stat1\": val, \"stat2\": val}}"
   ]
  },
  {
   "cell_type": "code",
   "execution_count": null,
   "id": "75530963-30bf-4716-9487-b1c1eb47152d",
   "metadata": {},
   "outputs": [],
   "source": []
  },
  {
   "cell_type": "code",
   "execution_count": 108,
   "id": "f1ff4840-1463-4291-85c6-36e0ce1db17f",
   "metadata": {},
   "outputs": [],
   "source": [
    "all_tasks = []\n",
    "# sum, then means = simple mapreduce\n",
    "# def read_to_basic_ETL(df = None):\n",
    "#     df = dd.read_parquet(\n",
    "#     \"./tmp/\", \n",
    "#     storage_options={\"anon\": True, 'use_ssl': True})    \n",
    "#     return (df.fare_amount + df.tip_amount).mean().compute()\n",
    "# all_tasks.append(read_to_basic_ETL)\n",
    "# # counts of values seen = simple map, groupby, reduce\n",
    "\n",
    "def basic_ETL(df = None):\n",
    "    return (df.fare_amount + df.tip_amount).mean().compute()\n",
    "all_tasks.append(basic_ETL)\n",
    "# counts of values seen = simple map, groupby, reduce\n",
    "\n",
    "\n",
    "def count_values(df):\n",
    "    return df.fare_amount.value_counts().compute()\n",
    "all_tasks.append(count_values)\n",
    "\n",
    "# cpu heavy arithmetic : mapreduce\n",
    "def complicated_arithmetic_operation(df):\n",
    "    theta_1 = df.pickup_longitude\n",
    "    phi_1 = df.pickup_latitude\n",
    "    theta_2 = df.dropoff_longitude\n",
    "    phi_2 = df.dropoff_latitude\n",
    "    temp = (np.sin((theta_2-theta_1)/2*np.pi/180)**2\n",
    "           + np.cos(theta_1*np.pi/180)*np.cos(theta_2*np.pi/180) * np.sin((phi_2-phi_1)/2*np.pi/180)**2)\n",
    "    ret = 2 * np.arctan2(np.sqrt(temp), np.sqrt(1-temp))\n",
    "    return ret.compute()\n",
    "all_tasks.append(complicated_arithmetic_operation)\n",
    "\n",
    "def groupby_statistics(df):\n",
    "    return df.groupby(by='passenger_count').agg(\n",
    "      {\n",
    "        'total_amount': ['mean', 'std'], \n",
    "        'tip_amount': ['mean', 'std']\n",
    "      }\n",
    "    ).compute()\n",
    "all_tasks.append(complicated_arithmetic_operation)\n",
    "\n",
    "# join two datasets\n",
    "def join_data(df):\n",
    "    return dd.merge(df, other, left_index=True, right_index=True).compute()\n",
    "all_tasks.append(complicated_arithmetic_operation)\n",
    "\n"
   ]
  },
  {
   "cell_type": "code",
   "execution_count": 67,
   "id": "f2e84910-e1f3-49bb-a11a-fc802d3d5033",
   "metadata": {},
   "outputs": [],
   "source": [
    "def benchmark(f, df, benchmarks, task_name, **kwargs):\n",
    "    \"\"\"Benchmark the given function against the given DataFrame.\n",
    "    \n",
    "    Parameters\n",
    "    ----------\n",
    "    f: function to benchmark\n",
    "    df: data frame\n",
    "    benchmarks: container for benchmark results\n",
    "    name: task name\n",
    "    \n",
    "    Returns\n",
    "    -------\n",
    "    Duration (in seconds) of the given operation\n",
    "    \"\"\"\n",
    "    ret_benchmark_vals = {}\n",
    "    print(f\"{task_name} start\")\n",
    "    with get_task_stream(plot='save', filename=\"task-stream.html\") as ts:\n",
    "        start_time = time.time()\n",
    "        ret = f(df, **kwargs)\n",
    "        ret_benchmark_vals['raw_duration'] = time.time() - start_time\n",
    "        ret_benchmark_vals['history'] = ts.data\n",
    "    benchmarks[task_name] = ret_benchmark_vals\n",
    "    print(f\"{task_name} took: {benchmarks[task_name].get('raw_duration')} seconds\")\n",
    "    return benchmarks[task_name].get(\"raw_duration\")"
   ]
  },
  {
   "cell_type": "code",
   "execution_count": 113,
   "id": "5bfeac32-550f-4729-88bf-038351c9841f",
   "metadata": {},
   "outputs": [
    {
     "data": {
      "text/plain": [
       "list"
      ]
     },
     "execution_count": 113,
     "metadata": {},
     "output_type": "execute_result"
    }
   ],
   "source": [
    "type(df)"
   ]
  },
  {
   "cell_type": "code",
   "execution_count": 97,
   "id": "17230606-31db-417d-b71c-b9d22e4fdf26",
   "metadata": {},
   "outputs": [],
   "source": [
    "df = dfs"
   ]
  },
  {
   "cell_type": "code",
   "execution_count": 111,
   "id": "a413479c-e757-4fa7-a72b-8bb69552c404",
   "metadata": {},
   "outputs": [
    {
     "name": "stdout",
     "output_type": "stream",
     "text": [
      "basic_ETL start\n"
     ]
    },
    {
     "ename": "AttributeError",
     "evalue": "'list' object has no attribute 'fare_amount'",
     "output_type": "error",
     "traceback": [
      "\u001b[0;31m---------------------------------------------------------------------------\u001b[0m",
      "\u001b[0;31mAttributeError\u001b[0m                            Traceback (most recent call last)",
      "Input \u001b[0;32mIn [111]\u001b[0m, in \u001b[0;36m<module>\u001b[0;34m\u001b[0m\n\u001b[0;32m----> 1\u001b[0m [benchmark(task, df\u001b[38;5;241m=\u001b[39mdf, benchmarks \u001b[38;5;241m=\u001b[39m dask_benchmarks, task_name \u001b[38;5;241m=\u001b[39m task\u001b[38;5;241m.\u001b[39m\u001b[38;5;18m__name__\u001b[39m) \u001b[38;5;28;01mfor\u001b[39;00m task \u001b[38;5;129;01min\u001b[39;00m all_tasks]\n",
      "Input \u001b[0;32mIn [111]\u001b[0m, in \u001b[0;36m<listcomp>\u001b[0;34m(.0)\u001b[0m\n\u001b[0;32m----> 1\u001b[0m [\u001b[43mbenchmark\u001b[49m\u001b[43m(\u001b[49m\u001b[43mtask\u001b[49m\u001b[43m,\u001b[49m\u001b[43m \u001b[49m\u001b[43mdf\u001b[49m\u001b[38;5;241;43m=\u001b[39;49m\u001b[43mdf\u001b[49m\u001b[43m,\u001b[49m\u001b[43m \u001b[49m\u001b[43mbenchmarks\u001b[49m\u001b[43m \u001b[49m\u001b[38;5;241;43m=\u001b[39;49m\u001b[43m \u001b[49m\u001b[43mdask_benchmarks\u001b[49m\u001b[43m,\u001b[49m\u001b[43m \u001b[49m\u001b[43mtask_name\u001b[49m\u001b[43m \u001b[49m\u001b[38;5;241;43m=\u001b[39;49m\u001b[43m \u001b[49m\u001b[43mtask\u001b[49m\u001b[38;5;241;43m.\u001b[39;49m\u001b[38;5;18;43m__name__\u001b[39;49m\u001b[43m)\u001b[49m \u001b[38;5;28;01mfor\u001b[39;00m task \u001b[38;5;129;01min\u001b[39;00m all_tasks]\n",
      "Input \u001b[0;32mIn [67]\u001b[0m, in \u001b[0;36mbenchmark\u001b[0;34m(f, df, benchmarks, task_name, **kwargs)\u001b[0m\n\u001b[1;32m     17\u001b[0m \u001b[38;5;28;01mwith\u001b[39;00m get_task_stream(plot\u001b[38;5;241m=\u001b[39m\u001b[38;5;124m'\u001b[39m\u001b[38;5;124msave\u001b[39m\u001b[38;5;124m'\u001b[39m, filename\u001b[38;5;241m=\u001b[39m\u001b[38;5;124m\"\u001b[39m\u001b[38;5;124mtask-stream.html\u001b[39m\u001b[38;5;124m\"\u001b[39m) \u001b[38;5;28;01mas\u001b[39;00m ts:\n\u001b[1;32m     18\u001b[0m     start_time \u001b[38;5;241m=\u001b[39m time\u001b[38;5;241m.\u001b[39mtime()\n\u001b[0;32m---> 19\u001b[0m     ret \u001b[38;5;241m=\u001b[39m \u001b[43mf\u001b[49m\u001b[43m(\u001b[49m\u001b[43mdf\u001b[49m\u001b[43m,\u001b[49m\u001b[43m \u001b[49m\u001b[38;5;241;43m*\u001b[39;49m\u001b[38;5;241;43m*\u001b[39;49m\u001b[43mkwargs\u001b[49m\u001b[43m)\u001b[49m\n\u001b[1;32m     20\u001b[0m     ret_benchmark_vals[\u001b[38;5;124m'\u001b[39m\u001b[38;5;124mraw_duration\u001b[39m\u001b[38;5;124m'\u001b[39m] \u001b[38;5;241m=\u001b[39m time\u001b[38;5;241m.\u001b[39mtime() \u001b[38;5;241m-\u001b[39m start_time\n\u001b[1;32m     21\u001b[0m     ret_benchmark_vals[\u001b[38;5;124m'\u001b[39m\u001b[38;5;124mhistory\u001b[39m\u001b[38;5;124m'\u001b[39m] \u001b[38;5;241m=\u001b[39m ts\u001b[38;5;241m.\u001b[39mdata\n",
      "Input \u001b[0;32mIn [108]\u001b[0m, in \u001b[0;36mbasic_ETL\u001b[0;34m(df)\u001b[0m\n\u001b[1;32m     11\u001b[0m \u001b[38;5;28;01mdef\u001b[39;00m \u001b[38;5;21mbasic_ETL\u001b[39m(df \u001b[38;5;241m=\u001b[39m \u001b[38;5;28;01mNone\u001b[39;00m):\n\u001b[0;32m---> 12\u001b[0m     \u001b[38;5;28;01mreturn\u001b[39;00m (\u001b[43mdf\u001b[49m\u001b[38;5;241;43m.\u001b[39;49m\u001b[43mfare_amount\u001b[49m \u001b[38;5;241m+\u001b[39m df\u001b[38;5;241m.\u001b[39mtip_amount)\u001b[38;5;241m.\u001b[39mmean()\u001b[38;5;241m.\u001b[39mcompute()\n",
      "\u001b[0;31mAttributeError\u001b[0m: 'list' object has no attribute 'fare_amount'"
     ]
    }
   ],
   "source": [
    "[benchmark(task, df=df, benchmarks = dask_benchmarks, task_name = task.__name__) for task in all_tasks]"
   ]
  },
  {
   "cell_type": "code",
   "execution_count": null,
   "id": "79b703a1-a49c-48a6-8d70-d1773a0eeed2",
   "metadata": {},
   "outputs": [],
   "source": []
  },
  {
   "cell_type": "code",
   "execution_count": null,
   "id": "98632336-ee1b-446e-8e09-9780690377ee",
   "metadata": {},
   "outputs": [],
   "source": []
  },
  {
   "cell_type": "code",
   "execution_count": null,
   "id": "7653d787-7af8-4fbb-94d6-24e36baa9096",
   "metadata": {},
   "outputs": [],
   "source": []
  },
  {
   "cell_type": "code",
   "execution_count": null,
   "id": "7be32c96-764d-40b4-b51b-3b9f163a4402",
   "metadata": {},
   "outputs": [],
   "source": []
  },
  {
   "cell_type": "code",
   "execution_count": null,
   "id": "4e6a689d-d843-455a-84e3-cdca45ce3bea",
   "metadata": {},
   "outputs": [],
   "source": []
  },
  {
   "cell_type": "code",
   "execution_count": null,
   "id": "8df7d283-ca49-4511-9e04-018cf2e60006",
   "metadata": {},
   "outputs": [],
   "source": []
  },
  {
   "cell_type": "code",
   "execution_count": null,
   "id": "d06926fd-befc-4c3b-be63-847487404ae7",
   "metadata": {},
   "outputs": [],
   "source": []
  },
  {
   "cell_type": "code",
   "execution_count": null,
   "id": "d44c6313-da02-4fc4-8bf9-a091af7101cf",
   "metadata": {},
   "outputs": [],
   "source": []
  },
  {
   "cell_type": "code",
   "execution_count": null,
   "id": "49a31499-e6ba-4665-8bef-633a0feec52f",
   "metadata": {},
   "outputs": [],
   "source": []
  },
  {
   "cell_type": "code",
   "execution_count": null,
   "id": "43b3e065-d61e-4fd2-b634-76376398952a",
   "metadata": {},
   "outputs": [],
   "source": []
  },
  {
   "cell_type": "code",
   "execution_count": 17,
   "id": "efd9804c-f1ac-4917-8ca4-c185884dd17f",
   "metadata": {},
   "outputs": [],
   "source": []
  },
  {
   "cell_type": "code",
   "execution_count": null,
   "id": "bdca28a3-d593-411a-8851-778bc174d525",
   "metadata": {
    "tags": []
   },
   "outputs": [],
   "source": []
  },
  {
   "cell_type": "code",
   "execution_count": null,
   "id": "1c402a13-ad0d-4919-bb13-558ca9a2f6e1",
   "metadata": {
    "collapsed": true,
    "jupyter": {
     "outputs_hidden": true
    },
    "tags": []
   },
   "outputs": [],
   "source": []
  },
  {
   "cell_type": "code",
   "execution_count": null,
   "id": "2645f0bd-4d3e-4c38-ad19-6c9f86a1c6e7",
   "metadata": {},
   "outputs": [],
   "source": []
  },
  {
   "cell_type": "code",
   "execution_count": null,
   "id": "56ef6056-9429-4f4e-ba06-9010b65f8c48",
   "metadata": {},
   "outputs": [],
   "source": []
  },
  {
   "cell_type": "code",
   "execution_count": null,
   "id": "c08e4e98-9657-46ae-8437-020bcf2d5461",
   "metadata": {},
   "outputs": [],
   "source": []
  },
  {
   "cell_type": "code",
   "execution_count": null,
   "id": "7d0b90b6-320c-40e2-9b8e-0628719a7ceb",
   "metadata": {},
   "outputs": [],
   "source": []
  },
  {
   "cell_type": "code",
   "execution_count": null,
   "id": "8e01d1dc-74f4-45fa-9fdf-4f64ab42819d",
   "metadata": {},
   "outputs": [],
   "source": []
  }
 ],
 "metadata": {
  "kernelspec": {
   "display_name": "Python 3 (ipykernel)",
   "language": "python",
   "name": "python3"
  },
  "language_info": {
   "codemirror_mode": {
    "name": "ipython",
    "version": 3
   },
   "file_extension": ".py",
   "mimetype": "text/x-python",
   "name": "python",
   "nbconvert_exporter": "python",
   "pygments_lexer": "ipython3",
   "version": "3.8.12"
  }
 },
 "nbformat": 4,
 "nbformat_minor": 5
}
