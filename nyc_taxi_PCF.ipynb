{
 "cells": [
  {
   "cell_type": "markdown",
   "id": "949f48cd-3ad1-41a7-8b19-e9f4810274ea",
   "metadata": {},
   "source": [
    "# download, prepopulate all the csv into minio"
   ]
  },
  {
   "cell_type": "code",
   "execution_count": null,
   "id": "63365ffe-dffb-4cbb-9fe0-63919f1d0ea7",
   "metadata": {},
   "outputs": [],
   "source": []
  },
  {
   "cell_type": "code",
   "execution_count": 1,
   "id": "1243cc43-8a77-4413-8e0d-544d4fcff170",
   "metadata": {},
   "outputs": [],
   "source": [
    "import pandas as pd\n",
    "# import pyarrow as pa\n",
    "# import pyarrow.parquet as pq"
   ]
  },
  {
   "cell_type": "code",
   "execution_count": 2,
   "id": "1bc53c37-a8ab-488a-8b2b-f00c275699e9",
   "metadata": {},
   "outputs": [],
   "source": [
    "import dask.dataframe as dd\n",
    "import pandas as pd\n",
    "import numpy as np\n",
    "from dask.distributed import Client, LocalCluster\n",
    "import dask\n",
    "from dask.distributed import get_task_stream"
   ]
  },
  {
   "cell_type": "code",
   "execution_count": 3,
   "id": "c1b3d181-752d-4491-9800-401f465ea12b",
   "metadata": {},
   "outputs": [],
   "source": [
    "import time"
   ]
  },
  {
   "cell_type": "code",
   "execution_count": 4,
   "id": "73e18a36-926e-4c11-943d-24aa8cccd5f1",
   "metadata": {},
   "outputs": [
    {
     "name": "stdout",
     "output_type": "stream",
     "text": [
      "pandas version: 1.4.1\n",
      "numpy version: 1.22.2\n",
      "dask version: 2022.02.0\n"
     ]
    }
   ],
   "source": [
    "print('pandas version: %s' % pd.__version__)\n",
    "print('numpy version: %s' % np.__version__)\n",
    "print('dask version: %s' % dask.__version__)"
   ]
  },
  {
   "cell_type": "markdown",
   "id": "cff9eedc-d656-4f0b-9ba6-54ee4029e27d",
   "metadata": {},
   "source": [
    "https://docs.databricks.com/_static/notebooks/koalas-benchmark-distributed-execution.html?_ga=2.216403934.95291449.1648935555-599276868.1645477063"
   ]
  },
  {
   "cell_type": "code",
   "execution_count": 17,
   "id": "6805db2b-839c-4ba9-917c-98835feb1dc9",
   "metadata": {},
   "outputs": [],
   "source": [
    "filename = \"taxi_dataset_2009-13.txt\""
   ]
  },
  {
   "cell_type": "code",
   "execution_count": 26,
   "id": "0d1d1452-aeaa-467a-9199-10177ecd2633",
   "metadata": {},
   "outputs": [],
   "source": [
    "with open(filename) as file:\n",
    "    csv_files = [line.rstrip() for line in file]\n",
    "# only choose yellow taxis\n",
    "yellow = list(filter(lambda x: \"yellow\" in x, csv_files))"
   ]
  },
  {
   "cell_type": "code",
   "execution_count": null,
   "id": "25f3a47a-f2e7-4465-ba29-322d67d1c81d",
   "metadata": {},
   "outputs": [],
   "source": []
  },
  {
   "cell_type": "code",
   "execution_count": 27,
   "id": "c1a9594a-11ad-4e1f-8e2b-548c89b277ce",
   "metadata": {
    "scrolled": true
   },
   "outputs": [],
   "source": [
    "# make the list small for now\n",
    "# yellow = ['https://s3.amazonaws.com/nyc-tlc/trip+data/yellow_tripdata_2013-11.csv']"
   ]
  },
  {
   "cell_type": "code",
   "execution_count": 28,
   "id": "ccf2c4b7-69bb-4aa7-8f80-b1089cac5ea9",
   "metadata": {
    "collapsed": true,
    "jupyter": {
     "outputs_hidden": true
    },
    "tags": []
   },
   "outputs": [
    {
     "data": {
      "text/plain": [
       "['https://s3.amazonaws.com/nyc-tlc/trip+data/yellow_tripdata_2013-01.csv',\n",
       " 'https://s3.amazonaws.com/nyc-tlc/trip+data/yellow_tripdata_2013-02.csv',\n",
       " 'https://s3.amazonaws.com/nyc-tlc/trip+data/yellow_tripdata_2013-03.csv',\n",
       " 'https://s3.amazonaws.com/nyc-tlc/trip+data/yellow_tripdata_2013-04.csv',\n",
       " 'https://s3.amazonaws.com/nyc-tlc/trip+data/yellow_tripdata_2013-05.csv',\n",
       " 'https://s3.amazonaws.com/nyc-tlc/trip+data/yellow_tripdata_2013-06.csv',\n",
       " 'https://s3.amazonaws.com/nyc-tlc/trip+data/yellow_tripdata_2013-07.csv',\n",
       " 'https://s3.amazonaws.com/nyc-tlc/trip+data/yellow_tripdata_2013-08.csv',\n",
       " 'https://s3.amazonaws.com/nyc-tlc/trip+data/yellow_tripdata_2013-09.csv',\n",
       " 'https://s3.amazonaws.com/nyc-tlc/trip+data/yellow_tripdata_2013-10.csv',\n",
       " 'https://s3.amazonaws.com/nyc-tlc/trip+data/yellow_tripdata_2013-11.csv',\n",
       " 'https://s3.amazonaws.com/nyc-tlc/trip+data/yellow_tripdata_2013-12.csv',\n",
       " 'https://s3.amazonaws.com/nyc-tlc/trip+data/yellow_tripdata_2012-01.csv',\n",
       " 'https://s3.amazonaws.com/nyc-tlc/trip+data/yellow_tripdata_2012-02.csv',\n",
       " 'https://s3.amazonaws.com/nyc-tlc/trip+data/yellow_tripdata_2012-03.csv',\n",
       " 'https://s3.amazonaws.com/nyc-tlc/trip+data/yellow_tripdata_2012-04.csv',\n",
       " 'https://s3.amazonaws.com/nyc-tlc/trip+data/yellow_tripdata_2012-05.csv',\n",
       " 'https://s3.amazonaws.com/nyc-tlc/trip+data/yellow_tripdata_2012-06.csv',\n",
       " 'https://s3.amazonaws.com/nyc-tlc/trip+data/yellow_tripdata_2012-07.csv',\n",
       " 'https://s3.amazonaws.com/nyc-tlc/trip+data/yellow_tripdata_2012-08.csv',\n",
       " 'https://s3.amazonaws.com/nyc-tlc/trip+data/yellow_tripdata_2012-09.csv',\n",
       " 'https://s3.amazonaws.com/nyc-tlc/trip+data/yellow_tripdata_2012-10.csv',\n",
       " 'https://s3.amazonaws.com/nyc-tlc/trip+data/yellow_tripdata_2012-11.csv',\n",
       " 'https://s3.amazonaws.com/nyc-tlc/trip+data/yellow_tripdata_2012-12.csv',\n",
       " 'https://s3.amazonaws.com/nyc-tlc/trip+data/yellow_tripdata_2011-01.csv',\n",
       " 'https://s3.amazonaws.com/nyc-tlc/trip+data/yellow_tripdata_2011-02.csv',\n",
       " 'https://s3.amazonaws.com/nyc-tlc/trip+data/yellow_tripdata_2011-03.csv',\n",
       " 'https://s3.amazonaws.com/nyc-tlc/trip+data/yellow_tripdata_2011-04.csv',\n",
       " 'https://s3.amazonaws.com/nyc-tlc/trip+data/yellow_tripdata_2011-05.csv',\n",
       " 'https://s3.amazonaws.com/nyc-tlc/trip+data/yellow_tripdata_2011-06.csv',\n",
       " 'https://s3.amazonaws.com/nyc-tlc/trip+data/yellow_tripdata_2011-07.csv',\n",
       " 'https://s3.amazonaws.com/nyc-tlc/trip+data/yellow_tripdata_2011-08.csv',\n",
       " 'https://s3.amazonaws.com/nyc-tlc/trip+data/yellow_tripdata_2011-09.csv',\n",
       " 'https://s3.amazonaws.com/nyc-tlc/trip+data/yellow_tripdata_2011-10.csv',\n",
       " 'https://s3.amazonaws.com/nyc-tlc/trip+data/yellow_tripdata_2011-11.csv',\n",
       " 'https://s3.amazonaws.com/nyc-tlc/trip+data/yellow_tripdata_2011-12.csv',\n",
       " 'https://s3.amazonaws.com/nyc-tlc/trip+data/yellow_tripdata_2010-01.csv',\n",
       " 'https://s3.amazonaws.com/nyc-tlc/trip+data/yellow_tripdata_2010-02.csv',\n",
       " 'https://s3.amazonaws.com/nyc-tlc/trip+data/yellow_tripdata_2010-03.csv',\n",
       " 'https://s3.amazonaws.com/nyc-tlc/trip+data/yellow_tripdata_2010-04.csv',\n",
       " 'https://s3.amazonaws.com/nyc-tlc/trip+data/yellow_tripdata_2010-05.csv',\n",
       " 'https://s3.amazonaws.com/nyc-tlc/trip+data/yellow_tripdata_2010-06.csv',\n",
       " 'https://s3.amazonaws.com/nyc-tlc/trip+data/yellow_tripdata_2010-07.csv',\n",
       " 'https://s3.amazonaws.com/nyc-tlc/trip+data/yellow_tripdata_2010-08.csv',\n",
       " 'https://s3.amazonaws.com/nyc-tlc/trip+data/yellow_tripdata_2010-09.csv',\n",
       " 'https://s3.amazonaws.com/nyc-tlc/trip+data/yellow_tripdata_2010-10.csv',\n",
       " 'https://s3.amazonaws.com/nyc-tlc/trip+data/yellow_tripdata_2010-11.csv',\n",
       " 'https://s3.amazonaws.com/nyc-tlc/trip+data/yellow_tripdata_2010-12.csv',\n",
       " 'https://s3.amazonaws.com/nyc-tlc/trip+data/yellow_tripdata_2009-01.csv',\n",
       " 'https://s3.amazonaws.com/nyc-tlc/trip+data/yellow_tripdata_2009-02.csv',\n",
       " 'https://s3.amazonaws.com/nyc-tlc/trip+data/yellow_tripdata_2009-03.csv',\n",
       " 'https://s3.amazonaws.com/nyc-tlc/trip+data/yellow_tripdata_2009-04.csv',\n",
       " 'https://s3.amazonaws.com/nyc-tlc/trip+data/yellow_tripdata_2009-05.csv',\n",
       " 'https://s3.amazonaws.com/nyc-tlc/trip+data/yellow_tripdata_2009-06.csv',\n",
       " 'https://s3.amazonaws.com/nyc-tlc/trip+data/yellow_tripdata_2009-07.csv',\n",
       " 'https://s3.amazonaws.com/nyc-tlc/trip+data/yellow_tripdata_2009-08.csv',\n",
       " 'https://s3.amazonaws.com/nyc-tlc/trip+data/yellow_tripdata_2009-09.csv',\n",
       " 'https://s3.amazonaws.com/nyc-tlc/trip+data/yellow_tripdata_2009-10.csv',\n",
       " 'https://s3.amazonaws.com/nyc-tlc/trip+data/yellow_tripdata_2009-11.csv',\n",
       " 'https://s3.amazonaws.com/nyc-tlc/trip+data/yellow_tripdata_2009-12.csv']"
      ]
     },
     "execution_count": 28,
     "metadata": {},
     "output_type": "execute_result"
    }
   ],
   "source": [
    "# yellow"
   ]
  },
  {
   "cell_type": "code",
   "execution_count": 21,
   "id": "eb9d0a86-6ec6-44a9-9dfd-573cb991014b",
   "metadata": {
    "collapsed": true,
    "jupyter": {
     "outputs_hidden": true
    },
    "tags": []
   },
   "outputs": [
    {
     "data": {
      "text/plain": [
       "{'file': {'class': 'fsspec.implementations.local.LocalFileSystem'},\n",
       " 'memory': {'class': 'fsspec.implementations.memory.MemoryFileSystem'},\n",
       " 'dropbox': {'class': 'dropboxdrivefs.DropboxDriveFileSystem',\n",
       "  'err': 'DropboxFileSystem requires \"dropboxdrivefs\",\"requests\" and \"dropbox\" to be installed'},\n",
       " 'http': {'class': 'fsspec.implementations.http.HTTPFileSystem',\n",
       "  'err': 'HTTPFileSystem requires \"requests\" and \"aiohttp\" to be installed'},\n",
       " 'https': {'class': 'fsspec.implementations.http.HTTPFileSystem',\n",
       "  'err': 'HTTPFileSystem requires \"requests\" and \"aiohttp\" to be installed'},\n",
       " 'zip': {'class': 'fsspec.implementations.zip.ZipFileSystem'},\n",
       " 'tar': {'class': 'fsspec.implementations.tar.TarFileSystem'},\n",
       " 'gcs': {'class': 'gcsfs.GCSFileSystem',\n",
       "  'err': 'Please install gcsfs to access Google Storage'},\n",
       " 'gs': {'class': 'gcsfs.GCSFileSystem',\n",
       "  'err': 'Please install gcsfs to access Google Storage'},\n",
       " 'gdrive': {'class': 'gdrivefs.GoogleDriveFileSystem',\n",
       "  'err': 'Please install gdrivefs for access to Google Drive'},\n",
       " 'sftp': {'class': 'fsspec.implementations.sftp.SFTPFileSystem',\n",
       "  'err': 'SFTPFileSystem requires \"paramiko\" to be installed'},\n",
       " 'ssh': {'class': 'fsspec.implementations.sftp.SFTPFileSystem',\n",
       "  'err': 'SFTPFileSystem requires \"paramiko\" to be installed'},\n",
       " 'ftp': {'class': 'fsspec.implementations.ftp.FTPFileSystem'},\n",
       " 'hdfs': {'class': 'fsspec.implementations.hdfs.PyArrowHDFS',\n",
       "  'err': 'pyarrow and local java libraries required for HDFS'},\n",
       " 'arrow_hdfs': {'class': 'fsspec.implementations.arrow.HadoopFileSystem',\n",
       "  'err': 'pyarrow and local java libraries required for HDFS'},\n",
       " 'webhdfs': {'class': 'fsspec.implementations.webhdfs.WebHDFS',\n",
       "  'err': 'webHDFS access requires \"requests\" to be installed'},\n",
       " 's3': {'class': 's3fs.S3FileSystem', 'err': 'Install s3fs to access S3'},\n",
       " 's3a': {'class': 's3fs.S3FileSystem', 'err': 'Install s3fs to access S3'},\n",
       " 'wandb': {'class': 'wandbfs.WandbFS',\n",
       "  'err': 'Install wandbfs to access wandb'},\n",
       " 'oci': {'class': 'ocifs.OCIFileSystem',\n",
       "  'err': 'Install ocifs to access OCI Object Storage'},\n",
       " 'adl': {'class': 'adlfs.AzureDatalakeFileSystem',\n",
       "  'err': 'Install adlfs to access Azure Datalake Gen1'},\n",
       " 'abfs': {'class': 'adlfs.AzureBlobFileSystem',\n",
       "  'err': 'Install adlfs to access Azure Datalake Gen2 and Azure Blob Storage'},\n",
       " 'az': {'class': 'adlfs.AzureBlobFileSystem',\n",
       "  'err': 'Install adlfs to access Azure Datalake Gen2 and Azure Blob Storage'},\n",
       " 'cached': {'class': 'fsspec.implementations.cached.CachingFileSystem'},\n",
       " 'blockcache': {'class': 'fsspec.implementations.cached.CachingFileSystem'},\n",
       " 'filecache': {'class': 'fsspec.implementations.cached.WholeFileCacheFileSystem'},\n",
       " 'simplecache': {'class': 'fsspec.implementations.cached.SimpleCacheFileSystem'},\n",
       " 'dask': {'class': 'fsspec.implementations.dask.DaskWorkerFileSystem',\n",
       "  'err': 'Install dask distributed to access worker file system'},\n",
       " 'dbfs': {'class': 'fsspec.implementations.dbfs.DatabricksFileSystem',\n",
       "  'err': 'Install the requests package to use the DatabricksFileSystem'},\n",
       " 'github': {'class': 'fsspec.implementations.github.GithubFileSystem',\n",
       "  'err': 'Install the requests package to use the github FS'},\n",
       " 'git': {'class': 'fsspec.implementations.git.GitFileSystem',\n",
       "  'err': 'Install pygit2 to browse local git repos'},\n",
       " 'smb': {'class': 'fsspec.implementations.smb.SMBFileSystem',\n",
       "  'err': 'SMB requires \"smbprotocol\" or \"smbprotocol[kerberos]\" installed'},\n",
       " 'jupyter': {'class': 'fsspec.implementations.jupyter.JupyterFileSystem',\n",
       "  'err': 'Jupyter FS requires requests to be installed'},\n",
       " 'jlab': {'class': 'fsspec.implementations.jupyter.JupyterFileSystem',\n",
       "  'err': 'Jupyter FS requires requests to be installed'},\n",
       " 'libarchive': {'class': 'fsspec.implementations.libarchive.LibArchiveFileSystem',\n",
       "  'err': 'LibArchive requires to be installed'},\n",
       " 'reference': {'class': 'fsspec.implementations.reference.ReferenceFileSystem'}}"
      ]
     },
     "execution_count": 21,
     "metadata": {},
     "output_type": "execute_result"
    }
   ],
   "source": [
    "from fsspec.registry import known_implementations\n",
    "known_implementations"
   ]
  },
  {
   "cell_type": "code",
   "execution_count": null,
   "id": "a050e0b9-036e-48d4-9e68-ed65839ba123",
   "metadata": {},
   "outputs": [],
   "source": []
  },
  {
   "cell_type": "markdown",
   "id": "bad4c716-c66f-4ef4-9e52-bbbe9ccb7ff9",
   "metadata": {},
   "source": [
    "# Configure minio"
   ]
  },
  {
   "cell_type": "code",
   "execution_count": 22,
   "id": "d28883b1-34f7-4146-af01-1b50a27916ae",
   "metadata": {},
   "outputs": [],
   "source": [
    "import getpass"
   ]
  },
  {
   "cell_type": "code",
   "execution_count": 23,
   "id": "8c2f3c52-c68f-4e82-bf2f-0d75a974af33",
   "metadata": {},
   "outputs": [
    {
     "name": "stdin",
     "output_type": "stream",
     "text": [
      " ····\n",
      " ···············································\n"
     ]
    }
   ],
   "source": [
    "\n",
    "\n",
    "#tag::minio_storage_options[]\n",
    "# straight from holden's example\n",
    "minio_storage_options = {\n",
    "    \"key\": getpass.getpass(),\n",
    "    \"secret\": getpass.getpass(),\n",
    "    \"client_kwargs\": {\n",
    "        # \"endpoint_url\": \"http://minio-1602984784.minio.svc.cluster.local:9000\",\n",
    "        # \"endpoint_url\": \"http://minio.pigscanfly.ca:9000\",\n",
    "        \"endpoint_url\": \"http://10.43.207.163:9000\",\n",
    "        \"region_name\": 'us-east-1'\n",
    "    },\n",
    "    \"config_kwargs\": {\"s3\": {\"signature_version\": 's3v4'}},\n",
    "}\n",
    "#end::minio_storage_options[]"
   ]
  },
  {
   "cell_type": "code",
   "execution_count": null,
   "id": "02b024cd-2674-4869-8472-87d7714d7bfa",
   "metadata": {},
   "outputs": [],
   "source": []
  },
  {
   "cell_type": "code",
   "execution_count": 8,
   "id": "a0a24e4f-d895-4014-b899-e15ddcf1ec2d",
   "metadata": {},
   "outputs": [
    {
     "name": "stdout",
     "output_type": "stream",
     "text": [
      "Collecting pyarrow\n",
      "  Using cached pyarrow-7.0.0-cp38-cp38-manylinux_2_17_aarch64.manylinux2014_aarch64.whl (24.9 MB)\n",
      "Requirement already satisfied: numpy>=1.16.6 in /opt/conda/lib/python3.8/site-packages (from pyarrow) (1.22.2)\n",
      "Installing collected packages: pyarrow\n",
      "Successfully installed pyarrow-7.0.0\n"
     ]
    }
   ],
   "source": [
    "!pip install pyarrow"
   ]
  },
  {
   "cell_type": "code",
   "execution_count": 12,
   "id": "12cc6c86-b246-457e-a499-6a34f6dbe2e1",
   "metadata": {},
   "outputs": [],
   "source": [
    "# !conda install -c conda-forge s3fs"
   ]
  },
  {
   "cell_type": "code",
   "execution_count": 25,
   "id": "1289c68d-09aa-4e3b-b872-e06f492131ec",
   "metadata": {},
   "outputs": [
    {
     "name": "stdout",
     "output_type": "stream",
     "text": [
      "Requirement already satisfied: fsspec[s3] in /opt/conda/lib/python3.8/site-packages (2022.3.0)\n",
      "Requirement already satisfied: aiohttp in /opt/conda/lib/python3.8/site-packages (3.8.1)\n",
      "Requirement already satisfied: s3fs in /opt/conda/lib/python3.8/site-packages (from fsspec[s3]) (2022.3.0)\n",
      "Requirement already satisfied: charset-normalizer<3.0,>=2.0 in /opt/conda/lib/python3.8/site-packages (from aiohttp) (2.0.12)\n",
      "Requirement already satisfied: attrs>=17.3.0 in /opt/conda/lib/python3.8/site-packages (from aiohttp) (21.4.0)\n",
      "Requirement already satisfied: multidict<7.0,>=4.5 in /opt/conda/lib/python3.8/site-packages (from aiohttp) (6.0.2)\n",
      "Requirement already satisfied: frozenlist>=1.1.1 in /opt/conda/lib/python3.8/site-packages (from aiohttp) (1.3.0)\n",
      "Requirement already satisfied: async-timeout<5.0,>=4.0.0a3 in /opt/conda/lib/python3.8/site-packages (from aiohttp) (4.0.2)\n",
      "Requirement already satisfied: yarl<2.0,>=1.0 in /opt/conda/lib/python3.8/site-packages (from aiohttp) (1.7.2)\n",
      "Requirement already satisfied: aiosignal>=1.1.2 in /opt/conda/lib/python3.8/site-packages (from aiohttp) (1.2.0)\n",
      "Requirement already satisfied: idna>=2.0 in /opt/conda/lib/python3.8/site-packages (from yarl<2.0,>=1.0->aiohttp) (3.3)\n",
      "Requirement already satisfied: aiobotocore~=2.2.0 in /opt/conda/lib/python3.8/site-packages (from s3fs->fsspec[s3]) (2.2.0)\n",
      "Requirement already satisfied: aioitertools>=0.5.1 in /opt/conda/lib/python3.8/site-packages (from aiobotocore~=2.2.0->s3fs->fsspec[s3]) (0.10.0)\n",
      "Requirement already satisfied: wrapt>=1.10.10 in /opt/conda/lib/python3.8/site-packages (from aiobotocore~=2.2.0->s3fs->fsspec[s3]) (1.14.1)\n",
      "Requirement already satisfied: botocore<1.24.22,>=1.24.21 in /opt/conda/lib/python3.8/site-packages (from aiobotocore~=2.2.0->s3fs->fsspec[s3]) (1.24.21)\n",
      "Requirement already satisfied: typing_extensions>=4.0 in /opt/conda/lib/python3.8/site-packages (from aioitertools>=0.5.1->aiobotocore~=2.2.0->s3fs->fsspec[s3]) (4.1.1)\n",
      "Requirement already satisfied: urllib3<1.27,>=1.25.4 in /opt/conda/lib/python3.8/site-packages (from botocore<1.24.22,>=1.24.21->aiobotocore~=2.2.0->s3fs->fsspec[s3]) (1.26.8)\n",
      "Requirement already satisfied: jmespath<2.0.0,>=0.7.1 in /opt/conda/lib/python3.8/site-packages (from botocore<1.24.22,>=1.24.21->aiobotocore~=2.2.0->s3fs->fsspec[s3]) (1.0.0)\n",
      "Requirement already satisfied: python-dateutil<3.0.0,>=2.1 in /opt/conda/lib/python3.8/site-packages (from botocore<1.24.22,>=1.24.21->aiobotocore~=2.2.0->s3fs->fsspec[s3]) (2.8.2)\n",
      "Requirement already satisfied: six>=1.5 in /opt/conda/lib/python3.8/site-packages (from python-dateutil<3.0.0,>=2.1->botocore<1.24.22,>=1.24.21->aiobotocore~=2.2.0->s3fs->fsspec[s3]) (1.16.0)\n"
     ]
    }
   ],
   "source": [
    "# !pip install fsspec[s3] aiohttp"
   ]
  },
  {
   "cell_type": "code",
   "execution_count": 9,
   "id": "d44f4d96-4188-460f-9721-69244a0f8e7c",
   "metadata": {},
   "outputs": [],
   "source": [
    "import pyarrow"
   ]
  },
  {
   "cell_type": "code",
   "execution_count": 29,
   "id": "d4fb04c4-a0aa-4214-9add-499598e831f7",
   "metadata": {
    "collapsed": true,
    "jupyter": {
     "outputs_hidden": true
    },
    "tags": []
   },
   "outputs": [
    {
     "data": {
      "text/plain": [
       "['https://s3.amazonaws.com/nyc-tlc/trip+data/yellow_tripdata_2013-01.csv',\n",
       " 'https://s3.amazonaws.com/nyc-tlc/trip+data/yellow_tripdata_2013-02.csv',\n",
       " 'https://s3.amazonaws.com/nyc-tlc/trip+data/yellow_tripdata_2013-03.csv',\n",
       " 'https://s3.amazonaws.com/nyc-tlc/trip+data/yellow_tripdata_2013-04.csv',\n",
       " 'https://s3.amazonaws.com/nyc-tlc/trip+data/yellow_tripdata_2013-05.csv',\n",
       " 'https://s3.amazonaws.com/nyc-tlc/trip+data/yellow_tripdata_2013-06.csv',\n",
       " 'https://s3.amazonaws.com/nyc-tlc/trip+data/yellow_tripdata_2013-07.csv',\n",
       " 'https://s3.amazonaws.com/nyc-tlc/trip+data/yellow_tripdata_2013-08.csv',\n",
       " 'https://s3.amazonaws.com/nyc-tlc/trip+data/yellow_tripdata_2013-09.csv',\n",
       " 'https://s3.amazonaws.com/nyc-tlc/trip+data/yellow_tripdata_2013-10.csv',\n",
       " 'https://s3.amazonaws.com/nyc-tlc/trip+data/yellow_tripdata_2013-11.csv',\n",
       " 'https://s3.amazonaws.com/nyc-tlc/trip+data/yellow_tripdata_2013-12.csv',\n",
       " 'https://s3.amazonaws.com/nyc-tlc/trip+data/yellow_tripdata_2012-01.csv',\n",
       " 'https://s3.amazonaws.com/nyc-tlc/trip+data/yellow_tripdata_2012-02.csv',\n",
       " 'https://s3.amazonaws.com/nyc-tlc/trip+data/yellow_tripdata_2012-03.csv',\n",
       " 'https://s3.amazonaws.com/nyc-tlc/trip+data/yellow_tripdata_2012-04.csv',\n",
       " 'https://s3.amazonaws.com/nyc-tlc/trip+data/yellow_tripdata_2012-05.csv',\n",
       " 'https://s3.amazonaws.com/nyc-tlc/trip+data/yellow_tripdata_2012-06.csv',\n",
       " 'https://s3.amazonaws.com/nyc-tlc/trip+data/yellow_tripdata_2012-07.csv',\n",
       " 'https://s3.amazonaws.com/nyc-tlc/trip+data/yellow_tripdata_2012-08.csv',\n",
       " 'https://s3.amazonaws.com/nyc-tlc/trip+data/yellow_tripdata_2012-09.csv',\n",
       " 'https://s3.amazonaws.com/nyc-tlc/trip+data/yellow_tripdata_2012-10.csv',\n",
       " 'https://s3.amazonaws.com/nyc-tlc/trip+data/yellow_tripdata_2012-11.csv',\n",
       " 'https://s3.amazonaws.com/nyc-tlc/trip+data/yellow_tripdata_2012-12.csv',\n",
       " 'https://s3.amazonaws.com/nyc-tlc/trip+data/yellow_tripdata_2011-01.csv',\n",
       " 'https://s3.amazonaws.com/nyc-tlc/trip+data/yellow_tripdata_2011-02.csv',\n",
       " 'https://s3.amazonaws.com/nyc-tlc/trip+data/yellow_tripdata_2011-03.csv',\n",
       " 'https://s3.amazonaws.com/nyc-tlc/trip+data/yellow_tripdata_2011-04.csv',\n",
       " 'https://s3.amazonaws.com/nyc-tlc/trip+data/yellow_tripdata_2011-05.csv',\n",
       " 'https://s3.amazonaws.com/nyc-tlc/trip+data/yellow_tripdata_2011-06.csv',\n",
       " 'https://s3.amazonaws.com/nyc-tlc/trip+data/yellow_tripdata_2011-07.csv',\n",
       " 'https://s3.amazonaws.com/nyc-tlc/trip+data/yellow_tripdata_2011-08.csv',\n",
       " 'https://s3.amazonaws.com/nyc-tlc/trip+data/yellow_tripdata_2011-09.csv',\n",
       " 'https://s3.amazonaws.com/nyc-tlc/trip+data/yellow_tripdata_2011-10.csv',\n",
       " 'https://s3.amazonaws.com/nyc-tlc/trip+data/yellow_tripdata_2011-11.csv',\n",
       " 'https://s3.amazonaws.com/nyc-tlc/trip+data/yellow_tripdata_2011-12.csv',\n",
       " 'https://s3.amazonaws.com/nyc-tlc/trip+data/yellow_tripdata_2010-01.csv',\n",
       " 'https://s3.amazonaws.com/nyc-tlc/trip+data/yellow_tripdata_2010-02.csv',\n",
       " 'https://s3.amazonaws.com/nyc-tlc/trip+data/yellow_tripdata_2010-03.csv',\n",
       " 'https://s3.amazonaws.com/nyc-tlc/trip+data/yellow_tripdata_2010-04.csv',\n",
       " 'https://s3.amazonaws.com/nyc-tlc/trip+data/yellow_tripdata_2010-05.csv',\n",
       " 'https://s3.amazonaws.com/nyc-tlc/trip+data/yellow_tripdata_2010-06.csv',\n",
       " 'https://s3.amazonaws.com/nyc-tlc/trip+data/yellow_tripdata_2010-07.csv',\n",
       " 'https://s3.amazonaws.com/nyc-tlc/trip+data/yellow_tripdata_2010-08.csv',\n",
       " 'https://s3.amazonaws.com/nyc-tlc/trip+data/yellow_tripdata_2010-09.csv',\n",
       " 'https://s3.amazonaws.com/nyc-tlc/trip+data/yellow_tripdata_2010-10.csv',\n",
       " 'https://s3.amazonaws.com/nyc-tlc/trip+data/yellow_tripdata_2010-11.csv',\n",
       " 'https://s3.amazonaws.com/nyc-tlc/trip+data/yellow_tripdata_2010-12.csv',\n",
       " 'https://s3.amazonaws.com/nyc-tlc/trip+data/yellow_tripdata_2009-01.csv',\n",
       " 'https://s3.amazonaws.com/nyc-tlc/trip+data/yellow_tripdata_2009-02.csv',\n",
       " 'https://s3.amazonaws.com/nyc-tlc/trip+data/yellow_tripdata_2009-03.csv',\n",
       " 'https://s3.amazonaws.com/nyc-tlc/trip+data/yellow_tripdata_2009-04.csv',\n",
       " 'https://s3.amazonaws.com/nyc-tlc/trip+data/yellow_tripdata_2009-05.csv',\n",
       " 'https://s3.amazonaws.com/nyc-tlc/trip+data/yellow_tripdata_2009-06.csv',\n",
       " 'https://s3.amazonaws.com/nyc-tlc/trip+data/yellow_tripdata_2009-07.csv',\n",
       " 'https://s3.amazonaws.com/nyc-tlc/trip+data/yellow_tripdata_2009-08.csv',\n",
       " 'https://s3.amazonaws.com/nyc-tlc/trip+data/yellow_tripdata_2009-09.csv']"
      ]
     },
     "execution_count": 29,
     "metadata": {},
     "output_type": "execute_result"
    }
   ],
   "source": [
    "# yellow.pop()\n",
    "# yellow.pop()\n",
    "# yellow.pop()\n",
    "yellow"
   ]
  },
  {
   "cell_type": "code",
   "execution_count": 30,
   "id": "bbc273fa-43b7-4fab-b43e-65b0ce723af7",
   "metadata": {},
   "outputs": [],
   "source": [
    "# yellow_backup = yellow"
   ]
  },
  {
   "cell_type": "code",
   "execution_count": 15,
   "id": "712e3300-f424-4045-8943-21383b1f55d9",
   "metadata": {},
   "outputs": [
    {
     "data": {
      "text/plain": [
       "57"
      ]
     },
     "execution_count": 15,
     "metadata": {},
     "output_type": "execute_result"
    }
   ],
   "source": [
    "len(yellow)"
   ]
  },
  {
   "cell_type": "code",
   "execution_count": 31,
   "id": "adb17bab-d2a4-47cd-82d6-5df0d7b0af01",
   "metadata": {
    "collapsed": true,
    "jupyter": {
     "outputs_hidden": true
    },
    "tags": []
   },
   "outputs": [
    {
     "name": "stdout",
     "output_type": "stream",
     "text": [
      "https://s3.amazonaws.com/nyc-tlc/trip+data/yellow_tripdata_2009-09.csv\n",
      "failed, https://s3.amazonaws.com/nyc-tlc/trip+data/yellow_tripdata_2009-09.csv\n",
      "Mismatched dtypes found in `pd.read_csv`/`pd.read_table`.\n",
      "\n",
      "+-----------+---------+----------+\n",
      "| Column    | Found   | Expected |\n",
      "+-----------+---------+----------+\n",
      "| surcharge | float64 | int64    |\n",
      "+-----------+---------+----------+\n",
      "\n",
      "Usually this is due to dask's dtype inference failing, and\n",
      "*may* be fixed by specifying dtypes manually by adding:\n",
      "\n",
      "dtype={'surcharge': 'float64'}\n",
      "\n",
      "to the call to `read_csv`/`read_table`.\n",
      "\n",
      "Alternatively, provide `assume_missing=True` to interpret\n",
      "all unspecified integer columns as floats.\n",
      "https://s3.amazonaws.com/nyc-tlc/trip+data/yellow_tripdata_2009-08.csv\n",
      "failed, https://s3.amazonaws.com/nyc-tlc/trip+data/yellow_tripdata_2009-08.csv\n",
      "Mismatched dtypes found in `pd.read_csv`/`pd.read_table`.\n",
      "\n",
      "+-----------+---------+----------+\n",
      "| Column    | Found   | Expected |\n",
      "+-----------+---------+----------+\n",
      "| surcharge | float64 | int64    |\n",
      "+-----------+---------+----------+\n",
      "\n",
      "Usually this is due to dask's dtype inference failing, and\n",
      "*may* be fixed by specifying dtypes manually by adding:\n",
      "\n",
      "dtype={'surcharge': 'float64'}\n",
      "\n",
      "to the call to `read_csv`/`read_table`.\n",
      "\n",
      "Alternatively, provide `assume_missing=True` to interpret\n",
      "all unspecified integer columns as floats.\n",
      "https://s3.amazonaws.com/nyc-tlc/trip+data/yellow_tripdata_2009-07.csv\n",
      "https://s3.amazonaws.com/nyc-tlc/trip+data/yellow_tripdata_2009-06.csv\n",
      "https://s3.amazonaws.com/nyc-tlc/trip+data/yellow_tripdata_2009-05.csv\n",
      "failed, https://s3.amazonaws.com/nyc-tlc/trip+data/yellow_tripdata_2009-05.csv\n",
      "Mismatched dtypes found in `pd.read_csv`/`pd.read_table`.\n",
      "\n",
      "+-----------+---------+----------+\n",
      "| Column    | Found   | Expected |\n",
      "+-----------+---------+----------+\n",
      "| surcharge | float64 | int64    |\n",
      "+-----------+---------+----------+\n",
      "\n",
      "Usually this is due to dask's dtype inference failing, and\n",
      "*may* be fixed by specifying dtypes manually by adding:\n",
      "\n",
      "dtype={'surcharge': 'float64'}\n",
      "\n",
      "to the call to `read_csv`/`read_table`.\n",
      "\n",
      "Alternatively, provide `assume_missing=True` to interpret\n",
      "all unspecified integer columns as floats.\n",
      "https://s3.amazonaws.com/nyc-tlc/trip+data/yellow_tripdata_2009-04.csv\n",
      "https://s3.amazonaws.com/nyc-tlc/trip+data/yellow_tripdata_2009-03.csv\n",
      "https://s3.amazonaws.com/nyc-tlc/trip+data/yellow_tripdata_2009-02.csv\n",
      "https://s3.amazonaws.com/nyc-tlc/trip+data/yellow_tripdata_2009-01.csv\n",
      "https://s3.amazonaws.com/nyc-tlc/trip+data/yellow_tripdata_2010-12.csv\n"
     ]
    },
    {
     "name": "stderr",
     "output_type": "stream",
     "text": [
      "/opt/conda/lib/python3.8/site-packages/dask/dataframe/io/csv.py:181: DtypeWarning: Columns (8) have mixed types. Specify dtype option on import or set low_memory=False.\n",
      "  df = reader(bio, **kwargs)\n"
     ]
    },
    {
     "name": "stdout",
     "output_type": "stream",
     "text": [
      "failed, https://s3.amazonaws.com/nyc-tlc/trip+data/yellow_tripdata_2010-12.csv\n",
      "Mismatched dtypes found in `pd.read_csv`/`pd.read_table`.\n",
      "\n",
      "+--------------------+--------+----------+\n",
      "| Column             | Found  | Expected |\n",
      "+--------------------+--------+----------+\n",
      "| store_and_fwd_flag | object | float64  |\n",
      "+--------------------+--------+----------+\n",
      "\n",
      "The following columns also raised exceptions on conversion:\n",
      "\n",
      "- store_and_fwd_flag\n",
      "  ValueError(\"could not convert string to float: 'N'\")\n",
      "\n",
      "Usually this is due to dask's dtype inference failing, and\n",
      "*may* be fixed by specifying dtypes manually by adding:\n",
      "\n",
      "dtype={'store_and_fwd_flag': 'object'}\n",
      "\n",
      "to the call to `read_csv`/`read_table`.\n",
      "https://s3.amazonaws.com/nyc-tlc/trip+data/yellow_tripdata_2010-11.csv\n"
     ]
    },
    {
     "name": "stderr",
     "output_type": "stream",
     "text": [
      "/opt/conda/lib/python3.8/site-packages/dask/dataframe/io/csv.py:181: DtypeWarning: Columns (8) have mixed types. Specify dtype option on import or set low_memory=False.\n",
      "  df = reader(bio, **kwargs)\n",
      "/opt/conda/lib/python3.8/site-packages/dask/dataframe/io/csv.py:181: DtypeWarning: Columns (8) have mixed types. Specify dtype option on import or set low_memory=False.\n",
      "  df = reader(bio, **kwargs)\n",
      "/opt/conda/lib/python3.8/site-packages/dask/dataframe/io/csv.py:181: DtypeWarning: Columns (8) have mixed types. Specify dtype option on import or set low_memory=False.\n",
      "  df = reader(bio, **kwargs)\n",
      "/opt/conda/lib/python3.8/site-packages/dask/dataframe/io/csv.py:181: DtypeWarning: Columns (8) have mixed types. Specify dtype option on import or set low_memory=False.\n",
      "  df = reader(bio, **kwargs)\n",
      "/opt/conda/lib/python3.8/site-packages/dask/dataframe/io/csv.py:181: DtypeWarning: Columns (8) have mixed types. Specify dtype option on import or set low_memory=False.\n",
      "  df = reader(bio, **kwargs)\n",
      "/opt/conda/lib/python3.8/site-packages/dask/dataframe/io/csv.py:181: DtypeWarning: Columns (8) have mixed types. Specify dtype option on import or set low_memory=False.\n",
      "  df = reader(bio, **kwargs)\n",
      "/opt/conda/lib/python3.8/site-packages/dask/dataframe/io/csv.py:181: DtypeWarning: Columns (8) have mixed types. Specify dtype option on import or set low_memory=False.\n",
      "  df = reader(bio, **kwargs)\n",
      "/opt/conda/lib/python3.8/site-packages/dask/dataframe/io/csv.py:181: DtypeWarning: Columns (8) have mixed types. Specify dtype option on import or set low_memory=False.\n",
      "  df = reader(bio, **kwargs)\n",
      "/opt/conda/lib/python3.8/site-packages/dask/dataframe/io/csv.py:181: DtypeWarning: Columns (8) have mixed types. Specify dtype option on import or set low_memory=False.\n",
      "  df = reader(bio, **kwargs)\n",
      "/opt/conda/lib/python3.8/site-packages/dask/dataframe/io/csv.py:181: DtypeWarning: Columns (8) have mixed types. Specify dtype option on import or set low_memory=False.\n",
      "  df = reader(bio, **kwargs)\n",
      "/opt/conda/lib/python3.8/site-packages/dask/dataframe/io/csv.py:181: DtypeWarning: Columns (8) have mixed types. Specify dtype option on import or set low_memory=False.\n",
      "  df = reader(bio, **kwargs)\n",
      "/opt/conda/lib/python3.8/site-packages/dask/dataframe/io/csv.py:181: DtypeWarning: Columns (8) have mixed types. Specify dtype option on import or set low_memory=False.\n",
      "  df = reader(bio, **kwargs)\n",
      "/opt/conda/lib/python3.8/site-packages/dask/dataframe/io/csv.py:181: DtypeWarning: Columns (8) have mixed types. Specify dtype option on import or set low_memory=False.\n",
      "  df = reader(bio, **kwargs)\n",
      "/opt/conda/lib/python3.8/site-packages/dask/dataframe/io/csv.py:181: DtypeWarning: Columns (8) have mixed types. Specify dtype option on import or set low_memory=False.\n",
      "  df = reader(bio, **kwargs)\n",
      "/opt/conda/lib/python3.8/site-packages/dask/dataframe/io/csv.py:181: DtypeWarning: Columns (8) have mixed types. Specify dtype option on import or set low_memory=False.\n",
      "  df = reader(bio, **kwargs)\n",
      "/opt/conda/lib/python3.8/site-packages/dask/dataframe/io/csv.py:181: DtypeWarning: Columns (8) have mixed types. Specify dtype option on import or set low_memory=False.\n",
      "  df = reader(bio, **kwargs)\n",
      "/opt/conda/lib/python3.8/site-packages/dask/dataframe/io/csv.py:181: DtypeWarning: Columns (8) have mixed types. Specify dtype option on import or set low_memory=False.\n",
      "  df = reader(bio, **kwargs)\n",
      "/opt/conda/lib/python3.8/site-packages/dask/dataframe/io/csv.py:181: DtypeWarning: Columns (8) have mixed types. Specify dtype option on import or set low_memory=False.\n",
      "  df = reader(bio, **kwargs)\n",
      "/opt/conda/lib/python3.8/site-packages/dask/dataframe/io/csv.py:181: DtypeWarning: Columns (8) have mixed types. Specify dtype option on import or set low_memory=False.\n",
      "  df = reader(bio, **kwargs)\n",
      "/opt/conda/lib/python3.8/site-packages/dask/dataframe/io/csv.py:181: DtypeWarning: Columns (8) have mixed types. Specify dtype option on import or set low_memory=False.\n",
      "  df = reader(bio, **kwargs)\n",
      "/opt/conda/lib/python3.8/site-packages/dask/dataframe/io/csv.py:181: DtypeWarning: Columns (8) have mixed types. Specify dtype option on import or set low_memory=False.\n",
      "  df = reader(bio, **kwargs)\n",
      "/opt/conda/lib/python3.8/site-packages/dask/dataframe/io/csv.py:181: DtypeWarning: Columns (8) have mixed types. Specify dtype option on import or set low_memory=False.\n",
      "  df = reader(bio, **kwargs)\n",
      "/opt/conda/lib/python3.8/site-packages/dask/dataframe/io/csv.py:181: DtypeWarning: Columns (8) have mixed types. Specify dtype option on import or set low_memory=False.\n",
      "  df = reader(bio, **kwargs)\n"
     ]
    },
    {
     "name": "stdout",
     "output_type": "stream",
     "text": [
      "https://s3.amazonaws.com/nyc-tlc/trip+data/yellow_tripdata_2010-10.csv\n",
      "https://s3.amazonaws.com/nyc-tlc/trip+data/yellow_tripdata_2010-09.csv\n",
      "failed, https://s3.amazonaws.com/nyc-tlc/trip+data/yellow_tripdata_2010-09.csv\n",
      "Mismatched dtypes found in `pd.read_csv`/`pd.read_table`.\n",
      "\n",
      "+--------------------+---------+----------+\n",
      "| Column             | Found   | Expected |\n",
      "+--------------------+---------+----------+\n",
      "| store_and_fwd_flag | object  | float64  |\n",
      "| surcharge          | float64 | int64    |\n",
      "+--------------------+---------+----------+\n",
      "\n",
      "The following columns also raised exceptions on conversion:\n",
      "\n",
      "- store_and_fwd_flag\n",
      "  ValueError(\"could not convert string to float: 'N'\")\n",
      "\n",
      "Usually this is due to dask's dtype inference failing, and\n",
      "*may* be fixed by specifying dtypes manually by adding:\n",
      "\n",
      "dtype={'store_and_fwd_flag': 'object',\n",
      "       'surcharge': 'float64'}\n",
      "\n",
      "to the call to `read_csv`/`read_table`.\n",
      "https://s3.amazonaws.com/nyc-tlc/trip+data/yellow_tripdata_2010-08.csv\n",
      "failed, https://s3.amazonaws.com/nyc-tlc/trip+data/yellow_tripdata_2010-08.csv\n",
      "Mismatched dtypes found in `pd.read_csv`/`pd.read_table`.\n",
      "\n",
      "+-----------+---------+----------+\n",
      "| Column    | Found   | Expected |\n",
      "+-----------+---------+----------+\n",
      "| surcharge | float64 | int64    |\n",
      "+-----------+---------+----------+\n",
      "\n",
      "Usually this is due to dask's dtype inference failing, and\n",
      "*may* be fixed by specifying dtypes manually by adding:\n",
      "\n",
      "dtype={'surcharge': 'float64'}\n",
      "\n",
      "to the call to `read_csv`/`read_table`.\n",
      "\n",
      "Alternatively, provide `assume_missing=True` to interpret\n",
      "all unspecified integer columns as floats.\n",
      "https://s3.amazonaws.com/nyc-tlc/trip+data/yellow_tripdata_2010-07.csv\n"
     ]
    },
    {
     "name": "stderr",
     "output_type": "stream",
     "text": [
      "/opt/conda/lib/python3.8/site-packages/dask/dataframe/io/csv.py:181: DtypeWarning: Columns (8) have mixed types. Specify dtype option on import or set low_memory=False.\n",
      "  df = reader(bio, **kwargs)\n",
      "/opt/conda/lib/python3.8/site-packages/dask/dataframe/io/csv.py:181: DtypeWarning: Columns (8) have mixed types. Specify dtype option on import or set low_memory=False.\n",
      "  df = reader(bio, **kwargs)\n",
      "/opt/conda/lib/python3.8/site-packages/dask/dataframe/io/csv.py:181: DtypeWarning: Columns (8) have mixed types. Specify dtype option on import or set low_memory=False.\n",
      "  df = reader(bio, **kwargs)\n"
     ]
    },
    {
     "name": "stdout",
     "output_type": "stream",
     "text": [
      "https://s3.amazonaws.com/nyc-tlc/trip+data/yellow_tripdata_2010-06.csv\n",
      "failed, https://s3.amazonaws.com/nyc-tlc/trip+data/yellow_tripdata_2010-06.csv\n",
      "Mismatched dtypes found in `pd.read_csv`/`pd.read_table`.\n",
      "\n",
      "+--------------------+---------+----------+\n",
      "| Column             | Found   | Expected |\n",
      "+--------------------+---------+----------+\n",
      "| store_and_fwd_flag | float64 | int64    |\n",
      "+--------------------+---------+----------+\n",
      "\n",
      "Usually this is due to dask's dtype inference failing, and\n",
      "*may* be fixed by specifying dtypes manually by adding:\n",
      "\n",
      "dtype={'store_and_fwd_flag': 'float64'}\n",
      "\n",
      "to the call to `read_csv`/`read_table`.\n",
      "\n",
      "Alternatively, provide `assume_missing=True` to interpret\n",
      "all unspecified integer columns as floats.\n",
      "https://s3.amazonaws.com/nyc-tlc/trip+data/yellow_tripdata_2010-05.csv\n",
      "failed, https://s3.amazonaws.com/nyc-tlc/trip+data/yellow_tripdata_2010-05.csv\n",
      "Mismatched dtypes found in `pd.read_csv`/`pd.read_table`.\n",
      "\n",
      "+--------------------+---------+----------+\n",
      "| Column             | Found   | Expected |\n",
      "+--------------------+---------+----------+\n",
      "| store_and_fwd_flag | float64 | int64    |\n",
      "+--------------------+---------+----------+\n",
      "\n",
      "Usually this is due to dask's dtype inference failing, and\n",
      "*may* be fixed by specifying dtypes manually by adding:\n",
      "\n",
      "dtype={'store_and_fwd_flag': 'float64'}\n",
      "\n",
      "to the call to `read_csv`/`read_table`.\n",
      "\n",
      "Alternatively, provide `assume_missing=True` to interpret\n",
      "all unspecified integer columns as floats.\n",
      "https://s3.amazonaws.com/nyc-tlc/trip+data/yellow_tripdata_2010-04.csv\n",
      "https://s3.amazonaws.com/nyc-tlc/trip+data/yellow_tripdata_2010-03.csv\n",
      "failed, https://s3.amazonaws.com/nyc-tlc/trip+data/yellow_tripdata_2010-03.csv\n",
      "Mismatched dtypes found in `pd.read_csv`/`pd.read_table`.\n",
      "\n",
      "+--------------------+---------+----------+\n",
      "| Column             | Found   | Expected |\n",
      "+--------------------+---------+----------+\n",
      "| store_and_fwd_flag | float64 | int64    |\n",
      "+--------------------+---------+----------+\n",
      "\n",
      "Usually this is due to dask's dtype inference failing, and\n",
      "*may* be fixed by specifying dtypes manually by adding:\n",
      "\n",
      "dtype={'store_and_fwd_flag': 'float64'}\n",
      "\n",
      "to the call to `read_csv`/`read_table`.\n",
      "\n",
      "Alternatively, provide `assume_missing=True` to interpret\n",
      "all unspecified integer columns as floats.\n",
      "https://s3.amazonaws.com/nyc-tlc/trip+data/yellow_tripdata_2010-02.csv\n",
      "failed, https://s3.amazonaws.com/nyc-tlc/trip+data/yellow_tripdata_2010-02.csv\n",
      "Error tokenizing data. C error: Expected 18 fields in line 200906, saw 19\n",
      "\n",
      "https://s3.amazonaws.com/nyc-tlc/trip+data/yellow_tripdata_2010-01.csv\n"
     ]
    },
    {
     "name": "stderr",
     "output_type": "stream",
     "text": [
      "/opt/conda/lib/python3.8/site-packages/dask/dataframe/io/csv.py:181: DtypeWarning: Columns (8) have mixed types. Specify dtype option on import or set low_memory=False.\n",
      "  df = reader(bio, **kwargs)\n"
     ]
    },
    {
     "name": "stdout",
     "output_type": "stream",
     "text": [
      "failed, https://s3.amazonaws.com/nyc-tlc/trip+data/yellow_tripdata_2010-01.csv\n",
      "Mismatched dtypes found in `pd.read_csv`/`pd.read_table`.\n",
      "\n",
      "+--------------------+--------+----------+\n",
      "| Column             | Found  | Expected |\n",
      "+--------------------+--------+----------+\n",
      "| store_and_fwd_flag | object | float64  |\n",
      "+--------------------+--------+----------+\n",
      "\n",
      "The following columns also raised exceptions on conversion:\n",
      "\n",
      "- store_and_fwd_flag\n",
      "  ValueError(\"could not convert string to float: '*'\")\n",
      "\n",
      "Usually this is due to dask's dtype inference failing, and\n",
      "*may* be fixed by specifying dtypes manually by adding:\n",
      "\n",
      "dtype={'store_and_fwd_flag': 'object'}\n",
      "\n",
      "to the call to `read_csv`/`read_table`.\n",
      "https://s3.amazonaws.com/nyc-tlc/trip+data/yellow_tripdata_2011-12.csv\n"
     ]
    },
    {
     "name": "stderr",
     "output_type": "stream",
     "text": [
      "/opt/conda/lib/python3.8/site-packages/dask/dataframe/io/csv.py:181: DtypeWarning: Columns (8) have mixed types. Specify dtype option on import or set low_memory=False.\n",
      "  df = reader(bio, **kwargs)\n",
      "/opt/conda/lib/python3.8/site-packages/dask/dataframe/io/csv.py:181: DtypeWarning: Columns (8) have mixed types. Specify dtype option on import or set low_memory=False.\n",
      "  df = reader(bio, **kwargs)\n",
      "/opt/conda/lib/python3.8/site-packages/dask/dataframe/io/csv.py:181: DtypeWarning: Columns (8) have mixed types. Specify dtype option on import or set low_memory=False.\n",
      "  df = reader(bio, **kwargs)\n",
      "/opt/conda/lib/python3.8/site-packages/dask/dataframe/io/csv.py:181: DtypeWarning: Columns (8) have mixed types. Specify dtype option on import or set low_memory=False.\n",
      "  df = reader(bio, **kwargs)\n",
      "/opt/conda/lib/python3.8/site-packages/dask/dataframe/io/csv.py:181: DtypeWarning: Columns (8) have mixed types. Specify dtype option on import or set low_memory=False.\n",
      "  df = reader(bio, **kwargs)\n",
      "/opt/conda/lib/python3.8/site-packages/dask/dataframe/io/csv.py:181: DtypeWarning: Columns (8) have mixed types. Specify dtype option on import or set low_memory=False.\n",
      "  df = reader(bio, **kwargs)\n",
      "/opt/conda/lib/python3.8/site-packages/dask/dataframe/io/csv.py:181: DtypeWarning: Columns (8) have mixed types. Specify dtype option on import or set low_memory=False.\n",
      "  df = reader(bio, **kwargs)\n",
      "/opt/conda/lib/python3.8/site-packages/dask/dataframe/io/csv.py:181: DtypeWarning: Columns (8) have mixed types. Specify dtype option on import or set low_memory=False.\n",
      "  df = reader(bio, **kwargs)\n",
      "/opt/conda/lib/python3.8/site-packages/dask/dataframe/io/csv.py:181: DtypeWarning: Columns (8) have mixed types. Specify dtype option on import or set low_memory=False.\n",
      "  df = reader(bio, **kwargs)\n",
      "/opt/conda/lib/python3.8/site-packages/dask/dataframe/io/csv.py:181: DtypeWarning: Columns (8) have mixed types. Specify dtype option on import or set low_memory=False.\n",
      "  df = reader(bio, **kwargs)\n",
      "/opt/conda/lib/python3.8/site-packages/dask/dataframe/io/csv.py:181: DtypeWarning: Columns (8) have mixed types. Specify dtype option on import or set low_memory=False.\n",
      "  df = reader(bio, **kwargs)\n",
      "/opt/conda/lib/python3.8/site-packages/dask/dataframe/io/csv.py:181: DtypeWarning: Columns (8) have mixed types. Specify dtype option on import or set low_memory=False.\n",
      "  df = reader(bio, **kwargs)\n",
      "/opt/conda/lib/python3.8/site-packages/dask/dataframe/io/csv.py:181: DtypeWarning: Columns (8) have mixed types. Specify dtype option on import or set low_memory=False.\n",
      "  df = reader(bio, **kwargs)\n",
      "/opt/conda/lib/python3.8/site-packages/dask/dataframe/io/csv.py:181: DtypeWarning: Columns (8) have mixed types. Specify dtype option on import or set low_memory=False.\n",
      "  df = reader(bio, **kwargs)\n",
      "/opt/conda/lib/python3.8/site-packages/dask/dataframe/io/csv.py:181: DtypeWarning: Columns (8) have mixed types. Specify dtype option on import or set low_memory=False.\n",
      "  df = reader(bio, **kwargs)\n",
      "/opt/conda/lib/python3.8/site-packages/dask/dataframe/io/csv.py:181: DtypeWarning: Columns (8) have mixed types. Specify dtype option on import or set low_memory=False.\n",
      "  df = reader(bio, **kwargs)\n",
      "/opt/conda/lib/python3.8/site-packages/dask/dataframe/io/csv.py:181: DtypeWarning: Columns (8) have mixed types. Specify dtype option on import or set low_memory=False.\n",
      "  df = reader(bio, **kwargs)\n",
      "/opt/conda/lib/python3.8/site-packages/dask/dataframe/io/csv.py:181: DtypeWarning: Columns (8) have mixed types. Specify dtype option on import or set low_memory=False.\n",
      "  df = reader(bio, **kwargs)\n",
      "/opt/conda/lib/python3.8/site-packages/dask/dataframe/io/csv.py:181: DtypeWarning: Columns (8) have mixed types. Specify dtype option on import or set low_memory=False.\n",
      "  df = reader(bio, **kwargs)\n",
      "/opt/conda/lib/python3.8/site-packages/dask/dataframe/io/csv.py:181: DtypeWarning: Columns (8) have mixed types. Specify dtype option on import or set low_memory=False.\n",
      "  df = reader(bio, **kwargs)\n",
      "/opt/conda/lib/python3.8/site-packages/dask/dataframe/io/csv.py:181: DtypeWarning: Columns (8) have mixed types. Specify dtype option on import or set low_memory=False.\n",
      "  df = reader(bio, **kwargs)\n",
      "/opt/conda/lib/python3.8/site-packages/dask/dataframe/io/csv.py:181: DtypeWarning: Columns (8) have mixed types. Specify dtype option on import or set low_memory=False.\n",
      "  df = reader(bio, **kwargs)\n",
      "/opt/conda/lib/python3.8/site-packages/dask/dataframe/io/csv.py:181: DtypeWarning: Columns (8) have mixed types. Specify dtype option on import or set low_memory=False.\n",
      "  df = reader(bio, **kwargs)\n",
      "/opt/conda/lib/python3.8/site-packages/dask/dataframe/io/csv.py:181: DtypeWarning: Columns (8) have mixed types. Specify dtype option on import or set low_memory=False.\n",
      "  df = reader(bio, **kwargs)\n",
      "/opt/conda/lib/python3.8/site-packages/dask/dataframe/io/csv.py:181: DtypeWarning: Columns (8) have mixed types. Specify dtype option on import or set low_memory=False.\n",
      "  df = reader(bio, **kwargs)\n",
      "/opt/conda/lib/python3.8/site-packages/dask/dataframe/io/csv.py:181: DtypeWarning: Columns (8) have mixed types. Specify dtype option on import or set low_memory=False.\n",
      "  df = reader(bio, **kwargs)\n",
      "/opt/conda/lib/python3.8/site-packages/dask/dataframe/io/csv.py:181: DtypeWarning: Columns (8) have mixed types. Specify dtype option on import or set low_memory=False.\n",
      "  df = reader(bio, **kwargs)\n"
     ]
    },
    {
     "name": "stdout",
     "output_type": "stream",
     "text": [
      "https://s3.amazonaws.com/nyc-tlc/trip+data/yellow_tripdata_2011-11.csv\n"
     ]
    },
    {
     "name": "stderr",
     "output_type": "stream",
     "text": [
      "/opt/conda/lib/python3.8/site-packages/dask/dataframe/io/csv.py:181: DtypeWarning: Columns (8) have mixed types. Specify dtype option on import or set low_memory=False.\n",
      "  df = reader(bio, **kwargs)\n"
     ]
    },
    {
     "name": "stdout",
     "output_type": "stream",
     "text": [
      "failed, https://s3.amazonaws.com/nyc-tlc/trip+data/yellow_tripdata_2011-11.csv\n",
      "Mismatched dtypes found in `pd.read_csv`/`pd.read_table`.\n",
      "\n",
      "+--------------------+--------+----------+\n",
      "| Column             | Found  | Expected |\n",
      "+--------------------+--------+----------+\n",
      "| store_and_fwd_flag | object | float64  |\n",
      "+--------------------+--------+----------+\n",
      "\n",
      "The following columns also raised exceptions on conversion:\n",
      "\n",
      "- store_and_fwd_flag\n",
      "  ValueError(\"could not convert string to float: 'N'\")\n",
      "\n",
      "Usually this is due to dask's dtype inference failing, and\n",
      "*may* be fixed by specifying dtypes manually by adding:\n",
      "\n",
      "dtype={'store_and_fwd_flag': 'object'}\n",
      "\n",
      "to the call to `read_csv`/`read_table`.\n",
      "https://s3.amazonaws.com/nyc-tlc/trip+data/yellow_tripdata_2011-10.csv\n"
     ]
    },
    {
     "name": "stderr",
     "output_type": "stream",
     "text": [
      "/opt/conda/lib/python3.8/site-packages/dask/dataframe/io/csv.py:181: DtypeWarning: Columns (8) have mixed types. Specify dtype option on import or set low_memory=False.\n",
      "  df = reader(bio, **kwargs)\n",
      "/opt/conda/lib/python3.8/site-packages/dask/dataframe/io/csv.py:181: DtypeWarning: Columns (8) have mixed types. Specify dtype option on import or set low_memory=False.\n",
      "  df = reader(bio, **kwargs)\n",
      "/opt/conda/lib/python3.8/site-packages/dask/dataframe/io/csv.py:181: DtypeWarning: Columns (8) have mixed types. Specify dtype option on import or set low_memory=False.\n",
      "  df = reader(bio, **kwargs)\n",
      "/opt/conda/lib/python3.8/site-packages/dask/dataframe/io/csv.py:181: DtypeWarning: Columns (8) have mixed types. Specify dtype option on import or set low_memory=False.\n",
      "  df = reader(bio, **kwargs)\n",
      "/opt/conda/lib/python3.8/site-packages/dask/dataframe/io/csv.py:181: DtypeWarning: Columns (8) have mixed types. Specify dtype option on import or set low_memory=False.\n",
      "  df = reader(bio, **kwargs)\n",
      "/opt/conda/lib/python3.8/site-packages/dask/dataframe/io/csv.py:181: DtypeWarning: Columns (8) have mixed types. Specify dtype option on import or set low_memory=False.\n",
      "  df = reader(bio, **kwargs)\n",
      "/opt/conda/lib/python3.8/site-packages/dask/dataframe/io/csv.py:181: DtypeWarning: Columns (8) have mixed types. Specify dtype option on import or set low_memory=False.\n",
      "  df = reader(bio, **kwargs)\n",
      "/opt/conda/lib/python3.8/site-packages/dask/dataframe/io/csv.py:181: DtypeWarning: Columns (8) have mixed types. Specify dtype option on import or set low_memory=False.\n",
      "  df = reader(bio, **kwargs)\n",
      "/opt/conda/lib/python3.8/site-packages/dask/dataframe/io/csv.py:181: DtypeWarning: Columns (8) have mixed types. Specify dtype option on import or set low_memory=False.\n",
      "  df = reader(bio, **kwargs)\n",
      "/opt/conda/lib/python3.8/site-packages/dask/dataframe/io/csv.py:181: DtypeWarning: Columns (8) have mixed types. Specify dtype option on import or set low_memory=False.\n",
      "  df = reader(bio, **kwargs)\n",
      "/opt/conda/lib/python3.8/site-packages/dask/dataframe/io/csv.py:181: DtypeWarning: Columns (8) have mixed types. Specify dtype option on import or set low_memory=False.\n",
      "  df = reader(bio, **kwargs)\n",
      "/opt/conda/lib/python3.8/site-packages/dask/dataframe/io/csv.py:181: DtypeWarning: Columns (8) have mixed types. Specify dtype option on import or set low_memory=False.\n",
      "  df = reader(bio, **kwargs)\n"
     ]
    },
    {
     "name": "stdout",
     "output_type": "stream",
     "text": [
      "https://s3.amazonaws.com/nyc-tlc/trip+data/yellow_tripdata_2011-09.csv\n"
     ]
    },
    {
     "name": "stderr",
     "output_type": "stream",
     "text": [
      "/opt/conda/lib/python3.8/site-packages/dask/dataframe/io/csv.py:181: DtypeWarning: Columns (8) have mixed types. Specify dtype option on import or set low_memory=False.\n",
      "  df = reader(bio, **kwargs)\n",
      "/opt/conda/lib/python3.8/site-packages/dask/dataframe/io/csv.py:181: DtypeWarning: Columns (8) have mixed types. Specify dtype option on import or set low_memory=False.\n",
      "  df = reader(bio, **kwargs)\n",
      "/opt/conda/lib/python3.8/site-packages/dask/dataframe/io/csv.py:181: DtypeWarning: Columns (8) have mixed types. Specify dtype option on import or set low_memory=False.\n",
      "  df = reader(bio, **kwargs)\n",
      "/opt/conda/lib/python3.8/site-packages/dask/dataframe/io/csv.py:181: DtypeWarning: Columns (8) have mixed types. Specify dtype option on import or set low_memory=False.\n",
      "  df = reader(bio, **kwargs)\n",
      "/opt/conda/lib/python3.8/site-packages/dask/dataframe/io/csv.py:181: DtypeWarning: Columns (8) have mixed types. Specify dtype option on import or set low_memory=False.\n",
      "  df = reader(bio, **kwargs)\n",
      "/opt/conda/lib/python3.8/site-packages/dask/dataframe/io/csv.py:181: DtypeWarning: Columns (8) have mixed types. Specify dtype option on import or set low_memory=False.\n",
      "  df = reader(bio, **kwargs)\n",
      "/opt/conda/lib/python3.8/site-packages/dask/dataframe/io/csv.py:181: DtypeWarning: Columns (8) have mixed types. Specify dtype option on import or set low_memory=False.\n",
      "  df = reader(bio, **kwargs)\n",
      "/opt/conda/lib/python3.8/site-packages/dask/dataframe/io/csv.py:181: DtypeWarning: Columns (8) have mixed types. Specify dtype option on import or set low_memory=False.\n",
      "  df = reader(bio, **kwargs)\n",
      "/opt/conda/lib/python3.8/site-packages/dask/dataframe/io/csv.py:181: DtypeWarning: Columns (8) have mixed types. Specify dtype option on import or set low_memory=False.\n",
      "  df = reader(bio, **kwargs)\n",
      "/opt/conda/lib/python3.8/site-packages/dask/dataframe/io/csv.py:181: DtypeWarning: Columns (8) have mixed types. Specify dtype option on import or set low_memory=False.\n",
      "  df = reader(bio, **kwargs)\n",
      "/opt/conda/lib/python3.8/site-packages/dask/dataframe/io/csv.py:181: DtypeWarning: Columns (8) have mixed types. Specify dtype option on import or set low_memory=False.\n",
      "  df = reader(bio, **kwargs)\n",
      "/opt/conda/lib/python3.8/site-packages/dask/dataframe/io/csv.py:181: DtypeWarning: Columns (8) have mixed types. Specify dtype option on import or set low_memory=False.\n",
      "  df = reader(bio, **kwargs)\n",
      "/opt/conda/lib/python3.8/site-packages/dask/dataframe/io/csv.py:181: DtypeWarning: Columns (8) have mixed types. Specify dtype option on import or set low_memory=False.\n",
      "  df = reader(bio, **kwargs)\n",
      "/opt/conda/lib/python3.8/site-packages/dask/dataframe/io/csv.py:181: DtypeWarning: Columns (8) have mixed types. Specify dtype option on import or set low_memory=False.\n",
      "  df = reader(bio, **kwargs)\n",
      "/opt/conda/lib/python3.8/site-packages/dask/dataframe/io/csv.py:181: DtypeWarning: Columns (8) have mixed types. Specify dtype option on import or set low_memory=False.\n",
      "  df = reader(bio, **kwargs)\n",
      "/opt/conda/lib/python3.8/site-packages/dask/dataframe/io/csv.py:181: DtypeWarning: Columns (8) have mixed types. Specify dtype option on import or set low_memory=False.\n",
      "  df = reader(bio, **kwargs)\n",
      "/opt/conda/lib/python3.8/site-packages/dask/dataframe/io/csv.py:181: DtypeWarning: Columns (8) have mixed types. Specify dtype option on import or set low_memory=False.\n",
      "  df = reader(bio, **kwargs)\n",
      "/opt/conda/lib/python3.8/site-packages/dask/dataframe/io/csv.py:181: DtypeWarning: Columns (8) have mixed types. Specify dtype option on import or set low_memory=False.\n",
      "  df = reader(bio, **kwargs)\n",
      "/opt/conda/lib/python3.8/site-packages/dask/dataframe/io/csv.py:181: DtypeWarning: Columns (8) have mixed types. Specify dtype option on import or set low_memory=False.\n",
      "  df = reader(bio, **kwargs)\n",
      "/opt/conda/lib/python3.8/site-packages/dask/dataframe/io/csv.py:181: DtypeWarning: Columns (8) have mixed types. Specify dtype option on import or set low_memory=False.\n",
      "  df = reader(bio, **kwargs)\n",
      "/opt/conda/lib/python3.8/site-packages/dask/dataframe/io/csv.py:181: DtypeWarning: Columns (8) have mixed types. Specify dtype option on import or set low_memory=False.\n",
      "  df = reader(bio, **kwargs)\n",
      "/opt/conda/lib/python3.8/site-packages/dask/dataframe/io/csv.py:181: DtypeWarning: Columns (8) have mixed types. Specify dtype option on import or set low_memory=False.\n",
      "  df = reader(bio, **kwargs)\n"
     ]
    },
    {
     "name": "stdout",
     "output_type": "stream",
     "text": [
      "https://s3.amazonaws.com/nyc-tlc/trip+data/yellow_tripdata_2011-08.csv\n",
      "https://s3.amazonaws.com/nyc-tlc/trip+data/yellow_tripdata_2011-07.csv\n"
     ]
    },
    {
     "name": "stderr",
     "output_type": "stream",
     "text": [
      "/opt/conda/lib/python3.8/site-packages/dask/dataframe/io/csv.py:181: DtypeWarning: Columns (8) have mixed types. Specify dtype option on import or set low_memory=False.\n",
      "  df = reader(bio, **kwargs)\n",
      "/opt/conda/lib/python3.8/site-packages/dask/dataframe/io/csv.py:181: DtypeWarning: Columns (8) have mixed types. Specify dtype option on import or set low_memory=False.\n",
      "  df = reader(bio, **kwargs)\n",
      "/opt/conda/lib/python3.8/site-packages/dask/dataframe/io/csv.py:181: DtypeWarning: Columns (8) have mixed types. Specify dtype option on import or set low_memory=False.\n",
      "  df = reader(bio, **kwargs)\n",
      "/opt/conda/lib/python3.8/site-packages/dask/dataframe/io/csv.py:181: DtypeWarning: Columns (8) have mixed types. Specify dtype option on import or set low_memory=False.\n",
      "  df = reader(bio, **kwargs)\n",
      "/opt/conda/lib/python3.8/site-packages/dask/dataframe/io/csv.py:181: DtypeWarning: Columns (8) have mixed types. Specify dtype option on import or set low_memory=False.\n",
      "  df = reader(bio, **kwargs)\n",
      "/opt/conda/lib/python3.8/site-packages/dask/dataframe/io/csv.py:181: DtypeWarning: Columns (8) have mixed types. Specify dtype option on import or set low_memory=False.\n",
      "  df = reader(bio, **kwargs)\n",
      "/opt/conda/lib/python3.8/site-packages/dask/dataframe/io/csv.py:181: DtypeWarning: Columns (8) have mixed types. Specify dtype option on import or set low_memory=False.\n",
      "  df = reader(bio, **kwargs)\n",
      "/opt/conda/lib/python3.8/site-packages/dask/dataframe/io/csv.py:181: DtypeWarning: Columns (8) have mixed types. Specify dtype option on import or set low_memory=False.\n",
      "  df = reader(bio, **kwargs)\n",
      "/opt/conda/lib/python3.8/site-packages/dask/dataframe/io/csv.py:181: DtypeWarning: Columns (8) have mixed types. Specify dtype option on import or set low_memory=False.\n",
      "  df = reader(bio, **kwargs)\n",
      "/opt/conda/lib/python3.8/site-packages/dask/dataframe/io/csv.py:181: DtypeWarning: Columns (8) have mixed types. Specify dtype option on import or set low_memory=False.\n",
      "  df = reader(bio, **kwargs)\n",
      "/opt/conda/lib/python3.8/site-packages/dask/dataframe/io/csv.py:181: DtypeWarning: Columns (8) have mixed types. Specify dtype option on import or set low_memory=False.\n",
      "  df = reader(bio, **kwargs)\n",
      "/opt/conda/lib/python3.8/site-packages/dask/dataframe/io/csv.py:181: DtypeWarning: Columns (8) have mixed types. Specify dtype option on import or set low_memory=False.\n",
      "  df = reader(bio, **kwargs)\n",
      "/opt/conda/lib/python3.8/site-packages/dask/dataframe/io/csv.py:181: DtypeWarning: Columns (8) have mixed types. Specify dtype option on import or set low_memory=False.\n",
      "  df = reader(bio, **kwargs)\n",
      "/opt/conda/lib/python3.8/site-packages/dask/dataframe/io/csv.py:181: DtypeWarning: Columns (8) have mixed types. Specify dtype option on import or set low_memory=False.\n",
      "  df = reader(bio, **kwargs)\n",
      "/opt/conda/lib/python3.8/site-packages/dask/dataframe/io/csv.py:181: DtypeWarning: Columns (8) have mixed types. Specify dtype option on import or set low_memory=False.\n",
      "  df = reader(bio, **kwargs)\n",
      "/opt/conda/lib/python3.8/site-packages/dask/dataframe/io/csv.py:181: DtypeWarning: Columns (8) have mixed types. Specify dtype option on import or set low_memory=False.\n",
      "  df = reader(bio, **kwargs)\n",
      "/opt/conda/lib/python3.8/site-packages/dask/dataframe/io/csv.py:181: DtypeWarning: Columns (8) have mixed types. Specify dtype option on import or set low_memory=False.\n",
      "  df = reader(bio, **kwargs)\n",
      "/opt/conda/lib/python3.8/site-packages/dask/dataframe/io/csv.py:181: DtypeWarning: Columns (8) have mixed types. Specify dtype option on import or set low_memory=False.\n",
      "  df = reader(bio, **kwargs)\n",
      "/opt/conda/lib/python3.8/site-packages/dask/dataframe/io/csv.py:181: DtypeWarning: Columns (8) have mixed types. Specify dtype option on import or set low_memory=False.\n",
      "  df = reader(bio, **kwargs)\n",
      "/opt/conda/lib/python3.8/site-packages/dask/dataframe/io/csv.py:181: DtypeWarning: Columns (8) have mixed types. Specify dtype option on import or set low_memory=False.\n",
      "  df = reader(bio, **kwargs)\n",
      "/opt/conda/lib/python3.8/site-packages/dask/dataframe/io/csv.py:181: DtypeWarning: Columns (8) have mixed types. Specify dtype option on import or set low_memory=False.\n",
      "  df = reader(bio, **kwargs)\n",
      "/opt/conda/lib/python3.8/site-packages/dask/dataframe/io/csv.py:181: DtypeWarning: Columns (8) have mixed types. Specify dtype option on import or set low_memory=False.\n",
      "  df = reader(bio, **kwargs)\n",
      "/opt/conda/lib/python3.8/site-packages/dask/dataframe/io/csv.py:181: DtypeWarning: Columns (8) have mixed types. Specify dtype option on import or set low_memory=False.\n",
      "  df = reader(bio, **kwargs)\n",
      "/opt/conda/lib/python3.8/site-packages/dask/dataframe/io/csv.py:181: DtypeWarning: Columns (8) have mixed types. Specify dtype option on import or set low_memory=False.\n",
      "  df = reader(bio, **kwargs)\n",
      "/opt/conda/lib/python3.8/site-packages/dask/dataframe/io/csv.py:181: DtypeWarning: Columns (8) have mixed types. Specify dtype option on import or set low_memory=False.\n",
      "  df = reader(bio, **kwargs)\n",
      "/opt/conda/lib/python3.8/site-packages/dask/dataframe/io/csv.py:181: DtypeWarning: Columns (8) have mixed types. Specify dtype option on import or set low_memory=False.\n",
      "  df = reader(bio, **kwargs)\n",
      "/opt/conda/lib/python3.8/site-packages/dask/dataframe/io/csv.py:181: DtypeWarning: Columns (8) have mixed types. Specify dtype option on import or set low_memory=False.\n",
      "  df = reader(bio, **kwargs)\n",
      "/opt/conda/lib/python3.8/site-packages/dask/dataframe/io/csv.py:181: DtypeWarning: Columns (8) have mixed types. Specify dtype option on import or set low_memory=False.\n",
      "  df = reader(bio, **kwargs)\n"
     ]
    },
    {
     "name": "stdout",
     "output_type": "stream",
     "text": [
      "https://s3.amazonaws.com/nyc-tlc/trip+data/yellow_tripdata_2011-06.csv\n"
     ]
    },
    {
     "name": "stderr",
     "output_type": "stream",
     "text": [
      "/opt/conda/lib/python3.8/site-packages/dask/dataframe/io/csv.py:181: DtypeWarning: Columns (8) have mixed types. Specify dtype option on import or set low_memory=False.\n",
      "  df = reader(bio, **kwargs)\n",
      "/opt/conda/lib/python3.8/site-packages/dask/dataframe/io/csv.py:181: DtypeWarning: Columns (8) have mixed types. Specify dtype option on import or set low_memory=False.\n",
      "  df = reader(bio, **kwargs)\n",
      "/opt/conda/lib/python3.8/site-packages/dask/dataframe/io/csv.py:181: DtypeWarning: Columns (8) have mixed types. Specify dtype option on import or set low_memory=False.\n",
      "  df = reader(bio, **kwargs)\n",
      "/opt/conda/lib/python3.8/site-packages/dask/dataframe/io/csv.py:181: DtypeWarning: Columns (8) have mixed types. Specify dtype option on import or set low_memory=False.\n",
      "  df = reader(bio, **kwargs)\n",
      "/opt/conda/lib/python3.8/site-packages/dask/dataframe/io/csv.py:181: DtypeWarning: Columns (8) have mixed types. Specify dtype option on import or set low_memory=False.\n",
      "  df = reader(bio, **kwargs)\n",
      "/opt/conda/lib/python3.8/site-packages/dask/dataframe/io/csv.py:181: DtypeWarning: Columns (8) have mixed types. Specify dtype option on import or set low_memory=False.\n",
      "  df = reader(bio, **kwargs)\n",
      "/opt/conda/lib/python3.8/site-packages/dask/dataframe/io/csv.py:181: DtypeWarning: Columns (8) have mixed types. Specify dtype option on import or set low_memory=False.\n",
      "  df = reader(bio, **kwargs)\n",
      "/opt/conda/lib/python3.8/site-packages/dask/dataframe/io/csv.py:181: DtypeWarning: Columns (8) have mixed types. Specify dtype option on import or set low_memory=False.\n",
      "  df = reader(bio, **kwargs)\n",
      "/opt/conda/lib/python3.8/site-packages/dask/dataframe/io/csv.py:181: DtypeWarning: Columns (8) have mixed types. Specify dtype option on import or set low_memory=False.\n",
      "  df = reader(bio, **kwargs)\n",
      "/opt/conda/lib/python3.8/site-packages/dask/dataframe/io/csv.py:181: DtypeWarning: Columns (8) have mixed types. Specify dtype option on import or set low_memory=False.\n",
      "  df = reader(bio, **kwargs)\n",
      "/opt/conda/lib/python3.8/site-packages/dask/dataframe/io/csv.py:181: DtypeWarning: Columns (8) have mixed types. Specify dtype option on import or set low_memory=False.\n",
      "  df = reader(bio, **kwargs)\n",
      "/opt/conda/lib/python3.8/site-packages/dask/dataframe/io/csv.py:181: DtypeWarning: Columns (8) have mixed types. Specify dtype option on import or set low_memory=False.\n",
      "  df = reader(bio, **kwargs)\n"
     ]
    },
    {
     "name": "stdout",
     "output_type": "stream",
     "text": [
      "https://s3.amazonaws.com/nyc-tlc/trip+data/yellow_tripdata_2011-05.csv\n"
     ]
    },
    {
     "name": "stderr",
     "output_type": "stream",
     "text": [
      "/opt/conda/lib/python3.8/site-packages/dask/dataframe/io/csv.py:181: DtypeWarning: Columns (8) have mixed types. Specify dtype option on import or set low_memory=False.\n",
      "  df = reader(bio, **kwargs)\n",
      "/opt/conda/lib/python3.8/site-packages/dask/dataframe/io/csv.py:181: DtypeWarning: Columns (8) have mixed types. Specify dtype option on import or set low_memory=False.\n",
      "  df = reader(bio, **kwargs)\n",
      "/opt/conda/lib/python3.8/site-packages/dask/dataframe/io/csv.py:181: DtypeWarning: Columns (8) have mixed types. Specify dtype option on import or set low_memory=False.\n",
      "  df = reader(bio, **kwargs)\n",
      "/opt/conda/lib/python3.8/site-packages/dask/dataframe/io/csv.py:181: DtypeWarning: Columns (8) have mixed types. Specify dtype option on import or set low_memory=False.\n",
      "  df = reader(bio, **kwargs)\n",
      "/opt/conda/lib/python3.8/site-packages/dask/dataframe/io/csv.py:181: DtypeWarning: Columns (8) have mixed types. Specify dtype option on import or set low_memory=False.\n",
      "  df = reader(bio, **kwargs)\n",
      "/opt/conda/lib/python3.8/site-packages/dask/dataframe/io/csv.py:181: DtypeWarning: Columns (8) have mixed types. Specify dtype option on import or set low_memory=False.\n",
      "  df = reader(bio, **kwargs)\n",
      "/opt/conda/lib/python3.8/site-packages/dask/dataframe/io/csv.py:181: DtypeWarning: Columns (8) have mixed types. Specify dtype option on import or set low_memory=False.\n",
      "  df = reader(bio, **kwargs)\n",
      "/opt/conda/lib/python3.8/site-packages/dask/dataframe/io/csv.py:181: DtypeWarning: Columns (8) have mixed types. Specify dtype option on import or set low_memory=False.\n",
      "  df = reader(bio, **kwargs)\n",
      "/opt/conda/lib/python3.8/site-packages/dask/dataframe/io/csv.py:181: DtypeWarning: Columns (8) have mixed types. Specify dtype option on import or set low_memory=False.\n",
      "  df = reader(bio, **kwargs)\n",
      "/opt/conda/lib/python3.8/site-packages/dask/dataframe/io/csv.py:181: DtypeWarning: Columns (8) have mixed types. Specify dtype option on import or set low_memory=False.\n",
      "  df = reader(bio, **kwargs)\n",
      "/opt/conda/lib/python3.8/site-packages/dask/dataframe/io/csv.py:181: DtypeWarning: Columns (8) have mixed types. Specify dtype option on import or set low_memory=False.\n",
      "  df = reader(bio, **kwargs)\n",
      "/opt/conda/lib/python3.8/site-packages/dask/dataframe/io/csv.py:181: DtypeWarning: Columns (8) have mixed types. Specify dtype option on import or set low_memory=False.\n",
      "  df = reader(bio, **kwargs)\n"
     ]
    },
    {
     "name": "stdout",
     "output_type": "stream",
     "text": [
      "https://s3.amazonaws.com/nyc-tlc/trip+data/yellow_tripdata_2011-04.csv\n",
      "failed, https://s3.amazonaws.com/nyc-tlc/trip+data/yellow_tripdata_2011-04.csv\n",
      "Mismatched dtypes found in `pd.read_csv`/`pd.read_table`.\n",
      "\n",
      "+--------------------+--------+----------+\n",
      "| Column             | Found  | Expected |\n",
      "+--------------------+--------+----------+\n",
      "| store_and_fwd_flag | object | float64  |\n",
      "+--------------------+--------+----------+\n",
      "\n",
      "The following columns also raised exceptions on conversion:\n",
      "\n",
      "- store_and_fwd_flag\n",
      "  ValueError(\"could not convert string to float: 'N'\")\n",
      "\n",
      "Usually this is due to dask's dtype inference failing, and\n",
      "*may* be fixed by specifying dtypes manually by adding:\n",
      "\n",
      "dtype={'store_and_fwd_flag': 'object'}\n",
      "\n",
      "to the call to `read_csv`/`read_table`.\n",
      "https://s3.amazonaws.com/nyc-tlc/trip+data/yellow_tripdata_2011-03.csv\n"
     ]
    },
    {
     "name": "stderr",
     "output_type": "stream",
     "text": [
      "/opt/conda/lib/python3.8/site-packages/dask/dataframe/io/csv.py:181: DtypeWarning: Columns (8) have mixed types. Specify dtype option on import or set low_memory=False.\n",
      "  df = reader(bio, **kwargs)\n",
      "/opt/conda/lib/python3.8/site-packages/dask/dataframe/io/csv.py:181: DtypeWarning: Columns (8) have mixed types. Specify dtype option on import or set low_memory=False.\n",
      "  df = reader(bio, **kwargs)\n",
      "/opt/conda/lib/python3.8/site-packages/dask/dataframe/io/csv.py:181: DtypeWarning: Columns (8) have mixed types. Specify dtype option on import or set low_memory=False.\n",
      "  df = reader(bio, **kwargs)\n",
      "/opt/conda/lib/python3.8/site-packages/dask/dataframe/io/csv.py:181: DtypeWarning: Columns (8) have mixed types. Specify dtype option on import or set low_memory=False.\n",
      "  df = reader(bio, **kwargs)\n",
      "/opt/conda/lib/python3.8/site-packages/dask/dataframe/io/csv.py:181: DtypeWarning: Columns (8) have mixed types. Specify dtype option on import or set low_memory=False.\n",
      "  df = reader(bio, **kwargs)\n",
      "/opt/conda/lib/python3.8/site-packages/dask/dataframe/io/csv.py:181: DtypeWarning: Columns (8) have mixed types. Specify dtype option on import or set low_memory=False.\n",
      "  df = reader(bio, **kwargs)\n",
      "/opt/conda/lib/python3.8/site-packages/dask/dataframe/io/csv.py:181: DtypeWarning: Columns (8) have mixed types. Specify dtype option on import or set low_memory=False.\n",
      "  df = reader(bio, **kwargs)\n",
      "/opt/conda/lib/python3.8/site-packages/dask/dataframe/io/csv.py:181: DtypeWarning: Columns (8) have mixed types. Specify dtype option on import or set low_memory=False.\n",
      "  df = reader(bio, **kwargs)\n",
      "/opt/conda/lib/python3.8/site-packages/dask/dataframe/io/csv.py:181: DtypeWarning: Columns (8) have mixed types. Specify dtype option on import or set low_memory=False.\n",
      "  df = reader(bio, **kwargs)\n",
      "/opt/conda/lib/python3.8/site-packages/dask/dataframe/io/csv.py:181: DtypeWarning: Columns (8) have mixed types. Specify dtype option on import or set low_memory=False.\n",
      "  df = reader(bio, **kwargs)\n",
      "/opt/conda/lib/python3.8/site-packages/dask/dataframe/io/csv.py:181: DtypeWarning: Columns (8) have mixed types. Specify dtype option on import or set low_memory=False.\n",
      "  df = reader(bio, **kwargs)\n",
      "/opt/conda/lib/python3.8/site-packages/dask/dataframe/io/csv.py:181: DtypeWarning: Columns (8) have mixed types. Specify dtype option on import or set low_memory=False.\n",
      "  df = reader(bio, **kwargs)\n",
      "/opt/conda/lib/python3.8/site-packages/dask/dataframe/io/csv.py:181: DtypeWarning: Columns (8) have mixed types. Specify dtype option on import or set low_memory=False.\n",
      "  df = reader(bio, **kwargs)\n",
      "/opt/conda/lib/python3.8/site-packages/dask/dataframe/io/csv.py:181: DtypeWarning: Columns (8) have mixed types. Specify dtype option on import or set low_memory=False.\n",
      "  df = reader(bio, **kwargs)\n",
      "/opt/conda/lib/python3.8/site-packages/dask/dataframe/io/csv.py:181: DtypeWarning: Columns (8) have mixed types. Specify dtype option on import or set low_memory=False.\n",
      "  df = reader(bio, **kwargs)\n",
      "/opt/conda/lib/python3.8/site-packages/dask/dataframe/io/csv.py:181: DtypeWarning: Columns (8) have mixed types. Specify dtype option on import or set low_memory=False.\n",
      "  df = reader(bio, **kwargs)\n",
      "/opt/conda/lib/python3.8/site-packages/dask/dataframe/io/csv.py:181: DtypeWarning: Columns (8) have mixed types. Specify dtype option on import or set low_memory=False.\n",
      "  df = reader(bio, **kwargs)\n",
      "/opt/conda/lib/python3.8/site-packages/dask/dataframe/io/csv.py:181: DtypeWarning: Columns (8) have mixed types. Specify dtype option on import or set low_memory=False.\n",
      "  df = reader(bio, **kwargs)\n",
      "/opt/conda/lib/python3.8/site-packages/dask/dataframe/io/csv.py:181: DtypeWarning: Columns (8) have mixed types. Specify dtype option on import or set low_memory=False.\n",
      "  df = reader(bio, **kwargs)\n",
      "/opt/conda/lib/python3.8/site-packages/dask/dataframe/io/csv.py:181: DtypeWarning: Columns (8) have mixed types. Specify dtype option on import or set low_memory=False.\n",
      "  df = reader(bio, **kwargs)\n",
      "/opt/conda/lib/python3.8/site-packages/dask/dataframe/io/csv.py:181: DtypeWarning: Columns (8) have mixed types. Specify dtype option on import or set low_memory=False.\n",
      "  df = reader(bio, **kwargs)\n",
      "/opt/conda/lib/python3.8/site-packages/dask/dataframe/io/csv.py:181: DtypeWarning: Columns (8) have mixed types. Specify dtype option on import or set low_memory=False.\n",
      "  df = reader(bio, **kwargs)\n",
      "/opt/conda/lib/python3.8/site-packages/dask/dataframe/io/csv.py:181: DtypeWarning: Columns (8) have mixed types. Specify dtype option on import or set low_memory=False.\n",
      "  df = reader(bio, **kwargs)\n",
      "/opt/conda/lib/python3.8/site-packages/dask/dataframe/io/csv.py:181: DtypeWarning: Columns (8) have mixed types. Specify dtype option on import or set low_memory=False.\n",
      "  df = reader(bio, **kwargs)\n",
      "/opt/conda/lib/python3.8/site-packages/dask/dataframe/io/csv.py:181: DtypeWarning: Columns (8) have mixed types. Specify dtype option on import or set low_memory=False.\n",
      "  df = reader(bio, **kwargs)\n"
     ]
    },
    {
     "name": "stdout",
     "output_type": "stream",
     "text": [
      "https://s3.amazonaws.com/nyc-tlc/trip+data/yellow_tripdata_2011-02.csv\n",
      "failed, https://s3.amazonaws.com/nyc-tlc/trip+data/yellow_tripdata_2011-02.csv\n",
      "Mismatched dtypes found in `pd.read_csv`/`pd.read_table`.\n",
      "\n",
      "+--------------------+---------+----------+\n",
      "| Column             | Found   | Expected |\n",
      "+--------------------+---------+----------+\n",
      "| store_and_fwd_flag | object  | float64  |\n",
      "| surcharge          | float64 | int64    |\n",
      "+--------------------+---------+----------+\n",
      "\n",
      "The following columns also raised exceptions on conversion:\n",
      "\n",
      "- store_and_fwd_flag\n",
      "  ValueError(\"could not convert string to float: 'N'\")\n",
      "\n",
      "Usually this is due to dask's dtype inference failing, and\n",
      "*may* be fixed by specifying dtypes manually by adding:\n",
      "\n",
      "dtype={'store_and_fwd_flag': 'object',\n",
      "       'surcharge': 'float64'}\n",
      "\n",
      "to the call to `read_csv`/`read_table`.\n",
      "https://s3.amazonaws.com/nyc-tlc/trip+data/yellow_tripdata_2011-01.csv\n"
     ]
    },
    {
     "name": "stderr",
     "output_type": "stream",
     "text": [
      "/opt/conda/lib/python3.8/site-packages/dask/dataframe/io/csv.py:181: DtypeWarning: Columns (8) have mixed types. Specify dtype option on import or set low_memory=False.\n",
      "  df = reader(bio, **kwargs)\n",
      "/opt/conda/lib/python3.8/site-packages/dask/dataframe/io/csv.py:181: DtypeWarning: Columns (8) have mixed types. Specify dtype option on import or set low_memory=False.\n",
      "  df = reader(bio, **kwargs)\n",
      "/opt/conda/lib/python3.8/site-packages/dask/dataframe/io/csv.py:181: DtypeWarning: Columns (8) have mixed types. Specify dtype option on import or set low_memory=False.\n",
      "  df = reader(bio, **kwargs)\n",
      "/opt/conda/lib/python3.8/site-packages/dask/dataframe/io/csv.py:181: DtypeWarning: Columns (8) have mixed types. Specify dtype option on import or set low_memory=False.\n",
      "  df = reader(bio, **kwargs)\n",
      "/opt/conda/lib/python3.8/site-packages/dask/dataframe/io/csv.py:181: DtypeWarning: Columns (8) have mixed types. Specify dtype option on import or set low_memory=False.\n",
      "  df = reader(bio, **kwargs)\n",
      "/opt/conda/lib/python3.8/site-packages/dask/dataframe/io/csv.py:181: DtypeWarning: Columns (8) have mixed types. Specify dtype option on import or set low_memory=False.\n",
      "  df = reader(bio, **kwargs)\n",
      "/opt/conda/lib/python3.8/site-packages/dask/dataframe/io/csv.py:181: DtypeWarning: Columns (8) have mixed types. Specify dtype option on import or set low_memory=False.\n",
      "  df = reader(bio, **kwargs)\n"
     ]
    },
    {
     "name": "stdout",
     "output_type": "stream",
     "text": [
      "https://s3.amazonaws.com/nyc-tlc/trip+data/yellow_tripdata_2012-12.csv\n",
      "failed, https://s3.amazonaws.com/nyc-tlc/trip+data/yellow_tripdata_2012-12.csv\n",
      "Mismatched dtypes found in `pd.read_csv`/`pd.read_table`.\n",
      "\n",
      "+-----------+---------+----------+\n",
      "| Column    | Found   | Expected |\n",
      "+-----------+---------+----------+\n",
      "| surcharge | float64 | int64    |\n",
      "+-----------+---------+----------+\n",
      "\n",
      "Usually this is due to dask's dtype inference failing, and\n",
      "*may* be fixed by specifying dtypes manually by adding:\n",
      "\n",
      "dtype={'surcharge': 'float64'}\n",
      "\n",
      "to the call to `read_csv`/`read_table`.\n",
      "\n",
      "Alternatively, provide `assume_missing=True` to interpret\n",
      "all unspecified integer columns as floats.\n",
      "https://s3.amazonaws.com/nyc-tlc/trip+data/yellow_tripdata_2012-11.csv\n",
      "https://s3.amazonaws.com/nyc-tlc/trip+data/yellow_tripdata_2012-10.csv\n",
      "failed, https://s3.amazonaws.com/nyc-tlc/trip+data/yellow_tripdata_2012-10.csv\n",
      "Mismatched dtypes found in `pd.read_csv`/`pd.read_table`.\n",
      "\n",
      "+-----------+---------+----------+\n",
      "| Column    | Found   | Expected |\n",
      "+-----------+---------+----------+\n",
      "| surcharge | float64 | int64    |\n",
      "+-----------+---------+----------+\n",
      "\n",
      "Usually this is due to dask's dtype inference failing, and\n",
      "*may* be fixed by specifying dtypes manually by adding:\n",
      "\n",
      "dtype={'surcharge': 'float64'}\n",
      "\n",
      "to the call to `read_csv`/`read_table`.\n",
      "\n",
      "Alternatively, provide `assume_missing=True` to interpret\n",
      "all unspecified integer columns as floats.\n",
      "https://s3.amazonaws.com/nyc-tlc/trip+data/yellow_tripdata_2012-09.csv\n"
     ]
    },
    {
     "name": "stderr",
     "output_type": "stream",
     "text": [
      "/opt/conda/lib/python3.8/site-packages/dask/dataframe/io/csv.py:181: DtypeWarning: Columns (8) have mixed types. Specify dtype option on import or set low_memory=False.\n",
      "  df = reader(bio, **kwargs)\n"
     ]
    },
    {
     "name": "stdout",
     "output_type": "stream",
     "text": [
      "failed, https://s3.amazonaws.com/nyc-tlc/trip+data/yellow_tripdata_2012-09.csv\n",
      "Mismatched dtypes found in `pd.read_csv`/`pd.read_table`.\n",
      "\n",
      "+--------------------+--------+----------+\n",
      "| Column             | Found  | Expected |\n",
      "+--------------------+--------+----------+\n",
      "| store_and_fwd_flag | object | float64  |\n",
      "+--------------------+--------+----------+\n",
      "\n",
      "The following columns also raised exceptions on conversion:\n",
      "\n",
      "- store_and_fwd_flag\n",
      "  ValueError(\"could not convert string to float: 'N'\")\n",
      "\n",
      "Usually this is due to dask's dtype inference failing, and\n",
      "*may* be fixed by specifying dtypes manually by adding:\n",
      "\n",
      "dtype={'store_and_fwd_flag': 'object'}\n",
      "\n",
      "to the call to `read_csv`/`read_table`.\n",
      "https://s3.amazonaws.com/nyc-tlc/trip+data/yellow_tripdata_2012-08.csv\n",
      "https://s3.amazonaws.com/nyc-tlc/trip+data/yellow_tripdata_2012-07.csv\n",
      "https://s3.amazonaws.com/nyc-tlc/trip+data/yellow_tripdata_2012-06.csv\n",
      "failed, https://s3.amazonaws.com/nyc-tlc/trip+data/yellow_tripdata_2012-06.csv\n",
      "Mismatched dtypes found in `pd.read_csv`/`pd.read_table`.\n",
      "\n",
      "+-----------+---------+----------+\n",
      "| Column    | Found   | Expected |\n",
      "+-----------+---------+----------+\n",
      "| surcharge | float64 | int64    |\n",
      "+-----------+---------+----------+\n",
      "\n",
      "Usually this is due to dask's dtype inference failing, and\n",
      "*may* be fixed by specifying dtypes manually by adding:\n",
      "\n",
      "dtype={'surcharge': 'float64'}\n",
      "\n",
      "to the call to `read_csv`/`read_table`.\n",
      "\n",
      "Alternatively, provide `assume_missing=True` to interpret\n",
      "all unspecified integer columns as floats.\n",
      "https://s3.amazonaws.com/nyc-tlc/trip+data/yellow_tripdata_2012-05.csv\n"
     ]
    },
    {
     "name": "stderr",
     "output_type": "stream",
     "text": [
      "/opt/conda/lib/python3.8/site-packages/dask/dataframe/io/csv.py:181: DtypeWarning: Columns (8) have mixed types. Specify dtype option on import or set low_memory=False.\n",
      "  df = reader(bio, **kwargs)\n"
     ]
    },
    {
     "name": "stdout",
     "output_type": "stream",
     "text": [
      "failed, https://s3.amazonaws.com/nyc-tlc/trip+data/yellow_tripdata_2012-05.csv\n",
      "Mismatched dtypes found in `pd.read_csv`/`pd.read_table`.\n",
      "\n",
      "+--------------------+--------+----------+\n",
      "| Column             | Found  | Expected |\n",
      "+--------------------+--------+----------+\n",
      "| store_and_fwd_flag | object | float64  |\n",
      "+--------------------+--------+----------+\n",
      "\n",
      "The following columns also raised exceptions on conversion:\n",
      "\n",
      "- store_and_fwd_flag\n",
      "  ValueError(\"could not convert string to float: 'N'\")\n",
      "\n",
      "Usually this is due to dask's dtype inference failing, and\n",
      "*may* be fixed by specifying dtypes manually by adding:\n",
      "\n",
      "dtype={'store_and_fwd_flag': 'object'}\n",
      "\n",
      "to the call to `read_csv`/`read_table`.\n",
      "https://s3.amazonaws.com/nyc-tlc/trip+data/yellow_tripdata_2012-04.csv\n"
     ]
    },
    {
     "name": "stderr",
     "output_type": "stream",
     "text": [
      "/opt/conda/lib/python3.8/site-packages/dask/dataframe/io/csv.py:181: DtypeWarning: Columns (8) have mixed types. Specify dtype option on import or set low_memory=False.\n",
      "  df = reader(bio, **kwargs)\n",
      "/opt/conda/lib/python3.8/site-packages/dask/dataframe/io/csv.py:181: DtypeWarning: Columns (8) have mixed types. Specify dtype option on import or set low_memory=False.\n",
      "  df = reader(bio, **kwargs)\n",
      "/opt/conda/lib/python3.8/site-packages/dask/dataframe/io/csv.py:181: DtypeWarning: Columns (8) have mixed types. Specify dtype option on import or set low_memory=False.\n",
      "  df = reader(bio, **kwargs)\n"
     ]
    },
    {
     "name": "stdout",
     "output_type": "stream",
     "text": [
      "failed, https://s3.amazonaws.com/nyc-tlc/trip+data/yellow_tripdata_2012-04.csv\n",
      "Mismatched dtypes found in `pd.read_csv`/`pd.read_table`.\n",
      "\n",
      "+-----------+---------+----------+\n",
      "| Column    | Found   | Expected |\n",
      "+-----------+---------+----------+\n",
      "| surcharge | float64 | int64    |\n",
      "+-----------+---------+----------+\n",
      "\n",
      "Usually this is due to dask's dtype inference failing, and\n",
      "*may* be fixed by specifying dtypes manually by adding:\n",
      "\n",
      "dtype={'surcharge': 'float64'}\n",
      "\n",
      "to the call to `read_csv`/`read_table`.\n",
      "\n",
      "Alternatively, provide `assume_missing=True` to interpret\n",
      "all unspecified integer columns as floats.\n",
      "https://s3.amazonaws.com/nyc-tlc/trip+data/yellow_tripdata_2012-03.csv\n"
     ]
    },
    {
     "name": "stderr",
     "output_type": "stream",
     "text": [
      "/opt/conda/lib/python3.8/site-packages/dask/dataframe/io/csv.py:181: DtypeWarning: Columns (8) have mixed types. Specify dtype option on import or set low_memory=False.\n",
      "  df = reader(bio, **kwargs)\n",
      "/opt/conda/lib/python3.8/site-packages/dask/dataframe/io/csv.py:181: DtypeWarning: Columns (8) have mixed types. Specify dtype option on import or set low_memory=False.\n",
      "  df = reader(bio, **kwargs)\n",
      "/opt/conda/lib/python3.8/site-packages/dask/dataframe/io/csv.py:181: DtypeWarning: Columns (8) have mixed types. Specify dtype option on import or set low_memory=False.\n",
      "  df = reader(bio, **kwargs)\n",
      "/opt/conda/lib/python3.8/site-packages/dask/dataframe/io/csv.py:181: DtypeWarning: Columns (8) have mixed types. Specify dtype option on import or set low_memory=False.\n",
      "  df = reader(bio, **kwargs)\n",
      "/opt/conda/lib/python3.8/site-packages/dask/dataframe/io/csv.py:181: DtypeWarning: Columns (8) have mixed types. Specify dtype option on import or set low_memory=False.\n",
      "  df = reader(bio, **kwargs)\n",
      "/opt/conda/lib/python3.8/site-packages/dask/dataframe/io/csv.py:181: DtypeWarning: Columns (8) have mixed types. Specify dtype option on import or set low_memory=False.\n",
      "  df = reader(bio, **kwargs)\n",
      "/opt/conda/lib/python3.8/site-packages/dask/dataframe/io/csv.py:181: DtypeWarning: Columns (8) have mixed types. Specify dtype option on import or set low_memory=False.\n",
      "  df = reader(bio, **kwargs)\n",
      "/opt/conda/lib/python3.8/site-packages/dask/dataframe/io/csv.py:181: DtypeWarning: Columns (8) have mixed types. Specify dtype option on import or set low_memory=False.\n",
      "  df = reader(bio, **kwargs)\n",
      "/opt/conda/lib/python3.8/site-packages/dask/dataframe/io/csv.py:181: DtypeWarning: Columns (8) have mixed types. Specify dtype option on import or set low_memory=False.\n",
      "  df = reader(bio, **kwargs)\n",
      "/opt/conda/lib/python3.8/site-packages/dask/dataframe/io/csv.py:181: DtypeWarning: Columns (8) have mixed types. Specify dtype option on import or set low_memory=False.\n",
      "  df = reader(bio, **kwargs)\n",
      "/opt/conda/lib/python3.8/site-packages/dask/dataframe/io/csv.py:181: DtypeWarning: Columns (8) have mixed types. Specify dtype option on import or set low_memory=False.\n",
      "  df = reader(bio, **kwargs)\n",
      "/opt/conda/lib/python3.8/site-packages/dask/dataframe/io/csv.py:181: DtypeWarning: Columns (8) have mixed types. Specify dtype option on import or set low_memory=False.\n",
      "  df = reader(bio, **kwargs)\n",
      "/opt/conda/lib/python3.8/site-packages/dask/dataframe/io/csv.py:181: DtypeWarning: Columns (8) have mixed types. Specify dtype option on import or set low_memory=False.\n",
      "  df = reader(bio, **kwargs)\n",
      "/opt/conda/lib/python3.8/site-packages/dask/dataframe/io/csv.py:181: DtypeWarning: Columns (8) have mixed types. Specify dtype option on import or set low_memory=False.\n",
      "  df = reader(bio, **kwargs)\n",
      "/opt/conda/lib/python3.8/site-packages/dask/dataframe/io/csv.py:181: DtypeWarning: Columns (8) have mixed types. Specify dtype option on import or set low_memory=False.\n",
      "  df = reader(bio, **kwargs)\n",
      "/opt/conda/lib/python3.8/site-packages/dask/dataframe/io/csv.py:181: DtypeWarning: Columns (8) have mixed types. Specify dtype option on import or set low_memory=False.\n",
      "  df = reader(bio, **kwargs)\n",
      "/opt/conda/lib/python3.8/site-packages/dask/dataframe/io/csv.py:181: DtypeWarning: Columns (8) have mixed types. Specify dtype option on import or set low_memory=False.\n",
      "  df = reader(bio, **kwargs)\n",
      "/opt/conda/lib/python3.8/site-packages/dask/dataframe/io/csv.py:181: DtypeWarning: Columns (8) have mixed types. Specify dtype option on import or set low_memory=False.\n",
      "  df = reader(bio, **kwargs)\n",
      "/opt/conda/lib/python3.8/site-packages/dask/dataframe/io/csv.py:181: DtypeWarning: Columns (8) have mixed types. Specify dtype option on import or set low_memory=False.\n",
      "  df = reader(bio, **kwargs)\n",
      "/opt/conda/lib/python3.8/site-packages/dask/dataframe/io/csv.py:181: DtypeWarning: Columns (8) have mixed types. Specify dtype option on import or set low_memory=False.\n",
      "  df = reader(bio, **kwargs)\n",
      "/opt/conda/lib/python3.8/site-packages/dask/dataframe/io/csv.py:181: DtypeWarning: Columns (8) have mixed types. Specify dtype option on import or set low_memory=False.\n",
      "  df = reader(bio, **kwargs)\n",
      "/opt/conda/lib/python3.8/site-packages/dask/dataframe/io/csv.py:181: DtypeWarning: Columns (8) have mixed types. Specify dtype option on import or set low_memory=False.\n",
      "  df = reader(bio, **kwargs)\n",
      "/opt/conda/lib/python3.8/site-packages/dask/dataframe/io/csv.py:181: DtypeWarning: Columns (8) have mixed types. Specify dtype option on import or set low_memory=False.\n",
      "  df = reader(bio, **kwargs)\n",
      "/opt/conda/lib/python3.8/site-packages/dask/dataframe/io/csv.py:181: DtypeWarning: Columns (8) have mixed types. Specify dtype option on import or set low_memory=False.\n",
      "  df = reader(bio, **kwargs)\n"
     ]
    },
    {
     "name": "stdout",
     "output_type": "stream",
     "text": [
      "https://s3.amazonaws.com/nyc-tlc/trip+data/yellow_tripdata_2012-02.csv\n",
      "failed, https://s3.amazonaws.com/nyc-tlc/trip+data/yellow_tripdata_2012-02.csv\n",
      "Mismatched dtypes found in `pd.read_csv`/`pd.read_table`.\n",
      "\n",
      "+-----------+---------+----------+\n",
      "| Column    | Found   | Expected |\n",
      "+-----------+---------+----------+\n",
      "| surcharge | float64 | int64    |\n",
      "+-----------+---------+----------+\n",
      "\n",
      "Usually this is due to dask's dtype inference failing, and\n",
      "*may* be fixed by specifying dtypes manually by adding:\n",
      "\n",
      "dtype={'surcharge': 'float64'}\n",
      "\n",
      "to the call to `read_csv`/`read_table`.\n",
      "\n",
      "Alternatively, provide `assume_missing=True` to interpret\n",
      "all unspecified integer columns as floats.\n",
      "https://s3.amazonaws.com/nyc-tlc/trip+data/yellow_tripdata_2012-01.csv\n",
      "https://s3.amazonaws.com/nyc-tlc/trip+data/yellow_tripdata_2013-12.csv\n"
     ]
    },
    {
     "name": "stderr",
     "output_type": "stream",
     "text": [
      "/opt/conda/lib/python3.8/site-packages/dask/dataframe/io/csv.py:181: DtypeWarning: Columns (8) have mixed types. Specify dtype option on import or set low_memory=False.\n",
      "  df = reader(bio, **kwargs)\n"
     ]
    },
    {
     "name": "stdout",
     "output_type": "stream",
     "text": [
      "failed, https://s3.amazonaws.com/nyc-tlc/trip+data/yellow_tripdata_2013-12.csv\n",
      "Mismatched dtypes found in `pd.read_csv`/`pd.read_table`.\n",
      "\n",
      "+--------------------+--------+----------+\n",
      "| Column             | Found  | Expected |\n",
      "+--------------------+--------+----------+\n",
      "| store_and_fwd_flag | object | float64  |\n",
      "+--------------------+--------+----------+\n",
      "\n",
      "The following columns also raised exceptions on conversion:\n",
      "\n",
      "- store_and_fwd_flag\n",
      "  ValueError(\"could not convert string to float: 'N'\")\n",
      "\n",
      "Usually this is due to dask's dtype inference failing, and\n",
      "*may* be fixed by specifying dtypes manually by adding:\n",
      "\n",
      "dtype={'store_and_fwd_flag': 'object'}\n",
      "\n",
      "to the call to `read_csv`/`read_table`.\n",
      "https://s3.amazonaws.com/nyc-tlc/trip+data/yellow_tripdata_2013-11.csv\n"
     ]
    },
    {
     "name": "stderr",
     "output_type": "stream",
     "text": [
      "/opt/conda/lib/python3.8/site-packages/dask/dataframe/io/csv.py:181: DtypeWarning: Columns (8) have mixed types. Specify dtype option on import or set low_memory=False.\n",
      "  df = reader(bio, **kwargs)\n",
      "/opt/conda/lib/python3.8/site-packages/dask/dataframe/io/csv.py:181: DtypeWarning: Columns (8) have mixed types. Specify dtype option on import or set low_memory=False.\n",
      "  df = reader(bio, **kwargs)\n",
      "/opt/conda/lib/python3.8/site-packages/dask/dataframe/io/csv.py:181: DtypeWarning: Columns (8) have mixed types. Specify dtype option on import or set low_memory=False.\n",
      "  df = reader(bio, **kwargs)\n",
      "/opt/conda/lib/python3.8/site-packages/dask/dataframe/io/csv.py:181: DtypeWarning: Columns (8) have mixed types. Specify dtype option on import or set low_memory=False.\n",
      "  df = reader(bio, **kwargs)\n",
      "/opt/conda/lib/python3.8/site-packages/dask/dataframe/io/csv.py:181: DtypeWarning: Columns (8) have mixed types. Specify dtype option on import or set low_memory=False.\n",
      "  df = reader(bio, **kwargs)\n",
      "/opt/conda/lib/python3.8/site-packages/dask/dataframe/io/csv.py:181: DtypeWarning: Columns (8) have mixed types. Specify dtype option on import or set low_memory=False.\n",
      "  df = reader(bio, **kwargs)\n",
      "/opt/conda/lib/python3.8/site-packages/dask/dataframe/io/csv.py:181: DtypeWarning: Columns (8) have mixed types. Specify dtype option on import or set low_memory=False.\n",
      "  df = reader(bio, **kwargs)\n",
      "/opt/conda/lib/python3.8/site-packages/dask/dataframe/io/csv.py:181: DtypeWarning: Columns (8) have mixed types. Specify dtype option on import or set low_memory=False.\n",
      "  df = reader(bio, **kwargs)\n",
      "/opt/conda/lib/python3.8/site-packages/dask/dataframe/io/csv.py:181: DtypeWarning: Columns (8) have mixed types. Specify dtype option on import or set low_memory=False.\n",
      "  df = reader(bio, **kwargs)\n",
      "/opt/conda/lib/python3.8/site-packages/dask/dataframe/io/csv.py:181: DtypeWarning: Columns (8) have mixed types. Specify dtype option on import or set low_memory=False.\n",
      "  df = reader(bio, **kwargs)\n",
      "/opt/conda/lib/python3.8/site-packages/dask/dataframe/io/csv.py:181: DtypeWarning: Columns (8) have mixed types. Specify dtype option on import or set low_memory=False.\n",
      "  df = reader(bio, **kwargs)\n",
      "/opt/conda/lib/python3.8/site-packages/dask/dataframe/io/csv.py:181: DtypeWarning: Columns (8) have mixed types. Specify dtype option on import or set low_memory=False.\n",
      "  df = reader(bio, **kwargs)\n",
      "/opt/conda/lib/python3.8/site-packages/dask/dataframe/io/csv.py:181: DtypeWarning: Columns (8) have mixed types. Specify dtype option on import or set low_memory=False.\n",
      "  df = reader(bio, **kwargs)\n",
      "/opt/conda/lib/python3.8/site-packages/dask/dataframe/io/csv.py:181: DtypeWarning: Columns (8) have mixed types. Specify dtype option on import or set low_memory=False.\n",
      "  df = reader(bio, **kwargs)\n",
      "/opt/conda/lib/python3.8/site-packages/dask/dataframe/io/csv.py:181: DtypeWarning: Columns (8) have mixed types. Specify dtype option on import or set low_memory=False.\n",
      "  df = reader(bio, **kwargs)\n",
      "/opt/conda/lib/python3.8/site-packages/dask/dataframe/io/csv.py:181: DtypeWarning: Columns (8) have mixed types. Specify dtype option on import or set low_memory=False.\n",
      "  df = reader(bio, **kwargs)\n",
      "/opt/conda/lib/python3.8/site-packages/dask/dataframe/io/csv.py:181: DtypeWarning: Columns (8) have mixed types. Specify dtype option on import or set low_memory=False.\n",
      "  df = reader(bio, **kwargs)\n",
      "/opt/conda/lib/python3.8/site-packages/dask/dataframe/io/csv.py:181: DtypeWarning: Columns (8) have mixed types. Specify dtype option on import or set low_memory=False.\n",
      "  df = reader(bio, **kwargs)\n",
      "/opt/conda/lib/python3.8/site-packages/dask/dataframe/io/csv.py:181: DtypeWarning: Columns (8) have mixed types. Specify dtype option on import or set low_memory=False.\n",
      "  df = reader(bio, **kwargs)\n",
      "/opt/conda/lib/python3.8/site-packages/dask/dataframe/io/csv.py:181: DtypeWarning: Columns (8) have mixed types. Specify dtype option on import or set low_memory=False.\n",
      "  df = reader(bio, **kwargs)\n",
      "/opt/conda/lib/python3.8/site-packages/dask/dataframe/io/csv.py:181: DtypeWarning: Columns (8) have mixed types. Specify dtype option on import or set low_memory=False.\n",
      "  df = reader(bio, **kwargs)\n"
     ]
    },
    {
     "name": "stdout",
     "output_type": "stream",
     "text": [
      "https://s3.amazonaws.com/nyc-tlc/trip+data/yellow_tripdata_2013-10.csv\n",
      "https://s3.amazonaws.com/nyc-tlc/trip+data/yellow_tripdata_2013-09.csv\n"
     ]
    },
    {
     "name": "stderr",
     "output_type": "stream",
     "text": [
      "/opt/conda/lib/python3.8/site-packages/dask/dataframe/io/csv.py:181: DtypeWarning: Columns (8) have mixed types. Specify dtype option on import or set low_memory=False.\n",
      "  df = reader(bio, **kwargs)\n",
      "/opt/conda/lib/python3.8/site-packages/dask/dataframe/io/csv.py:181: DtypeWarning: Columns (8) have mixed types. Specify dtype option on import or set low_memory=False.\n",
      "  df = reader(bio, **kwargs)\n",
      "/opt/conda/lib/python3.8/site-packages/dask/dataframe/io/csv.py:181: DtypeWarning: Columns (8) have mixed types. Specify dtype option on import or set low_memory=False.\n",
      "  df = reader(bio, **kwargs)\n",
      "/opt/conda/lib/python3.8/site-packages/dask/dataframe/io/csv.py:181: DtypeWarning: Columns (8) have mixed types. Specify dtype option on import or set low_memory=False.\n",
      "  df = reader(bio, **kwargs)\n",
      "/opt/conda/lib/python3.8/site-packages/dask/dataframe/io/csv.py:181: DtypeWarning: Columns (8) have mixed types. Specify dtype option on import or set low_memory=False.\n",
      "  df = reader(bio, **kwargs)\n",
      "/opt/conda/lib/python3.8/site-packages/dask/dataframe/io/csv.py:181: DtypeWarning: Columns (8) have mixed types. Specify dtype option on import or set low_memory=False.\n",
      "  df = reader(bio, **kwargs)\n",
      "/opt/conda/lib/python3.8/site-packages/dask/dataframe/io/csv.py:181: DtypeWarning: Columns (8) have mixed types. Specify dtype option on import or set low_memory=False.\n",
      "  df = reader(bio, **kwargs)\n"
     ]
    },
    {
     "name": "stdout",
     "output_type": "stream",
     "text": [
      "https://s3.amazonaws.com/nyc-tlc/trip+data/yellow_tripdata_2013-08.csv\n"
     ]
    },
    {
     "name": "stderr",
     "output_type": "stream",
     "text": [
      "/opt/conda/lib/python3.8/site-packages/dask/dataframe/io/csv.py:181: DtypeWarning: Columns (8) have mixed types. Specify dtype option on import or set low_memory=False.\n",
      "  df = reader(bio, **kwargs)\n",
      "/opt/conda/lib/python3.8/site-packages/dask/dataframe/io/csv.py:181: DtypeWarning: Columns (8) have mixed types. Specify dtype option on import or set low_memory=False.\n",
      "  df = reader(bio, **kwargs)\n",
      "/opt/conda/lib/python3.8/site-packages/dask/dataframe/io/csv.py:181: DtypeWarning: Columns (8) have mixed types. Specify dtype option on import or set low_memory=False.\n",
      "  df = reader(bio, **kwargs)\n",
      "/opt/conda/lib/python3.8/site-packages/dask/dataframe/io/csv.py:181: DtypeWarning: Columns (8) have mixed types. Specify dtype option on import or set low_memory=False.\n",
      "  df = reader(bio, **kwargs)\n"
     ]
    },
    {
     "name": "stdout",
     "output_type": "stream",
     "text": [
      "https://s3.amazonaws.com/nyc-tlc/trip+data/yellow_tripdata_2013-07.csv\n"
     ]
    },
    {
     "name": "stderr",
     "output_type": "stream",
     "text": [
      "/opt/conda/lib/python3.8/site-packages/dask/dataframe/io/csv.py:181: DtypeWarning: Columns (8) have mixed types. Specify dtype option on import or set low_memory=False.\n",
      "  df = reader(bio, **kwargs)\n"
     ]
    },
    {
     "name": "stdout",
     "output_type": "stream",
     "text": [
      "failed, https://s3.amazonaws.com/nyc-tlc/trip+data/yellow_tripdata_2013-07.csv\n",
      "Mismatched dtypes found in `pd.read_csv`/`pd.read_table`.\n",
      "\n",
      "+--------------------+--------+----------+\n",
      "| Column             | Found  | Expected |\n",
      "+--------------------+--------+----------+\n",
      "| store_and_fwd_flag | object | float64  |\n",
      "+--------------------+--------+----------+\n",
      "\n",
      "The following columns also raised exceptions on conversion:\n",
      "\n",
      "- store_and_fwd_flag\n",
      "  ValueError(\"could not convert string to float: 'N'\")\n",
      "\n",
      "Usually this is due to dask's dtype inference failing, and\n",
      "*may* be fixed by specifying dtypes manually by adding:\n",
      "\n",
      "dtype={'store_and_fwd_flag': 'object'}\n",
      "\n",
      "to the call to `read_csv`/`read_table`.\n",
      "https://s3.amazonaws.com/nyc-tlc/trip+data/yellow_tripdata_2013-06.csv\n"
     ]
    },
    {
     "name": "stderr",
     "output_type": "stream",
     "text": [
      "/opt/conda/lib/python3.8/site-packages/dask/dataframe/io/csv.py:181: DtypeWarning: Columns (8) have mixed types. Specify dtype option on import or set low_memory=False.\n",
      "  df = reader(bio, **kwargs)\n",
      "/opt/conda/lib/python3.8/site-packages/dask/dataframe/io/csv.py:181: DtypeWarning: Columns (8) have mixed types. Specify dtype option on import or set low_memory=False.\n",
      "  df = reader(bio, **kwargs)\n",
      "/opt/conda/lib/python3.8/site-packages/dask/dataframe/io/csv.py:181: DtypeWarning: Columns (8) have mixed types. Specify dtype option on import or set low_memory=False.\n",
      "  df = reader(bio, **kwargs)\n",
      "/opt/conda/lib/python3.8/site-packages/dask/dataframe/io/csv.py:181: DtypeWarning: Columns (8) have mixed types. Specify dtype option on import or set low_memory=False.\n",
      "  df = reader(bio, **kwargs)\n",
      "/opt/conda/lib/python3.8/site-packages/dask/dataframe/io/csv.py:181: DtypeWarning: Columns (8) have mixed types. Specify dtype option on import or set low_memory=False.\n",
      "  df = reader(bio, **kwargs)\n",
      "/opt/conda/lib/python3.8/site-packages/dask/dataframe/io/csv.py:181: DtypeWarning: Columns (8) have mixed types. Specify dtype option on import or set low_memory=False.\n",
      "  df = reader(bio, **kwargs)\n",
      "/opt/conda/lib/python3.8/site-packages/dask/dataframe/io/csv.py:181: DtypeWarning: Columns (8) have mixed types. Specify dtype option on import or set low_memory=False.\n",
      "  df = reader(bio, **kwargs)\n",
      "/opt/conda/lib/python3.8/site-packages/dask/dataframe/io/csv.py:181: DtypeWarning: Columns (8) have mixed types. Specify dtype option on import or set low_memory=False.\n",
      "  df = reader(bio, **kwargs)\n",
      "/opt/conda/lib/python3.8/site-packages/dask/dataframe/io/csv.py:181: DtypeWarning: Columns (8) have mixed types. Specify dtype option on import or set low_memory=False.\n",
      "  df = reader(bio, **kwargs)\n"
     ]
    },
    {
     "name": "stdout",
     "output_type": "stream",
     "text": [
      "https://s3.amazonaws.com/nyc-tlc/trip+data/yellow_tripdata_2013-05.csv\n"
     ]
    },
    {
     "name": "stderr",
     "output_type": "stream",
     "text": [
      "/opt/conda/lib/python3.8/site-packages/dask/dataframe/io/csv.py:181: DtypeWarning: Columns (8) have mixed types. Specify dtype option on import or set low_memory=False.\n",
      "  df = reader(bio, **kwargs)\n"
     ]
    },
    {
     "name": "stdout",
     "output_type": "stream",
     "text": [
      "failed, https://s3.amazonaws.com/nyc-tlc/trip+data/yellow_tripdata_2013-05.csv\n",
      "Mismatched dtypes found in `pd.read_csv`/`pd.read_table`.\n",
      "\n",
      "+--------------------+--------+----------+\n",
      "| Column             | Found  | Expected |\n",
      "+--------------------+--------+----------+\n",
      "| store_and_fwd_flag | object | float64  |\n",
      "+--------------------+--------+----------+\n",
      "\n",
      "The following columns also raised exceptions on conversion:\n",
      "\n",
      "- store_and_fwd_flag\n",
      "  ValueError(\"could not convert string to float: 'N'\")\n",
      "\n",
      "Usually this is due to dask's dtype inference failing, and\n",
      "*may* be fixed by specifying dtypes manually by adding:\n",
      "\n",
      "dtype={'store_and_fwd_flag': 'object'}\n",
      "\n",
      "to the call to `read_csv`/`read_table`.\n",
      "https://s3.amazonaws.com/nyc-tlc/trip+data/yellow_tripdata_2013-04.csv\n"
     ]
    },
    {
     "name": "stderr",
     "output_type": "stream",
     "text": [
      "/opt/conda/lib/python3.8/site-packages/dask/dataframe/io/csv.py:181: DtypeWarning: Columns (8) have mixed types. Specify dtype option on import or set low_memory=False.\n",
      "  df = reader(bio, **kwargs)\n",
      "/opt/conda/lib/python3.8/site-packages/dask/dataframe/io/csv.py:181: DtypeWarning: Columns (8) have mixed types. Specify dtype option on import or set low_memory=False.\n",
      "  df = reader(bio, **kwargs)\n",
      "/opt/conda/lib/python3.8/site-packages/dask/dataframe/io/csv.py:181: DtypeWarning: Columns (8) have mixed types. Specify dtype option on import or set low_memory=False.\n",
      "  df = reader(bio, **kwargs)\n",
      "/opt/conda/lib/python3.8/site-packages/dask/dataframe/io/csv.py:181: DtypeWarning: Columns (8) have mixed types. Specify dtype option on import or set low_memory=False.\n",
      "  df = reader(bio, **kwargs)\n",
      "/opt/conda/lib/python3.8/site-packages/dask/dataframe/io/csv.py:181: DtypeWarning: Columns (8) have mixed types. Specify dtype option on import or set low_memory=False.\n",
      "  df = reader(bio, **kwargs)\n"
     ]
    },
    {
     "name": "stdout",
     "output_type": "stream",
     "text": [
      "https://s3.amazonaws.com/nyc-tlc/trip+data/yellow_tripdata_2013-03.csv\n"
     ]
    },
    {
     "name": "stderr",
     "output_type": "stream",
     "text": [
      "/opt/conda/lib/python3.8/site-packages/dask/dataframe/io/csv.py:181: DtypeWarning: Columns (8) have mixed types. Specify dtype option on import or set low_memory=False.\n",
      "  df = reader(bio, **kwargs)\n",
      "/opt/conda/lib/python3.8/site-packages/dask/dataframe/io/csv.py:181: DtypeWarning: Columns (8) have mixed types. Specify dtype option on import or set low_memory=False.\n",
      "  df = reader(bio, **kwargs)\n",
      "/opt/conda/lib/python3.8/site-packages/dask/dataframe/io/csv.py:181: DtypeWarning: Columns (8) have mixed types. Specify dtype option on import or set low_memory=False.\n",
      "  df = reader(bio, **kwargs)\n",
      "/opt/conda/lib/python3.8/site-packages/dask/dataframe/io/csv.py:181: DtypeWarning: Columns (8) have mixed types. Specify dtype option on import or set low_memory=False.\n",
      "  df = reader(bio, **kwargs)\n",
      "/opt/conda/lib/python3.8/site-packages/dask/dataframe/io/csv.py:181: DtypeWarning: Columns (8) have mixed types. Specify dtype option on import or set low_memory=False.\n",
      "  df = reader(bio, **kwargs)\n",
      "/opt/conda/lib/python3.8/site-packages/dask/dataframe/io/csv.py:181: DtypeWarning: Columns (8) have mixed types. Specify dtype option on import or set low_memory=False.\n",
      "  df = reader(bio, **kwargs)\n",
      "/opt/conda/lib/python3.8/site-packages/dask/dataframe/io/csv.py:181: DtypeWarning: Columns (8) have mixed types. Specify dtype option on import or set low_memory=False.\n",
      "  df = reader(bio, **kwargs)\n",
      "/opt/conda/lib/python3.8/site-packages/dask/dataframe/io/csv.py:181: DtypeWarning: Columns (8) have mixed types. Specify dtype option on import or set low_memory=False.\n",
      "  df = reader(bio, **kwargs)\n",
      "/opt/conda/lib/python3.8/site-packages/dask/dataframe/io/csv.py:181: DtypeWarning: Columns (8) have mixed types. Specify dtype option on import or set low_memory=False.\n",
      "  df = reader(bio, **kwargs)\n",
      "/opt/conda/lib/python3.8/site-packages/dask/dataframe/io/csv.py:181: DtypeWarning: Columns (8) have mixed types. Specify dtype option on import or set low_memory=False.\n",
      "  df = reader(bio, **kwargs)\n",
      "/opt/conda/lib/python3.8/site-packages/dask/dataframe/io/csv.py:181: DtypeWarning: Columns (8) have mixed types. Specify dtype option on import or set low_memory=False.\n",
      "  df = reader(bio, **kwargs)\n"
     ]
    },
    {
     "name": "stdout",
     "output_type": "stream",
     "text": [
      "https://s3.amazonaws.com/nyc-tlc/trip+data/yellow_tripdata_2013-02.csv\n"
     ]
    },
    {
     "name": "stderr",
     "output_type": "stream",
     "text": [
      "/opt/conda/lib/python3.8/site-packages/dask/dataframe/io/csv.py:181: DtypeWarning: Columns (8) have mixed types. Specify dtype option on import or set low_memory=False.\n",
      "  df = reader(bio, **kwargs)\n",
      "/opt/conda/lib/python3.8/site-packages/dask/dataframe/io/csv.py:181: DtypeWarning: Columns (8) have mixed types. Specify dtype option on import or set low_memory=False.\n",
      "  df = reader(bio, **kwargs)\n",
      "/opt/conda/lib/python3.8/site-packages/dask/dataframe/io/csv.py:181: DtypeWarning: Columns (8) have mixed types. Specify dtype option on import or set low_memory=False.\n",
      "  df = reader(bio, **kwargs)\n",
      "/opt/conda/lib/python3.8/site-packages/dask/dataframe/io/csv.py:181: DtypeWarning: Columns (8) have mixed types. Specify dtype option on import or set low_memory=False.\n",
      "  df = reader(bio, **kwargs)\n"
     ]
    },
    {
     "name": "stdout",
     "output_type": "stream",
     "text": [
      "https://s3.amazonaws.com/nyc-tlc/trip+data/yellow_tripdata_2013-01.csv\n"
     ]
    }
   ],
   "source": [
    "import re\n",
    "pattern = '/[^\\/]*\\.csv$/gm'\n",
    "\n",
    "while len(yellow) > 0:\n",
    "    try:\n",
    "        csv_url = yellow.pop()\n",
    "        print(csv_url)\n",
    "    #     get the filename only so I can sort by month / year\n",
    "        csv_name = re.findall(r\"[^\\/]*\\.csv$\",csv_url)[0]\n",
    "        df = dd.read_csv(csv_url,dtype={'tolls_amount': 'float64',\n",
    "                                       'tip_amount': 'float64',\n",
    "                                        'Tip_Amt': 'float64',\n",
    "                                       'Tolls_Amt': 'float64',\n",
    "                                        'surcharge': 'float64',\n",
    "                                        'store_and_fwd_flag': 'object'\n",
    "                                       })\n",
    "\n",
    "        df = df.repartition(npartitions=4)\n",
    "        df.to_parquet(f's3://mika/dask_sandbox/nyc_{csv_name}',\n",
    "                      compression=\"gzip\",\n",
    "                      storage_options=minio_storage_options, \n",
    "                      engine=\"pyarrow\")\n",
    "    except Exception as e:\n",
    "        print(f\"failed, {csv_url}\")\n",
    "        print(e)"
   ]
  },
  {
   "cell_type": "code",
   "execution_count": 52,
   "id": "4e6a689d-d843-455a-84e3-cdca45ce3bea",
   "metadata": {},
   "outputs": [
    {
     "name": "stdout",
     "output_type": "stream",
     "text": [
      "https://s3.amazonaws.com/nyc-tlc/trip+data/yellow_tripdata_2009-10.csv\n"
     ]
    }
   ],
   "source": []
  },
  {
   "cell_type": "code",
   "execution_count": 54,
   "id": "d06926fd-befc-4c3b-be63-847487404ae7",
   "metadata": {},
   "outputs": [
    {
     "data": {
      "text/plain": [
       "list"
      ]
     },
     "execution_count": 54,
     "metadata": {},
     "output_type": "execute_result"
    }
   ],
   "source": []
  },
  {
   "cell_type": "code",
   "execution_count": 55,
   "id": "d44c6313-da02-4fc4-8bf9-a091af7101cf",
   "metadata": {},
   "outputs": [
    {
     "name": "stdout",
     "output_type": "stream",
     "text": [
      "s3://mika/dask_sandbox/nyc_yellow_tripdata_2009-10.csv\n"
     ]
    }
   ],
   "source": []
  },
  {
   "cell_type": "code",
   "execution_count": null,
   "id": "49a31499-e6ba-4665-8bef-633a0feec52f",
   "metadata": {},
   "outputs": [],
   "source": []
  },
  {
   "cell_type": "code",
   "execution_count": null,
   "id": "43b3e065-d61e-4fd2-b634-76376398952a",
   "metadata": {},
   "outputs": [],
   "source": []
  },
  {
   "cell_type": "code",
   "execution_count": 17,
   "id": "efd9804c-f1ac-4917-8ca4-c185884dd17f",
   "metadata": {},
   "outputs": [],
   "source": []
  },
  {
   "cell_type": "code",
   "execution_count": 27,
   "id": "bdca28a3-d593-411a-8851-778bc174d525",
   "metadata": {},
   "outputs": [],
   "source": [
    "    "
   ]
  },
  {
   "cell_type": "code",
   "execution_count": 32,
   "id": "1c402a13-ad0d-4919-bb13-558ca9a2f6e1",
   "metadata": {
    "collapsed": true,
    "jupyter": {
     "outputs_hidden": true
    },
    "tags": []
   },
   "outputs": [
    {
     "name": "stderr",
     "output_type": "stream",
     "text": [
      "/opt/conda/lib/python3.8/site-packages/dask/dataframe/io/csv.py:181: DtypeWarning: Columns (8) have mixed types. Specify dtype option on import or set low_memory=False.\n",
      "  df = reader(bio, **kwargs)\n",
      "/opt/conda/lib/python3.8/site-packages/dask/dataframe/io/csv.py:181: DtypeWarning: Columns (8) have mixed types. Specify dtype option on import or set low_memory=False.\n",
      "  df = reader(bio, **kwargs)\n",
      "/opt/conda/lib/python3.8/site-packages/dask/dataframe/io/csv.py:181: DtypeWarning: Columns (8) have mixed types. Specify dtype option on import or set low_memory=False.\n",
      "  df = reader(bio, **kwargs)\n",
      "/opt/conda/lib/python3.8/site-packages/dask/dataframe/io/csv.py:181: DtypeWarning: Columns (8) have mixed types. Specify dtype option on import or set low_memory=False.\n",
      "  df = reader(bio, **kwargs)\n",
      "/opt/conda/lib/python3.8/site-packages/dask/dataframe/io/csv.py:181: DtypeWarning: Columns (8) have mixed types. Specify dtype option on import or set low_memory=False.\n",
      "  df = reader(bio, **kwargs)\n",
      "/opt/conda/lib/python3.8/site-packages/dask/dataframe/io/csv.py:181: DtypeWarning: Columns (8) have mixed types. Specify dtype option on import or set low_memory=False.\n",
      "  df = reader(bio, **kwargs)\n",
      "/opt/conda/lib/python3.8/site-packages/dask/dataframe/io/csv.py:181: DtypeWarning: Columns (8) have mixed types. Specify dtype option on import or set low_memory=False.\n",
      "  df = reader(bio, **kwargs)\n",
      "/opt/conda/lib/python3.8/site-packages/dask/dataframe/io/csv.py:181: DtypeWarning: Columns (8) have mixed types. Specify dtype option on import or set low_memory=False.\n",
      "  df = reader(bio, **kwargs)\n",
      "/opt/conda/lib/python3.8/site-packages/dask/dataframe/io/csv.py:181: DtypeWarning: Columns (8) have mixed types. Specify dtype option on import or set low_memory=False.\n",
      "  df = reader(bio, **kwargs)\n",
      "/opt/conda/lib/python3.8/site-packages/dask/dataframe/io/csv.py:181: DtypeWarning: Columns (8) have mixed types. Specify dtype option on import or set low_memory=False.\n",
      "  df = reader(bio, **kwargs)\n",
      "/opt/conda/lib/python3.8/site-packages/dask/dataframe/io/csv.py:181: DtypeWarning: Columns (8) have mixed types. Specify dtype option on import or set low_memory=False.\n",
      "  df = reader(bio, **kwargs)\n",
      "/opt/conda/lib/python3.8/site-packages/dask/dataframe/io/csv.py:181: DtypeWarning: Columns (8) have mixed types. Specify dtype option on import or set low_memory=False.\n",
      "  df = reader(bio, **kwargs)\n",
      "/opt/conda/lib/python3.8/site-packages/dask/dataframe/io/csv.py:181: DtypeWarning: Columns (8) have mixed types. Specify dtype option on import or set low_memory=False.\n",
      "  df = reader(bio, **kwargs)\n",
      "/opt/conda/lib/python3.8/site-packages/dask/dataframe/io/csv.py:181: DtypeWarning: Columns (8) have mixed types. Specify dtype option on import or set low_memory=False.\n",
      "  df = reader(bio, **kwargs)\n",
      "/opt/conda/lib/python3.8/site-packages/dask/dataframe/io/csv.py:181: DtypeWarning: Columns (8) have mixed types. Specify dtype option on import or set low_memory=False.\n",
      "  df = reader(bio, **kwargs)\n",
      "/opt/conda/lib/python3.8/site-packages/dask/dataframe/io/csv.py:181: DtypeWarning: Columns (8) have mixed types. Specify dtype option on import or set low_memory=False.\n",
      "  df = reader(bio, **kwargs)\n",
      "/opt/conda/lib/python3.8/site-packages/dask/dataframe/io/csv.py:181: DtypeWarning: Columns (8) have mixed types. Specify dtype option on import or set low_memory=False.\n",
      "  df = reader(bio, **kwargs)\n",
      "/opt/conda/lib/python3.8/site-packages/dask/dataframe/io/csv.py:181: DtypeWarning: Columns (8) have mixed types. Specify dtype option on import or set low_memory=False.\n",
      "  df = reader(bio, **kwargs)\n"
     ]
    },
    {
     "data": {
      "text/plain": [
       "(None,)"
      ]
     },
     "execution_count": 32,
     "metadata": {},
     "output_type": "execute_result"
    }
   ],
   "source": []
  },
  {
   "cell_type": "code",
   "execution_count": null,
   "id": "2645f0bd-4d3e-4c38-ad19-6c9f86a1c6e7",
   "metadata": {},
   "outputs": [],
   "source": []
  },
  {
   "cell_type": "code",
   "execution_count": null,
   "id": "56ef6056-9429-4f4e-ba06-9010b65f8c48",
   "metadata": {},
   "outputs": [],
   "source": []
  },
  {
   "cell_type": "code",
   "execution_count": null,
   "id": "c08e4e98-9657-46ae-8437-020bcf2d5461",
   "metadata": {},
   "outputs": [],
   "source": []
  },
  {
   "cell_type": "code",
   "execution_count": null,
   "id": "7d0b90b6-320c-40e2-9b8e-0628719a7ceb",
   "metadata": {},
   "outputs": [],
   "source": []
  },
  {
   "cell_type": "code",
   "execution_count": null,
   "id": "8e01d1dc-74f4-45fa-9fdf-4f64ab42819d",
   "metadata": {},
   "outputs": [],
   "source": []
  }
 ],
 "metadata": {
  "kernelspec": {
   "display_name": "Python 3 (ipykernel)",
   "language": "python",
   "name": "python3"
  },
  "language_info": {
   "codemirror_mode": {
    "name": "ipython",
    "version": 3
   },
   "file_extension": ".py",
   "mimetype": "text/x-python",
   "name": "python",
   "nbconvert_exporter": "python",
   "pygments_lexer": "ipython3",
   "version": "3.8.12"
  }
 },
 "nbformat": 4,
 "nbformat_minor": 5
}
